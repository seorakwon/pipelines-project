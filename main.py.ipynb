{
 "cells": [
  {
   "cell_type": "code",
   "execution_count": 1,
   "metadata": {},
   "outputs": [],
   "source": [
    "import pandas as pd\n",
    "import datetime\n",
    "import re\n",
    "import requests\n",
    "from bs4 import BeautifulSoup\n",
    "import numpy as np"
   ]
  },
  {
   "cell_type": "code",
   "execution_count": 5,
   "metadata": {},
   "outputs": [
    {
     "ename": "FileNotFoundError",
     "evalue": "[Errno 2] File b'../input/Airplane_Crashes_and_Fatalities_Since_1908_20190820105639.csv' does not exist: b'../input/Airplane_Crashes_and_Fatalities_Since_1908_20190820105639.csv'",
     "output_type": "error",
     "traceback": [
      "\u001b[0;31m---------------------------------------------------------------------------\u001b[0m",
      "\u001b[0;31mFileNotFoundError\u001b[0m                         Traceback (most recent call last)",
      "\u001b[0;32m<ipython-input-5-75c4327431fc>\u001b[0m in \u001b[0;36m<module>\u001b[0;34m\u001b[0m\n\u001b[0;32m----> 1\u001b[0;31m \u001b[0mdata\u001b[0m \u001b[0;34m=\u001b[0m \u001b[0mpd\u001b[0m\u001b[0;34m.\u001b[0m\u001b[0mread_csv\u001b[0m\u001b[0;34m(\u001b[0m\u001b[0;34m'../input/Airplane_Crashes_and_Fatalities_Since_1908_20190820105639.csv'\u001b[0m\u001b[0;34m)\u001b[0m\u001b[0;34m\u001b[0m\u001b[0;34m\u001b[0m\u001b[0m\n\u001b[0m\u001b[1;32m      2\u001b[0m \u001b[0mdata\u001b[0m\u001b[0;34m.\u001b[0m\u001b[0mhead\u001b[0m\u001b[0;34m(\u001b[0m\u001b[0;34m)\u001b[0m\u001b[0;34m\u001b[0m\u001b[0;34m\u001b[0m\u001b[0m\n",
      "\u001b[0;32m/usr/local/lib/python3.6/dist-packages/pandas/io/parsers.py\u001b[0m in \u001b[0;36mparser_f\u001b[0;34m(filepath_or_buffer, sep, delimiter, header, names, index_col, usecols, squeeze, prefix, mangle_dupe_cols, dtype, engine, converters, true_values, false_values, skipinitialspace, skiprows, skipfooter, nrows, na_values, keep_default_na, na_filter, verbose, skip_blank_lines, parse_dates, infer_datetime_format, keep_date_col, date_parser, dayfirst, cache_dates, iterator, chunksize, compression, thousands, decimal, lineterminator, quotechar, quoting, doublequote, escapechar, comment, encoding, dialect, error_bad_lines, warn_bad_lines, delim_whitespace, low_memory, memory_map, float_precision)\u001b[0m\n\u001b[1;32m    683\u001b[0m         )\n\u001b[1;32m    684\u001b[0m \u001b[0;34m\u001b[0m\u001b[0m\n\u001b[0;32m--> 685\u001b[0;31m         \u001b[0;32mreturn\u001b[0m \u001b[0m_read\u001b[0m\u001b[0;34m(\u001b[0m\u001b[0mfilepath_or_buffer\u001b[0m\u001b[0;34m,\u001b[0m \u001b[0mkwds\u001b[0m\u001b[0;34m)\u001b[0m\u001b[0;34m\u001b[0m\u001b[0;34m\u001b[0m\u001b[0m\n\u001b[0m\u001b[1;32m    686\u001b[0m \u001b[0;34m\u001b[0m\u001b[0m\n\u001b[1;32m    687\u001b[0m     \u001b[0mparser_f\u001b[0m\u001b[0;34m.\u001b[0m\u001b[0m__name__\u001b[0m \u001b[0;34m=\u001b[0m \u001b[0mname\u001b[0m\u001b[0;34m\u001b[0m\u001b[0;34m\u001b[0m\u001b[0m\n",
      "\u001b[0;32m/usr/local/lib/python3.6/dist-packages/pandas/io/parsers.py\u001b[0m in \u001b[0;36m_read\u001b[0;34m(filepath_or_buffer, kwds)\u001b[0m\n\u001b[1;32m    455\u001b[0m \u001b[0;34m\u001b[0m\u001b[0m\n\u001b[1;32m    456\u001b[0m     \u001b[0;31m# Create the parser.\u001b[0m\u001b[0;34m\u001b[0m\u001b[0;34m\u001b[0m\u001b[0;34m\u001b[0m\u001b[0m\n\u001b[0;32m--> 457\u001b[0;31m     \u001b[0mparser\u001b[0m \u001b[0;34m=\u001b[0m \u001b[0mTextFileReader\u001b[0m\u001b[0;34m(\u001b[0m\u001b[0mfp_or_buf\u001b[0m\u001b[0;34m,\u001b[0m \u001b[0;34m**\u001b[0m\u001b[0mkwds\u001b[0m\u001b[0;34m)\u001b[0m\u001b[0;34m\u001b[0m\u001b[0;34m\u001b[0m\u001b[0m\n\u001b[0m\u001b[1;32m    458\u001b[0m \u001b[0;34m\u001b[0m\u001b[0m\n\u001b[1;32m    459\u001b[0m     \u001b[0;32mif\u001b[0m \u001b[0mchunksize\u001b[0m \u001b[0;32mor\u001b[0m \u001b[0miterator\u001b[0m\u001b[0;34m:\u001b[0m\u001b[0;34m\u001b[0m\u001b[0;34m\u001b[0m\u001b[0m\n",
      "\u001b[0;32m/usr/local/lib/python3.6/dist-packages/pandas/io/parsers.py\u001b[0m in \u001b[0;36m__init__\u001b[0;34m(self, f, engine, **kwds)\u001b[0m\n\u001b[1;32m    893\u001b[0m             \u001b[0mself\u001b[0m\u001b[0;34m.\u001b[0m\u001b[0moptions\u001b[0m\u001b[0;34m[\u001b[0m\u001b[0;34m\"has_index_names\"\u001b[0m\u001b[0;34m]\u001b[0m \u001b[0;34m=\u001b[0m \u001b[0mkwds\u001b[0m\u001b[0;34m[\u001b[0m\u001b[0;34m\"has_index_names\"\u001b[0m\u001b[0;34m]\u001b[0m\u001b[0;34m\u001b[0m\u001b[0;34m\u001b[0m\u001b[0m\n\u001b[1;32m    894\u001b[0m \u001b[0;34m\u001b[0m\u001b[0m\n\u001b[0;32m--> 895\u001b[0;31m         \u001b[0mself\u001b[0m\u001b[0;34m.\u001b[0m\u001b[0m_make_engine\u001b[0m\u001b[0;34m(\u001b[0m\u001b[0mself\u001b[0m\u001b[0;34m.\u001b[0m\u001b[0mengine\u001b[0m\u001b[0;34m)\u001b[0m\u001b[0;34m\u001b[0m\u001b[0;34m\u001b[0m\u001b[0m\n\u001b[0m\u001b[1;32m    896\u001b[0m \u001b[0;34m\u001b[0m\u001b[0m\n\u001b[1;32m    897\u001b[0m     \u001b[0;32mdef\u001b[0m \u001b[0mclose\u001b[0m\u001b[0;34m(\u001b[0m\u001b[0mself\u001b[0m\u001b[0;34m)\u001b[0m\u001b[0;34m:\u001b[0m\u001b[0;34m\u001b[0m\u001b[0;34m\u001b[0m\u001b[0m\n",
      "\u001b[0;32m/usr/local/lib/python3.6/dist-packages/pandas/io/parsers.py\u001b[0m in \u001b[0;36m_make_engine\u001b[0;34m(self, engine)\u001b[0m\n\u001b[1;32m   1133\u001b[0m     \u001b[0;32mdef\u001b[0m \u001b[0m_make_engine\u001b[0m\u001b[0;34m(\u001b[0m\u001b[0mself\u001b[0m\u001b[0;34m,\u001b[0m \u001b[0mengine\u001b[0m\u001b[0;34m=\u001b[0m\u001b[0;34m\"c\"\u001b[0m\u001b[0;34m)\u001b[0m\u001b[0;34m:\u001b[0m\u001b[0;34m\u001b[0m\u001b[0;34m\u001b[0m\u001b[0m\n\u001b[1;32m   1134\u001b[0m         \u001b[0;32mif\u001b[0m \u001b[0mengine\u001b[0m \u001b[0;34m==\u001b[0m \u001b[0;34m\"c\"\u001b[0m\u001b[0;34m:\u001b[0m\u001b[0;34m\u001b[0m\u001b[0;34m\u001b[0m\u001b[0m\n\u001b[0;32m-> 1135\u001b[0;31m             \u001b[0mself\u001b[0m\u001b[0;34m.\u001b[0m\u001b[0m_engine\u001b[0m \u001b[0;34m=\u001b[0m \u001b[0mCParserWrapper\u001b[0m\u001b[0;34m(\u001b[0m\u001b[0mself\u001b[0m\u001b[0;34m.\u001b[0m\u001b[0mf\u001b[0m\u001b[0;34m,\u001b[0m \u001b[0;34m**\u001b[0m\u001b[0mself\u001b[0m\u001b[0;34m.\u001b[0m\u001b[0moptions\u001b[0m\u001b[0;34m)\u001b[0m\u001b[0;34m\u001b[0m\u001b[0;34m\u001b[0m\u001b[0m\n\u001b[0m\u001b[1;32m   1136\u001b[0m         \u001b[0;32melse\u001b[0m\u001b[0;34m:\u001b[0m\u001b[0;34m\u001b[0m\u001b[0;34m\u001b[0m\u001b[0m\n\u001b[1;32m   1137\u001b[0m             \u001b[0;32mif\u001b[0m \u001b[0mengine\u001b[0m \u001b[0;34m==\u001b[0m \u001b[0;34m\"python\"\u001b[0m\u001b[0;34m:\u001b[0m\u001b[0;34m\u001b[0m\u001b[0;34m\u001b[0m\u001b[0m\n",
      "\u001b[0;32m/usr/local/lib/python3.6/dist-packages/pandas/io/parsers.py\u001b[0m in \u001b[0;36m__init__\u001b[0;34m(self, src, **kwds)\u001b[0m\n\u001b[1;32m   1915\u001b[0m         \u001b[0mkwds\u001b[0m\u001b[0;34m[\u001b[0m\u001b[0;34m\"usecols\"\u001b[0m\u001b[0;34m]\u001b[0m \u001b[0;34m=\u001b[0m \u001b[0mself\u001b[0m\u001b[0;34m.\u001b[0m\u001b[0musecols\u001b[0m\u001b[0;34m\u001b[0m\u001b[0;34m\u001b[0m\u001b[0m\n\u001b[1;32m   1916\u001b[0m \u001b[0;34m\u001b[0m\u001b[0m\n\u001b[0;32m-> 1917\u001b[0;31m         \u001b[0mself\u001b[0m\u001b[0;34m.\u001b[0m\u001b[0m_reader\u001b[0m \u001b[0;34m=\u001b[0m \u001b[0mparsers\u001b[0m\u001b[0;34m.\u001b[0m\u001b[0mTextReader\u001b[0m\u001b[0;34m(\u001b[0m\u001b[0msrc\u001b[0m\u001b[0;34m,\u001b[0m \u001b[0;34m**\u001b[0m\u001b[0mkwds\u001b[0m\u001b[0;34m)\u001b[0m\u001b[0;34m\u001b[0m\u001b[0;34m\u001b[0m\u001b[0m\n\u001b[0m\u001b[1;32m   1918\u001b[0m         \u001b[0mself\u001b[0m\u001b[0;34m.\u001b[0m\u001b[0munnamed_cols\u001b[0m \u001b[0;34m=\u001b[0m \u001b[0mself\u001b[0m\u001b[0;34m.\u001b[0m\u001b[0m_reader\u001b[0m\u001b[0;34m.\u001b[0m\u001b[0munnamed_cols\u001b[0m\u001b[0;34m\u001b[0m\u001b[0;34m\u001b[0m\u001b[0m\n\u001b[1;32m   1919\u001b[0m \u001b[0;34m\u001b[0m\u001b[0m\n",
      "\u001b[0;32mpandas/_libs/parsers.pyx\u001b[0m in \u001b[0;36mpandas._libs.parsers.TextReader.__cinit__\u001b[0;34m()\u001b[0m\n",
      "\u001b[0;32mpandas/_libs/parsers.pyx\u001b[0m in \u001b[0;36mpandas._libs.parsers.TextReader._setup_parser_source\u001b[0;34m()\u001b[0m\n",
      "\u001b[0;31mFileNotFoundError\u001b[0m: [Errno 2] File b'../input/Airplane_Crashes_and_Fatalities_Since_1908_20190820105639.csv' does not exist: b'../input/Airplane_Crashes_and_Fatalities_Since_1908_20190820105639.csv'"
     ]
    }
   ],
   "source": [
    "data = pd.read_csv('../input/Airplane_Crashes_and_Fatalities_Since_1908_20190820105639.csv')\n",
    "data.head()"
   ]
  },
  {
   "cell_type": "code",
   "execution_count": 3,
   "metadata": {},
   "outputs": [
    {
     "ename": "NameError",
     "evalue": "name 'data' is not defined",
     "output_type": "error",
     "traceback": [
      "\u001b[0;31m---------------------------------------------------------------------------\u001b[0m",
      "\u001b[0;31mNameError\u001b[0m                                 Traceback (most recent call last)",
      "\u001b[0;32m<ipython-input-3-047ed65ff157>\u001b[0m in \u001b[0;36m<module>\u001b[0;34m\u001b[0m\n\u001b[0;32m----> 1\u001b[0;31m \u001b[0mdata\u001b[0m\u001b[0;34m.\u001b[0m\u001b[0mshape\u001b[0m\u001b[0;34m\u001b[0m\u001b[0;34m\u001b[0m\u001b[0m\n\u001b[0m",
      "\u001b[0;31mNameError\u001b[0m: name 'data' is not defined"
     ]
    }
   ],
   "source": [
    "data.shape"
   ]
  },
  {
   "cell_type": "code",
   "execution_count": 7,
   "metadata": {},
   "outputs": [
    {
     "ename": "NameError",
     "evalue": "name 'data' is not defined",
     "output_type": "error",
     "traceback": [
      "\u001b[0;31m---------------------------------------------------------------------------\u001b[0m",
      "\u001b[0;31mNameError\u001b[0m                                 Traceback (most recent call last)",
      "\u001b[0;32m<ipython-input-7-61cf3295a4dd>\u001b[0m in \u001b[0;36m<module>\u001b[0;34m\u001b[0m\n\u001b[0;32m----> 1\u001b[0;31m \u001b[0mprint\u001b[0m\u001b[0;34m(\u001b[0m\u001b[0mdata\u001b[0m\u001b[0;34m.\u001b[0m\u001b[0mcolumns\u001b[0m\u001b[0;34m)\u001b[0m\u001b[0;34m\u001b[0m\u001b[0;34m\u001b[0m\u001b[0m\n\u001b[0m",
      "\u001b[0;31mNameError\u001b[0m: name 'data' is not defined"
     ]
    }
   ],
   "source": [
    "print(data.columns)"
   ]
  },
  {
   "cell_type": "code",
   "execution_count": 10,
   "metadata": {},
   "outputs": [
    {
     "ename": "NameError",
     "evalue": "name 'data' is not defined",
     "output_type": "error",
     "traceback": [
      "\u001b[0;31m---------------------------------------------------------------------------\u001b[0m",
      "\u001b[0;31mNameError\u001b[0m                                 Traceback (most recent call last)",
      "\u001b[0;32m<ipython-input-10-dbe90075144a>\u001b[0m in \u001b[0;36m<module>\u001b[0;34m\u001b[0m\n\u001b[1;32m      1\u001b[0m \u001b[0;31m# Selecting columns that are relevant to  \"\"\u001b[0m\u001b[0;34m\u001b[0m\u001b[0;34m\u001b[0m\u001b[0;34m\u001b[0m\u001b[0m\n\u001b[1;32m      2\u001b[0m \u001b[0;34m\u001b[0m\u001b[0m\n\u001b[0;32m----> 3\u001b[0;31m \u001b[0mdata1\u001b[0m \u001b[0;34m=\u001b[0m \u001b[0mdata\u001b[0m\u001b[0;34m[\u001b[0m\u001b[0;34m[\u001b[0m\u001b[0;34m\"Date\"\u001b[0m\u001b[0;34m,\u001b[0m\u001b[0;34m\"Time\"\u001b[0m\u001b[0;34m,\u001b[0m \u001b[0;34m\"Location\"\u001b[0m\u001b[0;34m,\u001b[0m \u001b[0;34m\"Operator\"\u001b[0m\u001b[0;34m,\u001b[0m \u001b[0;34m\"Fatalities\"\u001b[0m\u001b[0;34m,\u001b[0m \u001b[0;34m\"Summary\"\u001b[0m\u001b[0;34m]\u001b[0m\u001b[0;34m]\u001b[0m\u001b[0;34m\u001b[0m\u001b[0;34m\u001b[0m\u001b[0m\n\u001b[0m\u001b[1;32m      4\u001b[0m \u001b[0;34m\u001b[0m\u001b[0m\n\u001b[1;32m      5\u001b[0m \u001b[0mdata1\u001b[0m\u001b[0;34m.\u001b[0m\u001b[0mhead\u001b[0m\u001b[0;34m(\u001b[0m\u001b[0;34m)\u001b[0m\u001b[0;34m\u001b[0m\u001b[0;34m\u001b[0m\u001b[0m\n",
      "\u001b[0;31mNameError\u001b[0m: name 'data' is not defined"
     ]
    }
   ],
   "source": [
    "# Selecting columns that are relevant to  \"\"\n",
    "\n",
    "data1 = data[[\"Date\",\"Time\", \"Location\", \"Operator\", \"Fatalities\", \"Summary\"]]\n",
    "\n",
    "data1.head()"
   ]
  },
  {
   "cell_type": "code",
   "execution_count": 7,
   "metadata": {},
   "outputs": [
    {
     "data": {
      "text/plain": [
       "(4967, 6)"
      ]
     },
     "execution_count": 7,
     "metadata": {},
     "output_type": "execute_result"
    }
   ],
   "source": [
    "data1.shape"
   ]
  },
  {
   "cell_type": "code",
   "execution_count": 8,
   "metadata": {},
   "outputs": [
    {
     "data": {
      "text/plain": [
       "Date             0\n",
       "Time          1510\n",
       "Location         4\n",
       "Operator        10\n",
       "Fatalities       8\n",
       "Summary         64\n",
       "dtype: int64"
      ]
     },
     "execution_count": 8,
     "metadata": {},
     "output_type": "execute_result"
    }
   ],
   "source": [
    "# Checking for null columns \n",
    "\n",
    "null_cols = data1.isnull().sum()\n",
    "null_cols"
   ]
  },
  {
   "cell_type": "code",
   "execution_count": 9,
   "metadata": {},
   "outputs": [
    {
     "data": {
      "text/html": [
       "<div>\n",
       "<style scoped>\n",
       "    .dataframe tbody tr th:only-of-type {\n",
       "        vertical-align: middle;\n",
       "    }\n",
       "\n",
       "    .dataframe tbody tr th {\n",
       "        vertical-align: top;\n",
       "    }\n",
       "\n",
       "    .dataframe thead th {\n",
       "        text-align: right;\n",
       "    }\n",
       "</style>\n",
       "<table border=\"1\" class=\"dataframe\">\n",
       "  <thead>\n",
       "    <tr style=\"text-align: right;\">\n",
       "      <th></th>\n",
       "      <th>Date</th>\n",
       "      <th>Location</th>\n",
       "      <th>Operator</th>\n",
       "      <th>Fatalities</th>\n",
       "      <th>Summary</th>\n",
       "    </tr>\n",
       "  </thead>\n",
       "  <tbody>\n",
       "    <tr>\n",
       "      <th>0</th>\n",
       "      <td>09/17/1908</td>\n",
       "      <td>Fort Myer, Virginia</td>\n",
       "      <td>Military - U.S. Army</td>\n",
       "      <td>1.0</td>\n",
       "      <td>During a demonstration flight, a U.S. Army fly...</td>\n",
       "    </tr>\n",
       "    <tr>\n",
       "      <th>1</th>\n",
       "      <td>09/07/1909</td>\n",
       "      <td>Juvisy-sur-Orge, France</td>\n",
       "      <td>NaN</td>\n",
       "      <td>1.0</td>\n",
       "      <td>Eugene Lefebvre was the first pilot to ever be...</td>\n",
       "    </tr>\n",
       "    <tr>\n",
       "      <th>2</th>\n",
       "      <td>07/12/1912</td>\n",
       "      <td>Atlantic City, New Jersey</td>\n",
       "      <td>Military - U.S. Navy</td>\n",
       "      <td>5.0</td>\n",
       "      <td>First U.S. dirigible Akron exploded just offsh...</td>\n",
       "    </tr>\n",
       "    <tr>\n",
       "      <th>3</th>\n",
       "      <td>08/06/1913</td>\n",
       "      <td>Victoria, British Columbia, Canada</td>\n",
       "      <td>Private</td>\n",
       "      <td>1.0</td>\n",
       "      <td>The first fatal airplane accident in Canada oc...</td>\n",
       "    </tr>\n",
       "    <tr>\n",
       "      <th>4</th>\n",
       "      <td>09/09/1913</td>\n",
       "      <td>Over the North Sea</td>\n",
       "      <td>Military - German Navy</td>\n",
       "      <td>14.0</td>\n",
       "      <td>The airship flew into a thunderstorm and encou...</td>\n",
       "    </tr>\n",
       "  </tbody>\n",
       "</table>\n",
       "</div>"
      ],
      "text/plain": [
       "         Date                            Location                Operator  \\\n",
       "0  09/17/1908                 Fort Myer, Virginia    Military - U.S. Army   \n",
       "1  09/07/1909             Juvisy-sur-Orge, France                     NaN   \n",
       "2  07/12/1912           Atlantic City, New Jersey    Military - U.S. Navy   \n",
       "3  08/06/1913  Victoria, British Columbia, Canada                 Private   \n",
       "4  09/09/1913                  Over the North Sea  Military - German Navy   \n",
       "\n",
       "   Fatalities                                            Summary  \n",
       "0         1.0  During a demonstration flight, a U.S. Army fly...  \n",
       "1         1.0  Eugene Lefebvre was the first pilot to ever be...  \n",
       "2         5.0  First U.S. dirigible Akron exploded just offsh...  \n",
       "3         1.0  The first fatal airplane accident in Canada oc...  \n",
       "4        14.0  The airship flew into a thunderstorm and encou...  "
      ]
     },
     "execution_count": 9,
     "metadata": {},
     "output_type": "execute_result"
    }
   ],
   "source": [
    "# Seeing that around 30% of the Time data is missing, decided to do without the time that the accident occured, and hence this column was dropped\n",
    "\n",
    "data2 = data1.drop(\"Time\", axis=1)\n",
    "\n",
    "data2.head()"
   ]
  },
  {
   "cell_type": "code",
   "execution_count": 10,
   "metadata": {},
   "outputs": [
    {
     "data": {
      "text/html": [
       "<div>\n",
       "<style scoped>\n",
       "    .dataframe tbody tr th:only-of-type {\n",
       "        vertical-align: middle;\n",
       "    }\n",
       "\n",
       "    .dataframe tbody tr th {\n",
       "        vertical-align: top;\n",
       "    }\n",
       "\n",
       "    .dataframe thead th {\n",
       "        text-align: right;\n",
       "    }\n",
       "</style>\n",
       "<table border=\"1\" class=\"dataframe\">\n",
       "  <thead>\n",
       "    <tr style=\"text-align: right;\">\n",
       "      <th></th>\n",
       "      <th>Date</th>\n",
       "      <th>Location</th>\n",
       "      <th>Operator</th>\n",
       "      <th>Fatalities</th>\n",
       "      <th>Summary</th>\n",
       "    </tr>\n",
       "  </thead>\n",
       "  <tbody>\n",
       "    <tr>\n",
       "      <th>0</th>\n",
       "      <td>09/17/1908</td>\n",
       "      <td>Fort Myer, Virginia</td>\n",
       "      <td>Military - U.S. Army</td>\n",
       "      <td>1.0</td>\n",
       "      <td>During a demonstration flight, a U.S. Army fly...</td>\n",
       "    </tr>\n",
       "    <tr>\n",
       "      <th>2</th>\n",
       "      <td>07/12/1912</td>\n",
       "      <td>Atlantic City, New Jersey</td>\n",
       "      <td>Military - U.S. Navy</td>\n",
       "      <td>5.0</td>\n",
       "      <td>First U.S. dirigible Akron exploded just offsh...</td>\n",
       "    </tr>\n",
       "    <tr>\n",
       "      <th>3</th>\n",
       "      <td>08/06/1913</td>\n",
       "      <td>Victoria, British Columbia, Canada</td>\n",
       "      <td>Private</td>\n",
       "      <td>1.0</td>\n",
       "      <td>The first fatal airplane accident in Canada oc...</td>\n",
       "    </tr>\n",
       "    <tr>\n",
       "      <th>4</th>\n",
       "      <td>09/09/1913</td>\n",
       "      <td>Over the North Sea</td>\n",
       "      <td>Military - German Navy</td>\n",
       "      <td>14.0</td>\n",
       "      <td>The airship flew into a thunderstorm and encou...</td>\n",
       "    </tr>\n",
       "    <tr>\n",
       "      <th>5</th>\n",
       "      <td>10/17/1913</td>\n",
       "      <td>Near Johannisthal, Germany</td>\n",
       "      <td>Military - German Navy</td>\n",
       "      <td>30.0</td>\n",
       "      <td>Hydrogen gas which was being vented was sucked...</td>\n",
       "    </tr>\n",
       "    <tr>\n",
       "      <th>...</th>\n",
       "      <td>...</td>\n",
       "      <td>...</td>\n",
       "      <td>...</td>\n",
       "      <td>...</td>\n",
       "      <td>...</td>\n",
       "    </tr>\n",
       "    <tr>\n",
       "      <th>4962</th>\n",
       "      <td>04/16/2019</td>\n",
       "      <td>Puerto Montt, Chile</td>\n",
       "      <td>Archipelagos Service Aereos</td>\n",
       "      <td>6.0</td>\n",
       "      <td>While the aircraft was in the initial climb, p...</td>\n",
       "    </tr>\n",
       "    <tr>\n",
       "      <th>4963</th>\n",
       "      <td>05/05/2019</td>\n",
       "      <td>Near Monclava, Mexico</td>\n",
       "      <td>TVPX Aircraft Solutions</td>\n",
       "      <td>13.0</td>\n",
       "      <td>The aircraft crashed while en route on a retur...</td>\n",
       "    </tr>\n",
       "    <tr>\n",
       "      <th>4964</th>\n",
       "      <td>05/05/2019</td>\n",
       "      <td>Moscow, Russia</td>\n",
       "      <td>Aeroflot Russian International Airlines</td>\n",
       "      <td>41.0</td>\n",
       "      <td>Forty-five minutes after taking off from Mosco...</td>\n",
       "    </tr>\n",
       "    <tr>\n",
       "      <th>4965</th>\n",
       "      <td>06/03/2019</td>\n",
       "      <td>Near Lipo, India</td>\n",
       "      <td>Military - Indian Air Force</td>\n",
       "      <td>13.0</td>\n",
       "      <td>Crashed about 34km WNW of Mechuka.</td>\n",
       "    </tr>\n",
       "    <tr>\n",
       "      <th>4966</th>\n",
       "      <td>07/30/2019</td>\n",
       "      <td>Rawalpindi, India</td>\n",
       "      <td>Military - Pakistan Army</td>\n",
       "      <td>5.0</td>\n",
       "      <td>The Pakistani military plane, on a training fl...</td>\n",
       "    </tr>\n",
       "  </tbody>\n",
       "</table>\n",
       "<p>4886 rows × 5 columns</p>\n",
       "</div>"
      ],
      "text/plain": [
       "            Date                            Location  \\\n",
       "0     09/17/1908                 Fort Myer, Virginia   \n",
       "2     07/12/1912           Atlantic City, New Jersey   \n",
       "3     08/06/1913  Victoria, British Columbia, Canada   \n",
       "4     09/09/1913                  Over the North Sea   \n",
       "5     10/17/1913          Near Johannisthal, Germany   \n",
       "...          ...                                 ...   \n",
       "4962  04/16/2019                 Puerto Montt, Chile   \n",
       "4963  05/05/2019               Near Monclava, Mexico   \n",
       "4964  05/05/2019                      Moscow, Russia   \n",
       "4965  06/03/2019                    Near Lipo, India   \n",
       "4966  07/30/2019                   Rawalpindi, India   \n",
       "\n",
       "                                     Operator  Fatalities  \\\n",
       "0                        Military - U.S. Army         1.0   \n",
       "2                        Military - U.S. Navy         5.0   \n",
       "3                                     Private         1.0   \n",
       "4                      Military - German Navy        14.0   \n",
       "5                      Military - German Navy        30.0   \n",
       "...                                       ...         ...   \n",
       "4962              Archipelagos Service Aereos         6.0   \n",
       "4963                  TVPX Aircraft Solutions        13.0   \n",
       "4964  Aeroflot Russian International Airlines        41.0   \n",
       "4965              Military - Indian Air Force        13.0   \n",
       "4966                 Military - Pakistan Army         5.0   \n",
       "\n",
       "                                                Summary  \n",
       "0     During a demonstration flight, a U.S. Army fly...  \n",
       "2     First U.S. dirigible Akron exploded just offsh...  \n",
       "3     The first fatal airplane accident in Canada oc...  \n",
       "4     The airship flew into a thunderstorm and encou...  \n",
       "5     Hydrogen gas which was being vented was sucked...  \n",
       "...                                                 ...  \n",
       "4962  While the aircraft was in the initial climb, p...  \n",
       "4963  The aircraft crashed while en route on a retur...  \n",
       "4964  Forty-five minutes after taking off from Mosco...  \n",
       "4965                 Crashed about 34km WNW of Mechuka.  \n",
       "4966  The Pakistani military plane, on a training fl...  \n",
       "\n",
       "[4886 rows x 5 columns]"
      ]
     },
     "execution_count": 10,
     "metadata": {},
     "output_type": "execute_result"
    }
   ],
   "source": [
    "# Dropping rows containing null as they are an insignificant number\n",
    "\n",
    "data3 = data2.dropna()\n",
    "\n",
    "data3"
   ]
  },
  {
   "cell_type": "code",
   "execution_count": 11,
   "metadata": {},
   "outputs": [
    {
     "data": {
      "text/plain": [
       "Date          0\n",
       "Location      0\n",
       "Operator      0\n",
       "Fatalities    0\n",
       "Summary       0\n",
       "dtype: int64"
      ]
     },
     "execution_count": 11,
     "metadata": {},
     "output_type": "execute_result"
    }
   ],
   "source": [
    "null_cols = data3.isnull().sum()\n",
    "null_cols"
   ]
  },
  {
   "cell_type": "code",
   "execution_count": 12,
   "metadata": {},
   "outputs": [
    {
     "name": "stdout",
     "output_type": "stream",
     "text": [
      "{0.0, 1.0, 2.0, 3.0, 4.0, 5.0, 6.0, 7.0, 8.0, 9.0, 10.0, 11.0, 12.0, 13.0, 14.0, 15.0, 16.0, 17.0, 18.0, 19.0, 20.0, 21.0, 22.0, 23.0, 24.0, 25.0, 26.0, 27.0, 28.0, 29.0, 30.0, 31.0, 32.0, 33.0, 34.0, 35.0, 36.0, 37.0, 38.0, 39.0, 40.0, 41.0, 42.0, 43.0, 44.0, 45.0, 46.0, 47.0, 48.0, 49.0, 50.0, 51.0, 52.0, 53.0, 54.0, 55.0, 56.0, 57.0, 58.0, 59.0, 60.0, 61.0, 62.0, 63.0, 64.0, 65.0, 66.0, 67.0, 68.0, 69.0, 70.0, 583.0, 72.0, 73.0, 74.0, 75.0, 76.0, 77.0, 78.0, 79.0, 80.0, 81.0, 82.0, 83.0, 84.0, 85.0, 86.0, 87.0, 88.0, 89.0, 90.0, 91.0, 92.0, 93.0, 94.0, 95.0, 96.0, 97.0, 98.0, 99.0, 100.0, 101.0, 102.0, 103.0, 104.0, 106.0, 107.0, 108.0, 109.0, 110.0, 111.0, 112.0, 113.0, 114.0, 115.0, 116.0, 117.0, 118.0, 119.0, 120.0, 121.0, 122.0, 123.0, 124.0, 125.0, 126.0, 127.0, 128.0, 129.0, 130.0, 131.0, 132.0, 133.0, 134.0, 137.0, 140.0, 141.0, 143.0, 144.0, 145.0, 146.0, 148.0, 150.0, 152.0, 153.0, 154.0, 155.0, 156.0, 157.0, 158.0, 159.0, 160.0, 162.0, 163.0, 166.0, 167.0, 168.0, 169.0, 170.0, 171.0, 174.0, 176.0, 178.0, 180.0, 181.0, 183.0, 187.0, 188.0, 189.0, 191.0, 196.0, 200.0, 213.0, 217.0, 223.0, 224.0, 225.0, 228.0, 229.0, 230.0, 234.0, 239.0, 256.0, 257.0, 259.0, 260.0, 261.0, 264.0, 269.0, 271.0, 275.0, 520.0, 290.0, 298.0, 301.0, 329.0, 346.0, 349.0, 71.0}\n"
     ]
    },
    {
     "name": "stderr",
     "output_type": "stream",
     "text": [
      "/usr/local/lib/python3.6/dist-packages/ipykernel_launcher.py:6: SettingWithCopyWarning: \n",
      "A value is trying to be set on a copy of a slice from a DataFrame.\n",
      "Try using .loc[row_indexer,col_indexer] = value instead\n",
      "\n",
      "See the caveats in the documentation: http://pandas.pydata.org/pandas-docs/stable/user_guide/indexing.html#returning-a-view-versus-a-copy\n",
      "  \n"
     ]
    },
    {
     "data": {
      "text/html": [
       "<div>\n",
       "<style scoped>\n",
       "    .dataframe tbody tr th:only-of-type {\n",
       "        vertical-align: middle;\n",
       "    }\n",
       "\n",
       "    .dataframe tbody tr th {\n",
       "        vertical-align: top;\n",
       "    }\n",
       "\n",
       "    .dataframe thead th {\n",
       "        text-align: right;\n",
       "    }\n",
       "</style>\n",
       "<table border=\"1\" class=\"dataframe\">\n",
       "  <thead>\n",
       "    <tr style=\"text-align: right;\">\n",
       "      <th></th>\n",
       "      <th>Date</th>\n",
       "      <th>Location</th>\n",
       "      <th>Operator</th>\n",
       "      <th>Fatalities</th>\n",
       "      <th>Summary</th>\n",
       "    </tr>\n",
       "  </thead>\n",
       "  <tbody>\n",
       "    <tr>\n",
       "      <th>0</th>\n",
       "      <td>09/17/1908</td>\n",
       "      <td>Fort Myer, Virginia</td>\n",
       "      <td>Military - U.S. Army</td>\n",
       "      <td>1</td>\n",
       "      <td>During a demonstration flight, a U.S. Army fly...</td>\n",
       "    </tr>\n",
       "    <tr>\n",
       "      <th>2</th>\n",
       "      <td>07/12/1912</td>\n",
       "      <td>Atlantic City, New Jersey</td>\n",
       "      <td>Military - U.S. Navy</td>\n",
       "      <td>5</td>\n",
       "      <td>First U.S. dirigible Akron exploded just offsh...</td>\n",
       "    </tr>\n",
       "    <tr>\n",
       "      <th>3</th>\n",
       "      <td>08/06/1913</td>\n",
       "      <td>Victoria, British Columbia, Canada</td>\n",
       "      <td>Private</td>\n",
       "      <td>1</td>\n",
       "      <td>The first fatal airplane accident in Canada oc...</td>\n",
       "    </tr>\n",
       "    <tr>\n",
       "      <th>4</th>\n",
       "      <td>09/09/1913</td>\n",
       "      <td>Over the North Sea</td>\n",
       "      <td>Military - German Navy</td>\n",
       "      <td>14</td>\n",
       "      <td>The airship flew into a thunderstorm and encou...</td>\n",
       "    </tr>\n",
       "    <tr>\n",
       "      <th>5</th>\n",
       "      <td>10/17/1913</td>\n",
       "      <td>Near Johannisthal, Germany</td>\n",
       "      <td>Military - German Navy</td>\n",
       "      <td>30</td>\n",
       "      <td>Hydrogen gas which was being vented was sucked...</td>\n",
       "    </tr>\n",
       "    <tr>\n",
       "      <th>...</th>\n",
       "      <td>...</td>\n",
       "      <td>...</td>\n",
       "      <td>...</td>\n",
       "      <td>...</td>\n",
       "      <td>...</td>\n",
       "    </tr>\n",
       "    <tr>\n",
       "      <th>4962</th>\n",
       "      <td>04/16/2019</td>\n",
       "      <td>Puerto Montt, Chile</td>\n",
       "      <td>Archipelagos Service Aereos</td>\n",
       "      <td>6</td>\n",
       "      <td>While the aircraft was in the initial climb, p...</td>\n",
       "    </tr>\n",
       "    <tr>\n",
       "      <th>4963</th>\n",
       "      <td>05/05/2019</td>\n",
       "      <td>Near Monclava, Mexico</td>\n",
       "      <td>TVPX Aircraft Solutions</td>\n",
       "      <td>13</td>\n",
       "      <td>The aircraft crashed while en route on a retur...</td>\n",
       "    </tr>\n",
       "    <tr>\n",
       "      <th>4964</th>\n",
       "      <td>05/05/2019</td>\n",
       "      <td>Moscow, Russia</td>\n",
       "      <td>Aeroflot Russian International Airlines</td>\n",
       "      <td>41</td>\n",
       "      <td>Forty-five minutes after taking off from Mosco...</td>\n",
       "    </tr>\n",
       "    <tr>\n",
       "      <th>4965</th>\n",
       "      <td>06/03/2019</td>\n",
       "      <td>Near Lipo, India</td>\n",
       "      <td>Military - Indian Air Force</td>\n",
       "      <td>13</td>\n",
       "      <td>Crashed about 34km WNW of Mechuka.</td>\n",
       "    </tr>\n",
       "    <tr>\n",
       "      <th>4966</th>\n",
       "      <td>07/30/2019</td>\n",
       "      <td>Rawalpindi, India</td>\n",
       "      <td>Military - Pakistan Army</td>\n",
       "      <td>5</td>\n",
       "      <td>The Pakistani military plane, on a training fl...</td>\n",
       "    </tr>\n",
       "  </tbody>\n",
       "</table>\n",
       "<p>4886 rows × 5 columns</p>\n",
       "</div>"
      ],
      "text/plain": [
       "            Date                            Location  \\\n",
       "0     09/17/1908                 Fort Myer, Virginia   \n",
       "2     07/12/1912           Atlantic City, New Jersey   \n",
       "3     08/06/1913  Victoria, British Columbia, Canada   \n",
       "4     09/09/1913                  Over the North Sea   \n",
       "5     10/17/1913          Near Johannisthal, Germany   \n",
       "...          ...                                 ...   \n",
       "4962  04/16/2019                 Puerto Montt, Chile   \n",
       "4963  05/05/2019               Near Monclava, Mexico   \n",
       "4964  05/05/2019                      Moscow, Russia   \n",
       "4965  06/03/2019                    Near Lipo, India   \n",
       "4966  07/30/2019                   Rawalpindi, India   \n",
       "\n",
       "                                     Operator  Fatalities  \\\n",
       "0                        Military - U.S. Army           1   \n",
       "2                        Military - U.S. Navy           5   \n",
       "3                                     Private           1   \n",
       "4                      Military - German Navy          14   \n",
       "5                      Military - German Navy          30   \n",
       "...                                       ...         ...   \n",
       "4962              Archipelagos Service Aereos           6   \n",
       "4963                  TVPX Aircraft Solutions          13   \n",
       "4964  Aeroflot Russian International Airlines          41   \n",
       "4965              Military - Indian Air Force          13   \n",
       "4966                 Military - Pakistan Army           5   \n",
       "\n",
       "                                                Summary  \n",
       "0     During a demonstration flight, a U.S. Army fly...  \n",
       "2     First U.S. dirigible Akron exploded just offsh...  \n",
       "3     The first fatal airplane accident in Canada oc...  \n",
       "4     The airship flew into a thunderstorm and encou...  \n",
       "5     Hydrogen gas which was being vented was sucked...  \n",
       "...                                                 ...  \n",
       "4962  While the aircraft was in the initial climb, p...  \n",
       "4963  The aircraft crashed while en route on a retur...  \n",
       "4964  Forty-five minutes after taking off from Mosco...  \n",
       "4965                 Crashed about 34km WNW of Mechuka.  \n",
       "4966  The Pakistani military plane, on a training fl...  \n",
       "\n",
       "[4886 rows x 5 columns]"
      ]
     },
     "execution_count": 12,
     "metadata": {},
     "output_type": "execute_result"
    }
   ],
   "source": [
    "print(set(data3['Fatalities']))\n",
    "\n",
    "# Change floats to integers\n",
    "\n",
    "\n",
    "data3['Fatalities'] = data3[\"Fatalities\"].astype(np.int64)\n",
    "data3"
   ]
  },
  {
   "cell_type": "code",
   "execution_count": 13,
   "metadata": {},
   "outputs": [
    {
     "name": "stdout",
     "output_type": "stream",
     "text": [
      "{0, 1, 2, 3, 4, 5, 6, 7, 8, 9, 10, 11, 12, 13, 14, 15, 16, 17, 18, 19, 20, 21, 22, 23, 24, 25, 26, 27, 28, 29, 30, 31, 32, 33, 34, 35, 36, 37, 38, 39, 40, 41, 42, 43, 44, 45, 46, 47, 48, 49, 50, 51, 52, 53, 54, 55, 56, 57, 58, 59, 60, 61, 62, 63, 64, 65, 66, 67, 68, 69, 70, 583, 72, 73, 74, 75, 76, 77, 78, 79, 80, 81, 82, 83, 84, 85, 86, 87, 88, 89, 90, 91, 92, 93, 94, 95, 96, 97, 98, 99, 100, 101, 102, 103, 104, 106, 107, 108, 109, 110, 111, 112, 113, 114, 115, 116, 117, 118, 119, 120, 121, 122, 123, 124, 125, 126, 127, 128, 129, 130, 131, 132, 133, 134, 137, 140, 141, 143, 144, 145, 146, 148, 150, 152, 153, 154, 155, 156, 157, 158, 159, 160, 162, 163, 166, 167, 168, 169, 170, 171, 174, 176, 178, 180, 181, 183, 187, 188, 189, 191, 196, 200, 213, 217, 223, 224, 225, 228, 229, 230, 234, 239, 256, 257, 259, 260, 261, 264, 269, 271, 275, 520, 290, 298, 301, 329, 346, 349, 71}\n"
     ]
    }
   ],
   "source": [
    "print(set(data3['Fatalities']))"
   ]
  },
  {
   "cell_type": "code",
   "execution_count": 14,
   "metadata": {},
   "outputs": [
    {
     "name": "stdout",
     "output_type": "stream",
     "text": [
      "{'Military - US Navy', 'Swan Aviation', 'SilkAir', 'Djibouti Airlines', 'Tracep', 'Svedijos Prekés', 'Wilson Airways', 'Lehigh Acres Development Inc.', 'Aeroservice International', 'Transport Arien Transregional', 'Trigana Air Service', 'Sepahan Airlines', 'Ejercito del Aire', 'Douglas Airways', 'Maryland State Police', 'British European Airways / Military - British', 'Military - Honduran Air Force', 'Starways', 'Military - Royal Norwegian Air Force', 'Pan American World Airways / KLM', 'MK Airlines', 'Saskatchewan Government Northern Air Operations', 'Federal Express', 'Atlas Air serving Amazon\\xa0', 'Mac Robertson Miller Airlines', 'Sasco Air Lines', 'Coastal Air Lines', 'Transmeridian Air Cargo', 'Romanian Banat Air', 'Petropavlovsk-Kamchatsky Air Enteprise', 'Manchurian Air Lines', 'Ecuato Guineana de Aviacion', 'VOTEC', 'Hunting Air Travel', 'Compagnie Internationale de Navigation Aérienne', 'Shelter Cove Sea Park', 'Mililtary - Royal Canadian Air Force', 'Euro Asia Aviation', 'Northern Executive Aviation', 'Pel Air', 'North Queensland Airways', 'Canairelief Air', 'Dalmia Jain Airways', 'Mercury Aviation', 'Aerolatino (Aerocaribe)', 'Air Transport Associates', 'Austin Airways', 'Military - Venezuelan Navy', 'Westair Transport', 'Britt Airways', 'Rimouski Airlines', 'Southern Cross Airways', 'Flyve Tjenesten', 'Private - de Havilland Aircraft', 'Military - Sri Lanka Air Force', ' HeliCusco', 'Ontario Hydro', 'Hageland Aviation Services', 'Venezolana', 'Military - Lybian Arab Air Force', 'South Pacific Island Airways', 'Volare Aviation Enterprise', 'Military - Royal Airship Works', 'Airquarius Aviation - Charter', 'Yemen Airlines', 'Military -Fuerza Aerea Colombiana', 'Air Taxi - El Aero Services Inc.', 'Douglas Aircraft', 'Air Taxi - Air Grand Canyon Inc.', 'AKF Polet', 'Stratofreight', 'Alaska Airlines', 'Varney Airlines', 'Survair', 'MALERT', 'Syktyvkar Avia', 'Trans Colorado AL / Continental Express', 'Air US / Private', 'Panagra', 'Toa Domestic Airline (Japan)', 'Iran Air', 'Societe Indochinoise de Raviteillement', 'Air Evac Lifeteam', 'Nigeria Airways', 'Military - Nicaraguan Air Force', 'Air  Mali', 'Military - Royal Belgian Air Force', 'Aviation Development Corporation', 'Air Taxi - Centre Airlines Inc.', 'Komala Air', 'Rhodesian Air Services', 'Pan African Airlines', 'Hughes Airwest  / Military - US Marine Air Corps', 'Hewa Bora Airways', 'Air Transat', 'Aero Jet Express', 'Missionary Aviation Fellowship', 'Century Pacific Lines', 'Kodiak Airways', 'Panair do Brazil', 'Inex Adria Aviopromet', 'Union Aeromaritime de Transport', 'Central Air Services', 'United Nations -  UTair Charter', 'Classic Wings', 'STAP', 'Military - U.S. Army', 'Paradise Airlines', 'Bako Air', 'Coastal Cargo', 'Societe Alpes Provence', 'Airbus Industrie', 'TAM Lineas Aéreas Regional', 'Archipelagos Service Aereos', 'BOAC', 'El Al', 'Military - Ejército del Aire', 'Kam Air', 'Military - Malaysian Air Force', 'Military - Greek Air Force', 'Lignes Aeriennes Latecoere', 'Stavropol Airlines', 'Aerosweet Airlines (LVOV)', 'Delta Air Lines/ North Central Airlines', 'TABA', 'Cubana de Aviacion / Military -  US Navy', 'Czechoslovak Airlinex', 'Air Flamence', 'U. S. Air Force', 'Air Rhodesia', 'Servicio Aéreo Panini', 'Northwest Airlines/ Northwest Airlines', 'Bay of Plenty Airways', 'Trafik-Turist-Transportflyg', 'Pennsylvania Airlines', 'Afriqiyah Airways', 'Philippine Air Lines', 'Tadair', 'Petroleum Helicopters Inc', 'Oefag Flugdienst', 'Military - Royal Hellenic Air Force', 'Robinson Airlines', 'Norilsk Flight Company', 'Jet Avia Charter', 'Southwest Airlines', 'Panama Airways', 'Qantas', 'American Airlines / Private', 'SFC Vietnam - Charter - Full Account', 'Iran Air Tours', 'Dagestan Airlines', 'TAM Paraguay', 'Japan Air Self-Defence Force', '\\tPawan Hans Helicopters Ltd.', 'Majestic Air Cargo', 'Bond Air Services Ltd.', 'Pennsylvania Central Airlines', 'Alfa Airlines', 'Air Bleu', 'Servivensa', 'Military - Fuerza Aérea Colombiana', 'Daimler Airways / Grands Express Aeriens', 'Cubana de Aviacon', 'PMT Air', 'Yemenia Airway', 'Turuhan Avia', 'Southwest Airways', 'Private - Ashland Oil Company', 'Middle East Airlines / Military - Turkish Air ForceC-47', 'Kodiak Western Alaska Airlines', 'Krasnoyarsk Airlines', 'Air Nautic', 'Aerflot', 'West Wind Aviation', 'LARES', 'Military - Soviet Navy', 'SCADTA', 'Iberia Airlines', 'Aeroextra', 'Trans Continental and Western Air', 'Pulkovo Aviation Enterprise', 'Military - Fuerza Aérea del Peru', 'Aerochasqui', 'Sterling Airways', 'Sundance Helicopters Inc.', 'British Airways Helicopters', 'Lineas Aéreas Mineras', 'Empire Airlines leased from FedEx', 'Ladeco', 'Valan International Cargo Charter', 'RAM', 'Tuninter', 'Inter-Island', 'Costal Aviation', 'Pacific Overseas Airways', 'Khalatyrka', 'Aero Eslava', 'Virgin Islands Airways', 'UTAir Airlines', 'Mineral County Airlines', 'Air Rouergue', 'Military - Hellenic Air Force', 'Provincial Airlines', 'Urcupina', 'Air Ambulance - Med-Trans Corp.', 'PAS', 'Quebecair', 'Air New Zealand', 'International Security Assistance Force', 'Empressa Commun. Aéreas de Veracruz', 'Airline Transport Carriers', 'Amazonese Importacao e Exportacao', 'Norte Jet Táxi Aéreo', 'AV Air / American Eagle', 'Military - Slovak Air Force', 'ETA Air Charter', 'PenAir', 'CTA Languedoc Roussillon', 'Queensland Airlines', 'Edde Airlines', 'Airblue', 'Indian Airlines/Alliance Airlines', 'Taxader Airlines', 'Military - Chilean Air Force', 'Air Taxi - Hawaii Helicopters Inc.', 'Hargreaves Airways', 'Private - Hendrick Motorsports Inc.', 'Alpa Servicios Aéreos', 'Goose Bay Air Services', 'Chamberlin Flying Service', 'Wingfoot Air Express Goodyear Tire', 'Interflug', 'British Eagle International Airlines', 'Silver City Airways', 'Charter', 'SeaWind Aviation', 'Military - Republic of South Korea Air Force', 'Fuerza Area Angolaise', 'Military - US Army', 'Cie Air Transport', 'British Overseas Airways', 'Carib Air Transport', 'Airtech Rajawaldi Udara', 'Points North Air Services', 'Japanese Air Force', 'Air taxi - Rumo Notre Air Taxi', 'Transniugini Airways', 'Rutaca Airlines', 'Alas Chiricanas', 'Ju Air', 'Transocean Air Lines', 'Saudi Arabian Airlines', 'Reeve Aleutian Airlines', 'Parsa', 'Texas International Airlines', 'Military - Union of Burma Air Force', 'Alantis Aviation', 'Okanagan Helicopters', 'Vertical-T Air', 'Air taxi - Lider Air Taxi', 'Buddha Air', 'Avio Linee Italiane', 'Military - Kazakhstan border guard service', 'Pan Malaysian Air Transport', 'Air Ferry Ltd', 'Reeve Aleutian Airways', 'Dutch Continental Airways', 'Chilean Air Force', 'Calair', 'TAAG Angola Airlines', 'Military - FANA Forca Aerea Nacional Angolana', 'Armavia', 'Fuerza Aérea Argentina', 'Transporturile Aeriene Romane (TAROM)', 'Nordeste Linhas Aéreas', 'Volga Air', 'NHR Táxi-Aéreo', 'Associated Aviation', 'Aerolineas Abaroa', 'Naure Air', 'Rousseau Aviation', 'Procuraduría General de la República', 'Corporate Airlines (American Connection)', 'Compagnie Sila', 'Bar Harbor Airlines', 'Air Orient', 'American Airlines / Military - USAF', 'Dirgantara Air Services', 'Chicago Southern Airlines', 'SAMSA', 'Force Area Populaire de Angola', 'Royal Nepal Airlines', 'Military - Soviet Air Force', 'Scibe Airlift Cargo Zaire', 'VASP', 'Polyarnya Aviatsiya', 'COHATA', 'Les Ailes de Gaspé Inc.', 'Air Fiordland', 'Southern Airways', 'Military - Israel Air Force', 'My Cargo Airlines (ACT Airlines)', 'Air Ocean', 'Sun Way', 'Cross Airways', 'National Airlines', 'Rico Linhas Aereas', 'Hageland Aviiation', 'Eagle Aviation', 'COPA (Panama)', 'Military - Federal Nigerian Air Force', 'Military - Salvadoran Air Force', 'S.A.M. Società Aerea Mediterranea', 'Private - Techint  group', 'Sempati Air', 'Naske Air', 'Central African Airways', 'Alpha Airways', 'Air Philippines', 'Philippine Air Express', 'Trans World Airlines', 'Queen Charlotte Airlines', 'Globe Air', 'Kenya Airways', 'Avtex Air Services', 'Rico Taxi Aéreo', 'American Eagle', 'Ukranian-Mediterranean Airlines', 'Aerocondor de Colombia', 'Meteor Air', 'Military - Royal Moroccan Air Force', 'Flota Aérea Mercante Argentina', 'Cooper Skybird Air Charters', 'Servicios Aéreos Especiales', 'Air Carriers Express Services Inc', 'Channel Airways', 'Avio Linee Italiane Avio Linee Italiane', 'Victoria Airlines', 'Military - Cuban Air Force', 'Military - Russian Air Force/Uzbekistan Airways', 'Caribbean Airlines', 'Jamair', 'Military - Venezuelan Army', 'Military - Russian Army', '\\tCHC Helikopter Service', 'Seattle Air Charter', '\\tMilitary - Tajik National Guard', 'Holyman Airways', 'Military - Royal Jordanian Air Force', 'Catalina Airlines', 'Nordair', 'Centurian Air Cargo', 'Flight Service', 'Military - Nigerian Air Force', 'Military - Ariana Afghan Airlines', 'Lone Star Airlines', 'Aero Peru', 'Fokker', 'Wuhan Airlines', 'Compagnie Air Transport', 'Atlantic Coast Airlines (United Express)', 'Lineas Aéreas Cave', 'Binter Mediterráneo', 'Military - Algerian Air Force', 'Gol Airlines / Private', 'Air Taxi - Paramount Aviation Corp.', 'Commercial Air Taxi', 'Military - Turkish Army (NATO)', 'Military - Royal Netherlands Naval Air Service', \"Military - Vietnam People's Army Air Force\", 'Air Satellite', 'Trans Mediterranean Airways', 'Air Hawaii', 'Aerolineas Argo', 'Atlantic Airlines', 'CCCP', 'Sahara', 'Aerolift', 'Aerovias Venezolanas SA (Venezuela)', 'SATCO', 'Ornge Air Ambulance', 'Campagnie France Roumaine', 'National Air Transport Services', 'North Sea Aerial and General Transport', 'Misrair', 'Flugefelag', 'Transamazonica', 'Snow Valley Ski Lines', 'Charter - IRS Aero', 'Transportes Aereos Nacionales', 'American Air  Export & Import Co.', 'Aviogenex (Yugoslavia)', 'Allegheny Airlines', 'Servicios Aereos Nacionales Airways', 'Carga Aereo Transportada', 'Rico Taxi Aero', 'Pacific Air', 'Military - Bulgarian', 'Grand Canyon Airlines', 'Conviasa', 'Sea Airmotive', 'Grands Express Aeriens', 'Viking Air Transport', 'Vietnam Airlines', 'National Skyway Freight Co.', 'Military - Russian, cargo', 'Island Express Helicopter Service', 'Taxi Aereo de Santander', 'Air Madagascar', 'Butler Aviation Inc.', 'Vnukovo Airlines', 'TACV-Cabo Verde Airlines', 'Brit Air', 'Sabeni', 'Air Union', 'DDL', 'Transportes Aéreos Salvador', 'Panair do Brasil SA', 'Balair', 'Linea Expresa Bolivar', 'Aerotaxi Manaus', 'Military - Ethiopian Air Force', 'Saint Lawrence Airways', 'Aereo el Venado', 'Interamericana de Aviacion', 'Temsco Helicopter - Air Taxi', 'Air Illinois', 'Venezolana Internacional de Aviacion', 'Aviaco', 'Air Taxi - Talon Air Services Inc.', 'Borneo Airways', 'Czech Airlines', 'Rubner Flying Service', 'Private Charter', 'Military - Belgian Air Force', 'Business Jet Services', 'Air Congo (BIAS)?', 'Military - Deutsche Luftwaffe', 'Air Transport', 'Galaxy Kavatsi Airlines', 'Kasthamandap Airlines', 'Burlington Air Express', 'PHI Air Medical', 'United Express', 'Military - Mexican Air Force', 'Vnokovo Airlines', 'Frigorifico Maniqui', 'Trans World Airlines / Castleton Inc.', 'Air Manitoba', 'China Northern Airlines', 'Zanex', 'Carga del Caribe', 'Savannair', 'Union Aéromaritime de Transport', 'Hevlift', 'Aeronaves de Mexico', 'North Pacific Airlines', 'Salair', 'British Commonwealth Pacific Airlines', 'Air Cameroon', 'Aeroespresso', 'Germanwings', 'Military - United States Air Force', 'Bremerton-Seattle Air Taxi / Gorst Air Lines', 'Jersey Airways', 'Hati Express', 'Vincent Aviation', 'Sita Air', 'Kavatshi Airlines', 'Trans Canada Air Lines / RCAF', 'Military - Peruvian Air Force', 'Channel Express', 'Transaviaexport Airlines', 'Lao Cathay Airlines', 'Burke Air Transport', 'Military - French Air Force', 'Dana Air', 'Fuerza Aerea Colombiana', 'VASP / Private', 'Military - TAM (Bolivia)', 'Air Angles Inc.', 'Private - Purdue Reasearch Foundation', 'Military - Luftwaffe / Military - USAF', 'Atlantic Central Airlines', 'Commercial Airways (Comair)', 'Capitol Airlines', 'Linjeflyg', 'Wigmo', 'Cathay Pacific Airways', 'Connair', 'Military - Thai Army', 'Yeti Airlines', 'China Northwest Airlines', 'Laoag International Airlines', 'Air Sirin', 'Mohawk Airlines', 'Aviaimpex (Macedonia)', 'Baikal Air', 'Global Executive Aviation', 'Lloyd Aero Boliviano', 'Military - Romainian Air Force', 'Atran', 'North Central Airlines', 'Aerocosta Colombia', 'Renan Airways', 'Air Caraibes', 'Continental Airlines', 'Curtiss-Reid Flying Services Ltd. (Canada)', 'Milne Bay Air', 'Lake Havasu Air', 'Military - Dostum-Galboddin Militia', 'Columbia Pacific Airlines', 'Aerovias Rojas', 'Avalki Air', 'Aca-Ancargo', 'Northern Thunderbird Air Inc.', 'Indian National Airlines', 'Société Aérienne de Tr. Tropicaux', 'Sky Train Air', 'Fred Olsen Flyveselskap', 'Skyline Transportation Company', 'SA Amazonica', 'RRC Air Service', 'Wein Alaska Airlines Inc.', 'National Jet Services Inc.,  (Air Indiana)', 'Federal Airlines', 'Hallo Bay Air - Air Taxi', 'Two Taxi Aero', 'Ukrainian Cargo Airlines -  Congolese Army Charter', 'E.A.S. Aeroservizi', 'CSA Czech Airlines', 'Air Senegal / Gambia Airways', 'Wien Consolidated Airlines', 'LAV - Linea Aeropostal Venezolana', 'Air ambulance - Mercy Air Services', 'TAO', 'New England Airlines', 'Island Airways', 'Abakan Airlines', 'Arrow Airways', 'Azerbaijan Airlines', 'Manunggal Air', 'Oriental Airlines', 'Morton Air Services', 'Military - Polish Air Force', 'Munz Northern Airlines', 'Western Straits Air', 'de Havilland Dove', 'China Airlines', 'LAC Columbia', 'Union Airways', 'Kata Transportation', 'Eastern Air Lines', 'Heringer Taxi Aero', 'Lambair', 'TABSO', 'BHS - Brazilian Helicopter Service Air Taxi', 'Peruvian Naval Aviation', 'Blue Bird Aviation', 'LOT Polish Airlines', 'Village Airways', 'Aeroflot', 'Piedmont Airlines', 'Military - U.S. Army Air Forces', 'California Air Freight', 'All West Freight', 'Military - Guatemalan Air Force', 'Pacific Western', 'Guardia Nacional de Venezuela', 'Heliandes', 'Tarom', 'Pilgrim Airlines', 'Los Angeles Airways', 'Military - Russian', 'Frontier Air', 'AIDA', 'Metro Cargo', 'Spokane Airways', 'MAP', 'Iran Aseman Airlines', 'Tara Air', 'Air Outre-Mer', 'Strato Freight', \"L'Armée de L'Air\", 'Bourag Indonesia Airlines', \"Military - People's Army/ Military - Peoples Air Force\", 'Transportes Aéreos Mexicanos', 'Allied Air Freight', 'Planemasters', 'Mango Airlines', 'Aero Holland', 'Lloyd Aéreo Boliviano', 'Air Mali', 'Morris Hancock Flying Club - Charter', 'Bavaria Flug', 'Intercontinental de Aviacion', 'Price Aircraft Company', 'Manx2', 'Pacific Alaska Air Freight', 'JAT Yugoslav Airlines', 'LOT', 'Ryan Air Services', 'Continentale Deutsche Luftreederei', 'TAM (Transportes Aereos Militares)', 'Aerolineas Centrales de Colombia', 'Ala Littolia', 'Air East', \"Chalk's Ocean Airways\", 'Provincetown - Boston Airlines', 'Aria Airlines', 'Ala Littoria', 'Slick Airways', 'Saturn Airways', 'Aviastar Mandiri', 'Charter, Golden Eagle Aviation Inc.', 'Dutch Dakota Association', 'Military - Argentine Air Force', 'Transamerica Airlines', 'Aray-Avia', 'Autrex', 'University of Michigan Health System', 'Hlavka Aviation - Air Taxi', 'SADELCA', 'Military - Kuwait Air Force', 'Rinaldo Piaggio', 'Aerovanguardia', 'Frontier Flying Service', 'Ukvozduchput', 'Aerolineas Litoral Argentina', 'Ryan International Airlines', 'Eitos', 'Interior Airways', 'Dwyer Flying Service - Private Charter', 'AVISPA', 'Crossair', 'Turkish Airlines (THY)', 'Skyways', 'Cruzeiro do Sul', 'West African Airways', 'Skyline Airways', 'KLM Royal Dutch Airlines', 'Aeroflot Russian International Airways', 'Itek Air', 'Military - Zairean Air Force', 'Airlink', 'Necon Air', 'Scandinavian Airlines (SAS) / Private', 'Pittsburgh Skyways Inc.', 'British International Helicopters', 'TAA', 'Lineas Aereas', 'Transportes Aereos Pegaso', 'Indonesian National Police', 'Eagle Air', 'Gulf Aviation (Kalinga Airways)', 'Lineas Areas del Centro', 'Deutsche Flugdienst', 'Aeronor Chile', 'Ameriflight', 'National Airways', 'DNL Norwegian Air Lines', 'Union des Transportes Aeriens', 'Ibertrans Aérea', 'Loide Aéreo Nacional', 'State Airlines', 'Cie des Messageries Aeriennes', 'Lake Central Airlines', 'Zantop International Airlines', 'Heringer Air Taxi', 'Smoky Mountain Helicopters', 'Russian Ministry of Interior', 'Iran Asseman Airlines', 'Harbour Air Seaplanes Ltd.', 'Safe Air Complany', 'Tajikistan Airlines', 'China Eastern Airlines', 'Wehite Cap Aviation', 'Filipinas Orient Airways', 'CAAC', 'Lancashire Aircraft Corporation (Skyways)', 'Royal Indian Air Force', 'Associated Airways', 'BKS Air Transport', '\\tAerolineas Flecha Austral - ALFA', 'Military - Ecuador Army', 'Magyar Legiforagalmi', 'Air-Lift Commuter', 'Fleming International Airways', 'Ecuatair', 'Volga-Dnepr Airlines', 'Private KNBC Los Angeles', 'NOAR Linhas Aéreas', 'Fujita Koku Kabushki Kai', 'Weasua Air Ttansport', 'Charter - Aerotaxi', 'TPI International Airways', 'Devlet Hava Yollairi', 'China Airlines (Taiwan)', ' Airlines  PNG', 'Transaven', 'Military - United States Army Air Force', 'Air Comores', 'New Standard Airlines', 'Itavia', 'Malert Airlines', 'Latecoere Airlines', 'Kiev Production Association', 'Uruguayan Air Force - TAMU', 'Associated Aviators', 'Invicta International Airlines (UK)', 'East Coast Jets', 'Continental Air Transport', 'Air Taxi - Coastal Helicopters Inc.', 'MIAT - Mongolian Airlines', 'Misair', 'Det Danske Luftfartselskab', 'USAir / Skywest Airlines', 'Trans Service Airlift', 'Lufthansa Cityline', 'Private - Kabanov - skydiving', 'Universal Airways', 'Cebu Pacific Air', 'Ansett ANA', 'Military - U.S. Army Air Corps', 'Pioneer Airlines', 'XL Airways leased from Air New Zealand', 'Ambler Air Service', 'Mililtary - Soviet Air Force', 'Atlantic Southeast Airlines', 'Buffalo Narrows Airways', 'Naftogaz', 'Saha Airline Services', 'Papillon', 'Military - German Navy', 'Agni Air\\xa0', 'Trans Continental Air Transport', 'Private - Omniflight Helicopters', 'United Air Services', 'ERA Aviation - Air Taxi', 'Presidental Airways Inc. - Air Taxi', 'Private - Overtec Company', 'UTA', 'Guinea Airways Limited', 'East African Airways', 'Military - Italian Air Force', 'Vostok Aviakompania', 'Capital Airlines / Military - Air National Guard', 'Atlantic Airways', 'Moldovan Aeriantur-M Air Cargo', 'Knight Air', 'Military - U. S. Air Force', 'Caspian Airlines', 'Varney Air Lines', 'Khors Aircompany', 'Interstate Airlines', 'Scenic Air Tours', 'Empresa Aviacion del Pacifico', 'Malaysia Airlines', 'Military - Israel  Air Force', 'Heli-USA Airways', 'Bodensee Aerolloyd', 'Aloha Airlines', 'REAL / Military - U.S. Navy', 'Military - U.S.  Air Force / Military - U.S. Navy', 'Air Continental', 'Era Helicopter - Air Taxi', 'Airlines of PNG', 'PT Air Regional', 'Pacific Southwest Airlines / Private', 'Air Taxi - South Coast Helicopters Inc.', 'Braathens', 'Cheremshanka Airlines', 'Malu Aviation', 'Air Transport Charter', 'Thai Airways', 'Permaviatrans', 'ELK Aviation Co. (leased from Eminex)', 'Westwing', 'ATI', 'British Airtours', 'Swifair', 'Compania Dominicana de Aviacion', \"Wideroe's Flyveselksap\", 'NewCal Aviation', 'Lineas Aéreas la Urraca', 'Tanzania Aviation', 'Huron Air', 'ValuJet', 'South African Airways, leased from British Overseas Airways', 'Austrian Airlines', 'Kelowna Flightcraft Air Charter', 'Railway Air Services Ltd.', 'AECA Cargo', 'Mavrik Aire Transport', 'Mozambique Airline', 'Winship Air', 'Mountain Lifeflight', 'Florida Commuter Airlines', 'Fiji Air Services', 'Procuradoria General de la Republica', 'Air India Express', 'Aeroflot /Military - Russian', 'Castle Aviation', 'Hoseba', 'Inex Adria Aviopromet / British Airways', 'Executive Funds', 'TMK Air Commuter', 'Hageland Aviation Services Inc.', 'Adventure Airlines', 'Dan-Air Services', 'Kappel-Van Eyck Airways', 'Air Saint Maurice Inc.', 'Aircraft Transport and Travel', 'GLM Aviation', 'USA Jet Airlines', 'Military - Força Aérea Brasileira', 'Finnair', 'Military - German Air National Guard', 'MATS - Manila Aero Transport System', 'British South American Airways', 'Société de Transports Aériens', 'Military - Niger Air Force', 'Laos Air', 'Pakair', 'United Arab Airlines', 'Air Ivoire', 'Deraps Aviation', 'Military - Indonesian Army', 'Indonesian Police', 'TAESA', 'Military - Ecuadorian Air Force', 'Kirghizia Aba Zaoldoru', 'Military - Angolan Armed Forces', 'Corporate Mobility Inc. - Private', 'Military - Angolan Air Force', 'Air Florida', 'Transasia Airways', 'Continental Express', 'TAROM', 'Antilles Air', 'Aero-Tropics', 'Military - Force Aérienne Zaïroise', 'Societa Aerea Mediterranea', 'Rotorcraft Leasing Co', 'Air North', 'Military - German Army', 'Pan American Airways (Scadta)', 'Military - Government of Equatorial Guinea', 'West Caribbean Airways', 'Merpati Nusantara Airlines', 'Lockheed AC-130H Hercules', 'Tyumen Aviatrans', 'Richmor Aviation', 'Aeroleo Taxi Aereo', 'CATA Linea Aerea', 'Aero Cargo', 'Air China', 'Military - Venezuelan Air Force', 'KLM Royal Duch Airlines', 'SL Aviation Services', 'Satena', 'Transamerican Airlines', 'Onzeair', 'Minerva Airlines', 'Comvac Aviation', 'Jordan International Airlines', 'Eagle Cap Leasing', 'Eurasia', 'Military - U.S. Navy / Military - U.S. Navy', 'Mustang Aviati', 'Aerovias Condor', 'Exportada De Sal S.A.', 'Military - Chinese Air Force', 'Aerocaribbean - Charter', 'Pakistan International Airlines', 'Australian National Airways', 'Skypower Express Airways', 'Helicopteros Nacionales de Colombia', 'Orient Air System and Integrated Services', 'Continental Air Lines', 'Southwest Airlift', 'Air Taxi - National Helicopters', 'Marquise Aviation Corp.', 'Hang Khong (Vietnam)', 'Evergreen Alaska Helicopters, Inc.', 'Superior Aviation', 'Jet One Express', 'Military - Yemen Air Force', 'Scarta', 'Maddux Airlines', 'Airfast Indonesia', 'GCI Communications Corp.', 'Cunard Eagle Airways', 'Illegal flight', 'Svenska Aero', 'Transair Sweden', 'Bimini Airways', 'Knowles Flying Service of Detroit', 'Merpati Nasantara Airlines', 'Living Water Teaching Ministries Charter', 'Divi Divi Air', 'Aeromist-Kharkiv', 'Military - U.S. Marine Corps', 'Northern Thunderbird Air Ltd.', 'Military - U.S. Marines', 'SELVA', 'Lebanese International Airways', 'Aero Limited', 'Dominion Air Lines', 'Indamer', 'Military - Burma Air Force', 'TAN', 'Skyvan Airways', 'Aerial Transit Company', 'LATI', 'British Columbia Airways', 'Sky Cabs', 'Starair', 'Military - Luftwaffe', 'Military - U.S. Navy / Military -  U.S. Navy', 'Western Airlines', 'KLM Cityhopper', 'Metro Air Systems', 'Military - Zimbabwe Air Force', 'Guyana Airways', 'Trans Canada Air Lines', 'Military - Tentara Nasional Indonesia Navy', 'Military - Indonesian Air Force', 'Belgian International Air Services', 'AB Aerotransport', 'Skyline Sweden', 'Iraqi Airways', 'Ababeel Aviaition', 'TASSA', 'Varig', 'Proteus Air / Private', 'Slick Airways - Cargo', 'Aspring Air', 'Winchester Air', 'Rainbow King Lodge', 'Arax Airlines', 'Cruzeiro', 'Military - Sudanese Air Force', 'Lineas Aéreas La Urraca', 'AVIANCA / AVIANCA', 'Med Flight Air Ambulance - Private', 'Holdens Air Transport Service', 'Mongolian Defense Ministry', 'Rediske Air', 'Pan American Grace Airlines', 'Johnson Flying Service', 'Agco Corp', 'Linea Aerea Nacional de Chile', 'Air West', 'Hunter Airways', 'Lionair', 'Junction City Fire Department', 'Military - Ecuadorean Air Force', 'Vayudoot', 'Vologodskiye Airlines', 'Polynesian Airlines', 'Military - Republic of China Air Force', 'Arsenyev Aviation Production Association', 'Bakhtar Afghan Airlines', 'Zantop Air Transport', 'North Star Air Cargo', 'Far East Aviation', 'Air Karibu', 'Syrian Arab Airlines', 'Reeder Flying Service', 'Chicago Helicopter Airways', 'Security Air', 'Aerocontroctors - Charter', 'Military - Finish Air Force', 'Shanxi Airlines', 'Kisangani Airlift', 'Military - Mauritanian Air Force', 'Express Airlines - Northwest Airlink', 'Mexicana', 'Moskovia Airlines', 'Servicios Aéreos Boliviano', 'Compania Mexicana de Aviacion', 'Branch River Air Service', 'United Air Lines / Military - U.S. Air Force', 'Sobelair SA (Belgium)', 'Partnair', 'Ace Air Cargo', 'Cubana de Aviacion', 'Militiary - US Air Force', 'AVIANCA', 'Aerovias de Guatemala SA', 'Arctic Pacific', 'Petrolium Helo Inc.', 'Air Taxi - Marco Zero Air Taxi', 'Military - U.S. Air Force', 'Alas Nacionales, leased from Birgen Air', 'Lufthansa', 'South African Airways', 'Military U.S. Navy / Military - U.S. Navy', 'Allegheny Airlines / Forth Corporation', 'Military -  (2) U.S. Army Air Forces', 'Bangladesh Biman', 'Fly Montserrat', 'Regina Cargo Airlines', 'Northwest Orient Airlines', 'Air Gaspé', 'Ansett New Zealand', 'Selva Taxi Aero', 'British United Airways', 'US Airways Express', 'US Airlines', 'DTA Angola Airlines', 'Victoria Air', 'Guinea Airways', 'Kamchatavia', 'Ghana Airways', 'Royal Air Laos/PENAS', 'Miltiary - U.S. Airforce', 'Uralex', 'Alliance Airlines', 'Southern Air Transport', 'Copterline', 'Transportes Aereos Peruanos', 'Blue Bird Air Service', 'VIARCO', 'Pan International', 'Air France', 'Staer Air', 'Piquiatuba Taxi Aereo', 'Marine Airways', 'Sibir (S7)', \"Amee de l'Air\", 'Winged Cargo Inc.', 'Communicaciones Aereos de veracruz', 'NLM (Nederlandse Luchtvaart Maatschappij)', 'China Southern Airlines / Xiamen Airlines', 'Private charter', 'Fly 540', 'Trans Caribbean Airways', 'New Guinea Air Traders', 'Tartarstan Airlines', 'Gander Aviation', 'Air India', 'National Air Transport', 'Harbour Air', 'Libya Arab Airlines', 'Tigres Voladores', 'SAESA', 'AZAL Cargo Company', 'Austria-Flugdienst', 'Maritime Central Airways', 'Air South', 'Air Tahiti', 'Azov Avia Airlines', 'Aero Mayflower Transit Co', 'Societe Aerienne du Littoral', 'Air Guadeloupe', 'Aigle Azur', 'United Express  / Private', 'Bombardier Aerospace', 'Purdue Airlines Inc.', 'British Midland Airways', '\\tLoide Aéreo Nacional', 'Military - Colombian Army', 'Central  Airlines (Universal Aviation Corporation)', 'Rutas Internacionales Peruanes', 'Congo Airline', 'Flying W Airways', 'Falcon Aviation Group', 'Military - Zambia Air Force', 'LAN Chile', 'YPFB Transportes Aereos', 'AIRES Colombia', 'New England Airways', 'South Airlines', 'Solomon Islands Airlines', 'Temsco Airlines', 'Aero Tropical', 'Boeing Air Transport', 'Military - Australian Army Aviation', 'Adam Air', 'Columbia Air Cargo', 'China Southern Airlines', 'Manacá Táxi Aéreo', 'Petroleum Helicopter', 'Flydubai', 'Helaire Helicopter', 'Flash Air', 'Charter - Maniema Union (owner Victoria Air)', 'Bonanza Airlines', 'Military - El Salvador Air Force', 'Scoala Superioara de Aviatie Civla', 'Trans Australia Airlines', 'Military - Unified Yemen Air Force', 'Bouraq Indonesia Airlines', 'Air Taxi - Bohemia Inc.', 'Réseau Aérien Interinsulaire', 'National Air Operators', 'Military - Peruvian Air Force - TANS', 'TAME Ecuador', 'Cargolux', 'SUDENE', 'Aerevias Centrales Air Service', 'Military - Vietnamese Air Force', 'Military - Russian Air Force / Military - Russian Air Force', 'American Export Airlines', 'Aer Lingus', 'Aero Taxis Equatorianos', 'Cargo Three Panama', 'YPF', 'Bazair', 'Air Haiti International', 'TAM (Brazil)', 'Pacific Air Lines', 'TAUSA', 'Wimbi Dira Airways', 'Metrojet', 'Transportes Aereos Orientales', 'Air Canada', 'Northwest Airlink', 'Tyee Airlines', 'Rusts Flying Service Inc.', 'Atlantic City Airlines', 'United Parcel Service', 'Century Air Lines', 'Airways', 'Air Taxi - Raco Helicopters Corp.', 'Aerocom', 'TRACEP Congo Aviation', 'Airline PNG', 'Military - Iranian Air Force', 'Railway Air Service Ltd.', 'Transportes Aéreos de Timor', 'Canair Cargo', 'Spantax', 'Titan Airways', 'Grands Express Aeriens (Air Union)', 'One-Two-Go Airlines', 'Lineas Aéreas Nacionales', 'Pacific Western Airlines', 'Scottish Airlines', 'Military - U.S. Army / Military U.S. Army', 'NFD - Nurnberger Flugdienst', 'Malindi Air Services', 'Aero Condor', 'Military - Colombian government', 'UTAir', 'McKinley Air Service - Air Taxi', 'TAP (Air Portugal)', 'By Air', 'Britavia', 'Sabena', 'Aerotaca', 'Sankuru Air Service', 'Guicango', 'West Australian Airways', 'Wedell-Williams Air Service Corporation', 'China Flying Dragon Aviation (Feilong Airlines)', 'Lineas Aereas Mineras', 'Japan Air / Japan Flying School', 'Aeroperu', 'LifeNet', 'Leeward Islands Air Transport', 'Lumbini Airways', 'American International Airways', 'Transportno Aviatsionno Bulgaro-Soviet Obshchestvo', 'Transbrasil', 'Pacific Coastal Airlines', 'Circuit City Stores - Charter', 'Airlines of Australia', 'Kalinin', 'Dodita Air Cargo', 'SA Airlink', 'Tararstan Airlilnes', 'KNILM', 'Golden Star Air Cargo', 'Skyways of London', 'LACSA', 'Georgian Air', 'Air Wisconsin', 'Oeste Linhas Aereas', 'Aero Transporti Italiani', 'Military - Fuerza Aérea de Chile', 'Egyptair', 'TAR', 'Perris Valley Aviation', 'Norwegian Airlines', \"Soc. de Tr. Aériens d'Extrême Orient\", 'ATI Aircompany', 'Derby Aviation', 'Mid Pacific Air', 'United Parcel Service- UPS', 'Piedmont Airlines / Private', 'Air Liberia', 'Aloha Island Air', 'GT Air', 'West Coast Airlines', 'Helicol Colombia', 'Aerotechnia', 'Transported Areos Profesionales - TAPSA', \"Military - Islamic Revolution's Guards Corps\", 'Viacao Aerea Gaucha S.A.', 'Servicios Aereos Martinez Leon', 'Colonial Western Airlines', 'Fairflight Ltd.', 'Mabuhay Airways', 'Aerocon', 'Goroka Air Services', 'Star Aviation', 'Rapid Air Transport', 'Pan American World Airways', 'Garuda  Indonesia Airlines / Garuda Indonesia Airlines', 'Transasia', 'Alada', 'Linea Aérea Mexicana de Carga', 'Summit Air', 'Military - Russian Air Force', 'Hamilton Aviation', 'World Airways', 'Balkan Bulgarian Airlines', 'North Coast Aviation', 'Golden West Airlines / Private', 'Cruzeiro Do Sud', 'Olympic Airways', 'Laos Air Force', 'Vieques Air Link', 'Aero Air', 'Greylock Airways / Private', 'Airborne Freight Company Union', 'Alaska Travel', \"Gor'ky Eskadril'ya\", 'Rwandair', 'Aéropro', 'Servicio Expresso Nacional', 'Air Fiji', 'Flying Tiger Line', 'Yacimientos Petroliferos Fiscales', 'Avianca', 'A B Aerotransport', 'Alaska Helicopter - Air Taxi', 'Frontier Airlines', 'Rocky Mountain Airways', 'Sociedad Aeronautica Medellin', 'Japan Air Lines', 'Perimeter Airlines', 'Fiji Air', 'Islands of the Bahamas Inc', 'Grand Canyon Airlines / Helitech', 'Ansett Airlines of Papua New Guinea', 'Military - Royal Air Force', 'Don Everall Aviation', 'Air America', 'Pan African Air Charter', 'Sabah Air', 'LAN', 'Lao Aviation', 'ALADA', 'Eagle Commuter', 'Aden Airways', 'Independent Air Inc.', 'Military - Japan Maritime Self Defense Force', 'Jetwingsco Inc. - Private Charter', 'BHS - Brazilian Helicopter Service  Air Taxi', 'Douglas Aircraft Company', 'Société Auxiliare de Navigation Aérienne', 'Military - Indian Air Force', 'Downeast Airlines', 'Pacific Southwest Airlines', 'Aeronica', 'Phoenix Airlines', 'Military - Congolese Air Force', 'Aramco Associated Company', 'Whyalla Airlines', 'Safari Express Cargo', 'Servicio Aereo Columbiano / SCADTA', 'Scenic Air Lines', 'Kogalmavia', 'Taiwan Aviation', 'VOTEC / VOTEC', 'Everest Air', 'Air Inter', 'Air Taxi - EMS', 'Military - U.S. Air Force/Military - U.S. Air Force', 'Transcontinental', 'Bearskin Airlines / Air Sandy', 'Alaska-Washington Airways', 'Air Logistics', 'Societe France Hydro', \"Military - Lao People's Liberation Army Air Force\", 'Reynolds Airways', 'Military - Royal Nepalese Air Force', 'Plane Sailing', \"People's Liberation Army Air Force\", 'Laser Aereo Colombia', 'Emery Worldwide', 'United Nations Mission', 'Military - Imperial Iranian Air Force', 'Ginger Coote Airways', 'Lineas Aereas Suramericanas', 'Wien Air Alaska', 'Paradise Tour Helicopters', 'American Airlines', 'Military - Colombia Air Force', 'Uganda Airlines', 'Western Helicopter', 'Military - British Air Ministry', 'Kansas City Southern Skyways', 'Talia Airways', 'Cubana (leased from Global Air)', 'Luxair', 'Volga-Avia Express', 'Prestige Airlines (Cargo) Charter', 'Private - Corporate', 'Nacional de Aviacion', 'Nationwide Air Transport', 'Transporte Aereo Federal', 'Aeralpi', 'Scenic Airlines', 'Società Aerea Teseo', 'Military - Sri Lankan Air Force', 'Servicios Aereos Nacionales', 'Loftleidir Icelandic Airlines', 'Iran Air Tours  /  Military - Iranian Air Force', 'African Air', 'Air Taxi', 'ADC Airlines', 'Ceskoslovenské Aerolinie', 'Airwork', 'STASA', 'Ryan Blake Air Charter', 'Pacific Northern Airlines', 'New Tribes Mission', 'Air Jordan', 'Blue Wings Airlines', 'Allied Services Limited\\xa0', 'Aeroput', 'U.S. Overseas Airways', 'Aerolineas Argentinas', 'Fragtflug', 'Military - Greek Army', 'Aircraft Charter Group Inc', 'Charter - Central Air', 'Jett Paqueteria SA', 'Military - South African Air Force', 'Patuxent Airways / Private', 'LANC Colombia', 'Military - Philippine Air Force', 'Union des Transports Aeriens de Guinee', 'Military - Navy', 'Omniflight Helicopters Inc.', 'Indian National Airways', 'Pamir Airlines', 'Macchi', 'Chicago and Southern Airlines', 'Military - Royal British Navy', 'Military - Pakistan Air Force', 'Executive Jet Sales Inc.', 'United Airways of New Zealand', 'Southcentral Air', 'Standard Airlines', 'Belize Air International Ltd.', 'Liberty Helicopter Sightseeing Tours / Private', 'Aerolineas TAO', 'Miami Airlines', 'Central Air Transport', 'Jack Harter Helicopters', 'Deutche Lufthansa', 'CATC', 'Saudi Arabian Royal Flight', 'Wasa Wings', 'TANS Airlines', 'ACES Colombia', 'Cascade Airways', 'Charter - Air Adventures New Zealand Ltd', 'TAM (Bolivia)', 'Win Win Aviation', 'AREA', 'Garamut Aviation', 'Trans Luxury Airlines', 'Daimler Airways', 'Aeropostale', 'Military - U.S. Misson', 'SAN Ecuador', 'Transfair', 'ETA - Empresa Transportes Aéreos', 'South Central Airlines', 'Bharat Airways', 'Northern Air Cargo', 'Transport Comp. Algerienne de T.A.', 'Bali International Air Service', 'TAG Airlines', 'Avirex', 'AirNow', 'Southwest Air', 'Arrow Airlines', 'Skywest Airlines / Private.', 'Associated Air Transport', 'Military - Royal Lao Air Force', 'TransAsia Airways', 'TanaMana Aviation', 'Blue Water Aviation Services', 'Faucett', 'Royal Air Lao', 'Transcontinental &Western Air', 'Sabang Merauke Raya Air Charter', 'Military - Taliban Militia', 'Military - LADE', 'Inex Adria Aviopromet (Yugoslavia)', 'Leadair - Charter', 'Lloyd Aero Boliviano SA', 'Aerocaribbean', 'Kenting Air', 'Air Outremer', 'Haïti Air Inter', 'Imperial Airways', 'de Havilland Air Service', 'Aerolineas Condor', 'Air Guinee', 'Myanmar Airways', 'True Aviation Ltd.', 'Kish Airlines', 'Northeast Airlines', 'Aeropeca', 'Cabo Verde Airlines', 'Harka Air Services', 'Sky Dive New Zealand', 'Military - Azerbaijan Air Force', 'Surinam Airways', 'MASwings', 'Independent Air Travel', 'Sudan Airways', 'Akhal Air', 'Military - Corrieri Aerei Militari', 'Soldotna Air Services', 'SCAT Air', 'L & J Company', 'NARZ', 'Lineas Aéreas Sud Americana', 'Piedmont', 'Krasnoyarskie Avialinii', 'ALIANSA Colombia', 'Universal Jet Aviation', 'Carvair ATL-98', 'Japan Aviation Corporation', 'REAL', 'Canadian Colonial Airways', 'Ararat Avia', 'Karibu Airways', 'Delta Air Lines', 'Blue Hawaiian Helicopters', 'Sosoliso Airlines', 'Midwest Express', 'Liard Air', 'Societe Indochinoise de Transport Aeriens', 'British European Airways / Military - Soviet Air Force', 'Conviasa\\xa0Airline', 'American Jet', 'Advance Airlines', 'Greek Government', 'Trans Air Services', 'Eastern Air Lines / Military - Bolivian Air Force', 'Resort Airlines', 'Military - Spanish Air Force', 'Dai Nippon', 'Peninsular', 'Ceskoslovenske Aerolinie', 'US Aerial Mail Service', 'Phoenix Aviation', 'Fuerza Aerea Mexicana', 'Blue Hawaiian Helicopter', 'Icelandair', 'Air Congo', 'Agape Flight Inc.', 'Commercial Airways', 'Military - Royal Australian Air Force', 'Palwaukee', 'Aeronorte', 'Military - French Navy', 'Duncan Aircraft Sales', 'Lineas Areas Venezolanas', 'Aeroflot / Kazakhstan', 'Transpolar', 'California Aircraft', 'Bankair', 'AirAsia', 'Lineas Aéreas Trans. Brasileira', 'Ozark Air Lines / Private', 'Northern Wings', 'Devlet Hava Yollari', 'Air Bagan', 'Paul Kelly Flying Service Inc.', 'Jetcom S.A.', 'Wings West Airlines / Private', 'Alamo Airways', \"Aviatour's Fly'n Inc.\", 'Tepper Aviation', 'Spair Air Transport', 'Monarch Aviation', 'West Air Sweden', 'Military - Japanese Air Self-Defence Force', 'Military - U.S. Army Air Service', \"Hillman's Airways\", 'Freedom International', 'Pinnacle Airlines/Northwest Airlink', 'Guiena Airways', 'Overseas National Airways', 'Safe Air Cargo', 'CATA', 'Chicago-Detroit Airways', 'Air Bissau', 'Charter - Air Cush', 'Enimex', 'Aeronaves de Panama', 'Air Niugini', 'Nepal Airlines', 'Laurentian Air Services', 'TsAGI', 'Transair Georgia Airlines', 'Military - Islamic Republic of Iran Air Force', 'Temesco Helicopter - Air Taxi', 'BAFIN', 'Indonesian Air Force', 'Aerolineas Nacionales', 'Western Canada Airways', 'Aeronorte Colombia', 'Military -Royal Air Force', 'Aero Transportes', 'Aero Club Libya', 'Loganair', 'Military - Servicio Aereo Nacional', 'Burma Airways', 'Military - Royal Lesotho Defence Force', 'Air Memphis', 'Fine Air', 'Vladivostokavia', 'Air Vietnam (South Vietnam)', 'Asian Spirit', 'Military - West German Air Force', 'LAMIA Bolivia', 'Air Malawi', 'New Zealand National Airways', 'Private - Facilities Management Co.', 'IrAvia', 'TAM (Peru)', 'TAC Colombia', 'Aerolineas Cuahonte', 'Gabon Express', 'Lineas Aereas Unidas', 'Wiggins Airways', 'Komi Avia', 'Frigorifico Cooperativo Los Andes', 'Deccan Airways', 'Azzi', 'Aeroservicios Empresariales de Durango', 'Mercer Airlines', 'Bashkirian Airlines / DHL Worldwide Express', 'Mac Roberston-Miller Airlines', 'Spartan Air Services', 'Air Taxi - Tundra Copters', 'REAL Transportes Aereos', 'Simmons Airlines', 'Mt. McKinley Airfreight', 'Aeroflot / Soviet Air Force', 'Trans World Airlines / Private', 'Wyoming Air Service', 'Hornbill Airways', 'Mountain Air Cargo', 'Military - Yemeni Arm', 'Trans Isle Air', 'Mandala Airlines', 'Scandinavian Airlines (SAS)', 'Military - Angolan  Air Force', 'Aeropostale - La Tecoere Company', 'Indian Airlines', 'Bristol Aeroplane Co.', 'Alyemda', 'Air Ivorie', 'Horizon Properties', 'Ukraine Air Alliance', 'Darbhanga Aviation', 'Aeroflot Russian International Airlines', 'Middle States Airlines', 'British European Airways', 'Military - Israel Air Force /Military -  Israel Air Force', 'Magistralnye Avialinii', 'Military - Royal Indian Air Force', 'Lufthansa Cargo Airlines', 'Lineas Aéreas Suramericanas', 'Avicsa', 'Aviation Enterprises', 'EAS Airlines (Executive Airline Services)', 'Sadia', 'Eastern Provincial Airways', 'Avesca Colombia', 'Petroproducción', 'Daallo Airlines', 'Mannin Airways', 'Regional Airlines', 'Angola Air Charter', 'Somali Airlines', 'Aeroservicios', 'US Airways', 'General Aviation Inc.', 'Nationair (chartered by Nigeria Airways)', 'Bristop Aeroplane Company', 'Braniff Airlines', \"Harrington's Inc\", 'Tiramavia', 'Fuerza Aérea Uruguaya', 'Northwest Airlines', 'Ethiopian Airlines', 'Wasaya Airways', 'Rwanda Government', 'Air Tahoma', 'Zakavia', 'Pacific Air Transport', 'Austral Lineas Aeras (Argentina)', 'Faraz Qeshm Airlines', 'Capital Airlines', 'Farnair Hungary', 'Aero Service', 'Aeroflot / Military - Russian Air Force', 'Expresso Aéreo', 'Aviaco Condor', 'Bristow Helicopters', 'BHS - Brazilian Helicopter Services', 'TAMPA Colombia', 'Shell Co of Ecuador', 'EgyptAir', 'Air Taxi - Ohana Helicopter Tours', 'Private - Aero Trans Corp', 'Korean Air', 'Med-Trans Corporaion', 'New  York Helicopter', 'Lineas Aereas de Espana/Spantax SA Transportes', 'Cameroon Airlines', 'Taquan Air Service', 'Air Global', 'National Parks Airways', 'Servicios Americanos', 'Aerovias Cuba International', 'Libyan Air Cargo', 'Aeronaves del Peru', 'Air Taxi - Great Northern Aircraft Co.', 'Business Air Connection', 'Military - Ukraine Air Force', 'North East Bolivian Airways', 'Lineas Aéreas Brasil', 'Lineas Areas Unidas', 'Adastra Airways', 'Straits Air Freight Express', 'Aerolineas El Salvador', 'Ministerstvo Obshchestvo Mashinostroyeniya', 'Agencia Interamericana de Aviada', 'Alia Royal Jordanian Airlines', 'Lineas Aéreas Costarricenses  LACSA', 'Syndicato Condor', 'Dominicana', 'TACA International Airlines', 'All Nippon Airways /  Japanese Air Force', 'President Airlines', 'AE Aviation', 'Military - U.S. Marine Corps/Military - U.S. Marine Corps', 'Strait Air', 'North Continental Airlines (Robin Airlines)', 'Air Charter', 'Page Airways', 'SAM Colombia', 'Alitalia', 'Central American Airways', 'Aerovias Halcon', 'T.A. Intercontinentaux (France)', 'Papillon Grand Canyon Helicopters of Las Vegas', 'Air Littoral', 'SELVA Colombia', 'Total  Air Lines', 'Air Sunshine', 'Linea Aérea Nacional', 'Lineas Aéreas Interpolar', 'Compania de Aviacion Faucett SA (Peru)', 'Military - Myanmar Air Force', 'Airwave Transport', 'Military - Bolivian Air Force', 'ANDESA', 'Skylink Airlines', 'U.S. Government (leased)', 'Rovos Air', 'Air Senegal', 'Air New England', 'Military - Kenya Air Force', 'Military - Portuguese Air Force', 'YAK Service', 'Guernsey Airways', 'Aaxico Airlines', 'Societa Anonima Aero Expresso Italiana', 'Korean Airlines', 'Uruguayan Air Force', 'Air Amercia', 'Union of Burma Airways', 'Yakutavia', 'American Express Leasing', 'Air Ontario', 'Central Airlines', 'Transoriente Colombia', 'Eastern Air Lines / Military - U.S. Army Air Corps', 'SEMAF', 'Aircraft Travel Transport', 'Air Freight New Zealand', 'Kamchatka Airlines', 'Sunbeam Air Transport Co.', 'IAS Cargo', 'Propair', 'FAMA (Argentina)', 'Arctic Wings & Rotors', 'Swedish Air Force', 'Transafrik - United Nations Charter', 'Cessnyca', 'Katekavia Airline', 'Aero Ferinco Charter', 'Linee Aeree Italiane', 'Military - Peruvian Army Aviation', 'British Aircraft Corporation', 'Evolga', 'Deruluft', 'Servicios Aeronauticos Sucre (SASCA)', 'Turkish Airlines THY', 'Military - Colombian Air Force', 'Gulf Air', 'Gum Air Charter', 'China National Aviation Corporation', 'Henan Airlines', 'American Overseas Airlines', 'Philippine Aerotransport', 'USMC', 'Bahia Taxi Aéreo \\t Bahia Taxi Aéreo \\t Bahia Taxi Aéreo', 'Avistar Mandari\\xa0', 'BAL Bremerhaven Airline', 'Air Taroma', 'Aviateca', 'GAS Air', 'Currey Air Transport', 'Far Eastern Air Transport', 'Aerovias Urraca', 'Edwin Ortiz', 'Transamerican Air Transport', 'Inair Panama', \"L'Express Airlines\", 'Ala Littoria SA', 'Vehu Akat', 'Helicsa', 'Caribbean International Airways', 'New England Aviaiton', 'Astro Air Taxi', 'CIDNA', 'TACA', 'Military - Fuerza Aérea Panamena', 'Sudania Air Cargo', 'TVPX Aircraft Solutions', 'Singapore Airlines', 'Aerogulf', 'Military - French Naval Aviation', 'Den Norske Luftfartskole', 'Formosa Airlines', \"Compagnie Africaine d' Aviation (CAA)\\xa0\", 'Blue Wing Airlines', 'American Flyers Airline', 'Canadian Pacific Air Lines', 'Sukhoi', 'Bellview Airlines', 'Aero Ejecutivos', 'Sakha Airlines', 'Nile Delta Air Services', 'North Central Airlines / Private', 'Vanair', 'Ameristar Jet Charter', 'British Airways', 'Garuda Indonesia Airlines', 'Talair', 'SANSA', 'Heart of Texas Hot Air Balloon Rides', 'Air Taxi - Papillion Helicopters Ltd.', 'Braniff Airways', 'Avis Amur', 'Trans Guyana Airways', 'Private - WNBC', 'International Air Freight', 'Mid Continent Airlines', 'Riddle Airlines', 'Philippine Air Force', 'Swissair', 'Trans International Airlines', 'Summit Air Charters', 'Panair do Brasil', 'Kalinga Airlines', 'Russ Air Transport Company', 'Military - Brazilian Air Force', 'Arctic Circle Air Service', 'Airline Transport', 'United Air Lines', 'Swift Aire Lines Inc.', 'Aero Cozumel', 'MMM Aero Services', 'Aeroflot / Aeroflot', 'Military - U.S. Navy / NASA', 'DETA', 'Lloyd Aereo Boliviano', 'Dan Air Services', 'Trans Air Cargo', 'Civil Air Transport', 'Military - Egyptian Air Force', 'American Airways', 'Boeing KC-135E', 'Lloyd Aereo Colombiano', 'Rutas Aéreas Nacionales SA', 'Trans-Luxury Airlines', 'CORAL Colombia', 'Savanair', 'Ruiban & Duran Compania Aérea', 'Promech Air', 'Military - Royal Canadian Air Force', 'California Air National Guard', 'Air Martinique', 'Filair', 'Emirates Air Transport', 'Air Taxi - US Helicopters Inc.', 'Military - Royal Saudi Air Force', 'Fuji Airlines', 'Military - Sudan Air Force', 'Military - Georgian Air Force', 'Servicio Aereo Manchupo', 'Air Taxi - Uyak Air Services Inc.', 'Lineas Aereas de Angola', 'ARTOP Aerotopografica LDA', 'Military - Venezuelan National Guard', 'Middle East Airlines', 'Nahanni Air Services', 'APRL', 'Sky Executive Air Services', 'Uzbekistan Airways', 'Societe Transatlantique Aerienne', 'Helicopter - Air Taxi', 'SATA', 'Lineas Aereas Comerciales', 'Juba Air Cargo', 'Air Moorea', 'ADES Colombia', \"Military - People's Liberation Army\", 'Compagnie Franco-Roumaine de Navigaation Aerienne', 'Sarit Airlines', 'Caledonian Airways', 'Fuerza Aérea Colombiana', 'Air Lanka', 'Sowind Air', 'Pulkovo Airlines', 'Military - Pakistan Army', 'Ford Air Freight Inc.', 'SAETA', 'British World Airways', 'Charter -Federal Electricity Commission', 'Santa Barbara Airlines', 'Prinair', 'Government of Mozambique', 'Aero Sudpacifico', 'Military - Madagascar Air Force', 'Europe Aero Service EAS', 'JS Air', 'SATENA', 'LAPA, Lineas Aereas Privadas Argentinas', 'LAC Colombia', 'Western Air Express', 'Red Wings Airlines', 'Lanica', 'Asa Pesada', 'Southeast Airlines', 'Cordova Airlines', 'Starwood Management LLC', 'Ghana Airlink', 'Seair Seaplanes', 'Aerolineas Flecha Austral', 'Sibir Airlines', 'Liberty Helicopters', 'United Airways', 'Alas del Sur', 'Kranoyarskie Vozhjushnye Trassy', 'Thai International', 'Frigorifico Santa Rita', 'Ozark Air Lines', 'Eastern Air Transport', 'Paukn Air', 'Transmandu', 'El Venado', 'Air Services', 'Rotor Airs Inc - Air Taxi', 'Maddux Airlines / Military - U.S.Army Air Force', 'Military - U.S. Air Force / U.S. Air Force', \"Chalk's International Airlines\", 'Cougar Helicopters', 'Military - Florida Army National Guard', 'Helicopters Inc / KOMO TV', 'Wings Ltd', 'Handley Page Transport', 'Silk Way Airlines', 'Air Cargo Carriers', 'Shangri La Air', 'Military - U.S. Navy', 'Military - United States Navy', '\\tAmazonavesAir Taxi', 'TAME', 'Arctic Sunwest Charters', 'Lineas Aereas Nacionales SA (Peru)', '46826/109', 'Afghan Army', 'Nuna Air', 'Senegalair', 'Air Luxor', 'Military - Zambian Air Force', 'Bruning Aviation', 'Bulair TABSO', 'Fleming Airways System Transport', 'Military - Macedonian Air Force', 'Air Taxi - Wolfe Air Aviation Ltd.', 'Island Airways Ltd.', 'Herfurtner Company', 'Air Afrique', 'Chelan Air Service', 'Syrian Airways', 'Military - Royal Thai Air Force', 'Saudi Arabian Airlines / Kazakhstan Airlines', 'T.A. Intercontinentaux', 'USAir', 'Military - Centrafricain Airlines', 'Million Air', 'Deutsche Zeppelin Reederei', 'Northern Illinois Flight Center', 'Spanair', 'Private - Airfast Indonesia', 'Aerocondor Colombia', 'Navegacao Aerea Brasileira', 'Antillean Airlines', 'èkoda (India) Ltd', 'Martinair Holland NV', 'Emirates', 'Airborne Transport', 'Transair', 'Fly Jamaica Airways', 'Aer Turas', 'Aeromexico / Private', 'Bond Offshore Helicopters', 'Bearskin Airlines', 'Majuba Aviation', 'Glow Air/Air Castle - Charter', 'Sundance Helicopters', 'Alaska Central Express', 'Heliwork WA Pty Ltd. - Air Taxi', 'Aerovias Contreras', 'Airwork NZ', 'Saha Air', 'Bangkok Airlines', 'CAAK', 'Paraense Transportes Aéreos', 'Sierra Pacific Airlines', 'Atlasjet Airlines', 'New York Airways', 'Air Methods / Classic Helicopters', 'Inuvik Coastal Airways', 'Comair', 'Archana Airlines', 'Avisto', 'Ariana Afghan Airlines', 'Tropical Airways', 'International Control Commision', 'Marsland Aviation', 'Aerocalifornia', 'Evergreen International Airlines', 'Lao Airlines', 'Corp. Aeronautica de Transportes', 'Aeroejecutivos Colombia', 'Agni Air', 'Regional Compagnie Aerienne Europeenne', 'Transportes Areos Nacionales', 'Lineas Aereas del Estado', 'Air Manila', 'All Nippon Airways', 'Cia Brasiliera de Tratores', 'Bhoja Airlines', 'SAVCO', 'Houston Metro Airlines', 'Sadai', 'Ptarmigan Airways', 'Air Melanesie', 'Alaska Coastal Airlines', 'Military - Mozambique Air Force', 'Sunflower Airlines', 'RusAir Airlines', 'Universal Airlines', 'Custom Air Service', 'Service Air', 'Airborne Express', 'NY, Phil., Washington AW', 'Aurukun Air Services', 'Lan Chile', 'United Nations', 'Avensa', 'Alisansa Colombia', 'Pickwick Airways', 'SOL Lineas Aereas', 'Loide Aereo Nacional', 'Pacific Alaska Airlines', 'Condor Flugdienst', 'Turkish Airlines', 'TANS Peru', 'Fairways (Filipinas Orient Airways)', 'US-Bangla Airlines', 'Fuerza Aérea Nicaragua', 'Palair Macedonian', 'Military - U.S. Air Force / Military - U.S. Air Force', 'Eurojet Italila', 'Gambcrest', 'Central Mountain Air Services', 'EDELCA', 'Caproni Company', 'Alyemda Airlines', 'Tech - Aeronautical Explotiation', 'Military - Afghan Republican Air Force', 'Interocean', 'Walcot Air Line', 'United Air Lines / Trans World Airlines', 'Executive Airlines', 'Las Vegas Airlines', 'Allied Air', 'Heavylift Cargo Airlines', 'Britannia Airways', 'Military - US Air Force', 'Embry Riddle Company', 'Cambodia Air', 'Military - Indian Navy', 'Libya Arab Airlines / Military -  Libya Air Force', 'Galaxy Airlines', 'Nordeste Linhas Aereas', 'East Provincial Airways', 'Military - Kenyan Air Force', 'T & G Aviation', 'China Southwest Airlines', 'Air Algerie', 'Servicios Aereas Virgen de Copacabana', 'MacRobertson Miller Airlines', 'Monmouth Airways', 'Pelita Air Service', 'Skycraft Air Transport', 'Tura Air Enterprise', 'Military - U.S. Army Air Forces / Military - U.S. Army Air Forces', 'African Commuter Services', 'El Magal Aviation', 'Lineas Aereas del Caribe', 'Pathet Lao Airlines', 'Military - Iranian Revolutionary Guard Corps Air Force', 'Aero O-Y', 'CNAC', 'Aerovias del Norte', 'Angara Airlines', 'Air Kasai', 'Uni Air', 'HiTech Helicopters', 'Airfast Services', 'Private - Parajump air show', 'Interisland Airlines', 'Pan American Grace Airways', 'Military - Russian Navy', 'Russian Air Force', 'Air São Tomé', 'Paraense Transportes Aereos', 'Military - Royal Netherlands East Indies Air Force', 'Flightline', 'Cathy Pacific', 'Alaska International Air', 'Linea Aeropostal Venezolana', 'Transafrik', 'Franco-Roumaine', 'Private', 'North Central Airlines / Air Wisconsin', 'Sahsa Airlines', 'Air Carriers', 'Wheeler Airlines', 'Ukraine Aviation Transport Company', 'Pakistan Airways', 'Air Taxi - Petroleum Helicopters Inc.', 'LANSA', 'Malev Hungarian Airlines', 'Frigorifico Reyes', 'Si Fly - U.N. charter', 'Lion Air', 'Northwest Airways', 'Elbee Airlines', 'Aerosucre Colombia', 'First Air', 'Uzu Air', 'Paramount Airlilnes', 'Skyward International Aviation', 'Servicios Aereos Santa Ana', 'US Air Express/Air Midwest', 'Aerocaribe', 'Australian Corporate Jet Centres PTY. LTD', 'TriCoastal Air', 'Orient Airways', 'Helikopter Service', 'Iberia Airlines / Aviaco', 'Military - Fuerza Del Peru', 'Aero Brasil', 'Transaereo 5074', 'Indian Air Force', 'Tranair', 'Hibiscus Air', 'Boeing Aircraft Company', 'Nordchurchaid', 'Aerotransportes Petroleros', 'North Bay Charter', 'Bangkok Airways', 'Great Western and Southern Air Lines', 'Helios Airways', 'Military - U.S. Army Air Force', 'Webstas Aviation Services Inc.', 'North Western Air Transport', 'Angel Flight', 'Siamese Airways', 'Team Air', 'Military - Turkish Air Force', 'Lina Congo', 'Private - Mainline Aviation', 'ALFA', 'Aeropesca Colombia', 'Aquilla Airways', 'Petrolium Helicopter', 'Lauda Air', 'ERA Helicopter', 'Saratov Airlines', 'Socotra', 'Air Force of the Democratic Republic of the Congo', \"Military - Armée de l'Air Malgache\", 'Capitol Airways', 'Aeroperlas', 'Kuban Airlines', 'Tashkent Aircraft Production Corporation', 'Professional Aviation Services', 'Air Laos', 'Trans World Airlines / Eastern Air Lines', 'West Coast Air', 'Corporacion Boliviano de Fomento', 'Aerocondor', 'Continental Connection/Colgan Air', 'Fuerza Aérea del Peru', 'Asiana Airlines', 'Africa One Congo', 'Sunbird Aviation', 'Nusantara Buana Air', 'Azerbaijani Airlines', 'Aeromexico', 'Holmstoem Air', 'Military - U.S. Army / Military - U.S. Army', 'Compañia Colombiana de Navegación Aérea', 'TAN Honduras', 'Servicios Aéreos Cochabamba', 'British Overseas Airways /Qantas', 'Holymans Airways', 'Aerovias Brasil', 'China General Aviation Corporation', 'Private  - Daewoo Shipbuilding', 'Speed Service Couriers', 'Alpine Adventures', 'Aerovias del Valle', 'Air Atlas', 'Transport Aerien Intercontinentaux (France)', 'Air Mauritanie', 'Ocean Airlines', 'Colonial Air Transport', 'Wenela Air Services', 'Military - Fuerza Aerea Colombiana', 'Military - Government of Macedonia', 'Far Aviation - Air Taxi / Speeds Flying - Air Taxi', 'Mustique Airways', 'FedEx', 'Jet Pro', 'Aero Fret Business', 'Syrian Air Force', 'Avion Airways', 'Cable Commuter', 'Private - Boeing Aircraft Company', 'TARS', 'Pan American Airways', 'Transportes Aereos Don Carlos - Charter', 'Military - Chadian Air Force', 'Air Taxi - Airis Helicopters Inc.', 'Taiwan Airlines', 'Continental Charters', 'Aerovias Guest', 'Aerolift Philippines', 'Dirgantara Air Service', 'Military - U.S. Air Force / Military -  U.S. Air Force', 'AirWest Airlines', 'Olympic Aviation', 'Líneas Aéreas Suramericanas', 'Suomen Urheiluilmailijat', 'Okada Air', 'Deutsche Lufthansa', 'General Air', 'Military - Spanish Air Force.', 'Eastern Air Lines / Military - USN', 'Transportes Aereos del Caribe', 'Spencer Airways / Ceskoslovenske Aerolinie', ' British American Air Services', 'General Airways', 'Military - Kazakhstan Border Guards', 'National Air Cargo', 'Transportes Aereos Mexicanos', 'Pavair', 'Kuwait Airways', 'F.R. de la Direccion General de Ados', 'Great Lakes Business Complany', 'Lineas Aéreas Costarricenses', 'Avient Aviation', 'Alaska Aeronautical Industries', 'Royal Air Maroc', 'Labradore Airways', 'Arall'}\n"
     ]
    }
   ],
   "source": [
    "print(set(data3['Operator']))"
   ]
  },
  {
   "cell_type": "code",
   "execution_count": 15,
   "metadata": {},
   "outputs": [
    {
     "name": "stdout",
     "output_type": "stream",
     "text": [
      "<class 'pandas.core.frame.DataFrame'>\n",
      "Int64Index: 4886 entries, 0 to 4966\n",
      "Data columns (total 5 columns):\n",
      "Date          4886 non-null object\n",
      "Location      4886 non-null object\n",
      "Operator      4886 non-null object\n",
      "Fatalities    4886 non-null int64\n",
      "Summary       4886 non-null object\n",
      "dtypes: int64(1), object(4)\n",
      "memory usage: 229.0+ KB\n"
     ]
    }
   ],
   "source": [
    "data3.info()"
   ]
  },
  {
   "cell_type": "code",
   "execution_count": 21,
   "metadata": {},
   "outputs": [
    {
     "name": "stdout",
     "output_type": "stream",
     "text": [
      "{'01/18/1950', '09/23/1962', '12/31/1970', '03/07/1935', '07/17/1995', '08/15/1949', '11/17/1952', '10/02/1956', '12/22/1999', '10/28/1960', '01/06/1946', '01/12/1955', '08/15/1973', '07/15/1963', '02/24/1949', '01/25/1930', '03/02/1965', '08/24/1938', '07/27/2002', '08/24/2010', '06/17/1989', '10/02/1964', '03/27/2003', '12/01/1989', '11/29/1995', '04/05/1950', '04/19/2000', '06/10/2008', '07/16/1962', '07/30/1941', '09/15/1988', '07/11/1983', '03/21/1956', '02/01/1988', '03/13/1954', '11/20/2000', '07/14/1992', '01/29/1957', '10/22/1958', '05/16/2001', '12/05/1937', '01/14/1982', '05/26/2008', '10/15/1920', '08/27/1923', '12/01/1950', '03/29/1932', '01/10/1954', '03/14/1994', '11/29/2009', '08/24/1960', '04/12/1990', '05/20/1937', '02/20/2009', '12/04/1961', '12/04/1965', '07/31/1993', '06/12/1959', '01/10/1968', '06/14/1940', '10/03/1996', '04/02/1958', '09/16/2007', '08/27/1981', '05/14/2006', '12/05/2013', '11/30/1996', '07/09/1962', '07/14/1960', '03/25/1961', '06/26/1948', '08/24/1929', '06/22/1934', '11/03/1950', '06/14/1950', '04/21/1970', '01/03/1975', '01/01/1976', '06/01/2003', '01/12/2008', '10/16/1944', '10/08/1968', '04/12/2002', '05/23/1971', '05/26/1970', '07/21/1984', '10/26/1993', '12/10/1934', '09/26/1997', '01/24/1966', '11/08/1983', '10/22/1943', '10/03/1946', '11/17/1936', '12/11/2008', '09/01/1982', '07/15/1969', '03/24/1984', '09/19/1988', '10/13/1972', '06/07/1992', '08/26/1993', '06/01/1999', '12/24/1999', '06/11/2003', '12/03/1945', '07/20/1939', '01/15/1963', '04/17/1967', '08/14/1978', '12/07/1996', '12/16/1918', '04/28/1960', '04/20/1967', '04/03/1994', '05/18/2004', '08/11/1951', '02/12/1998', '09/16/2000', '02/09/1987', '09/27/2008', '10/03/2003', '11/07/1956', '08/06/2005', '02/04/1962', '05/28/1968', '01/31/1989', '07/06/1967', '12/19/1942', '11/21/1959', '01/06/1972', '07/01/1993', '06/09/1996', '09/10/1972', '03/04/1987', '05/31/2013', '12/09/1930', '02/10/2018', '08/06/2000', '06/18/1953', '09/01/1983', '12/24/1964', '01/17/2002', '11/30/1954', '03/27/1953', '02/19/1955', '03/06/1976', '03/02/1986', '02/14/1953', '01/31/1993', '11/04/1949', '05/14/2004', '11/21/2015', '08/19/1949', '08/05/2008', '12/10/1946', '02/27/1948', '02/09/1938', '09/12/1954', '12/26/1989', '06/27/1995', '02/19/1984', '05/11/1953', '10/12/2010', '12/19/1936', '05/22/1946', '01/22/1976', '06/29/1972', '08/24/1984', '01/24/1988', '05/25/1971', '07/24/2014', '12/15/1953', '01/05/1970', '03/25/1986', '02/22/1981', '10/25/1962', '05/25/1998', '05/06/1951', '12/21/1955', '06/10/1997', '06/19/1947', '08/06/1966', '10/08/1966', '05/06/1974', '05/16/1938', '01/15/1987', '03/31/2005', '01/09/1985', '05/16/2005', '04/27/1966', '11/23/1931', '07/26/1944', '06/06/1976', '09/28/1994', '09/15/1980', '01/01/1966', '12/07/1988', '05/10/2000', '07/08/2003', '09/20/2003', '01/29/1973', '10/23/1973', '06/05/1969', '02/03/1980', '06/17/1979', '06/04/1947', '09/05/1946', '04/08/1968', '01/18/1976', '12/24/1958', '06/12/1988', '03/15/2001', '04/20/1978', '01/21/1959', '11/23/1989', '09/18/1946', '09/16/1991', '02/22/1975', '04/26/1993', '10/17/1988', '06/15/1945', '03/15/1935', '02/01/1991', '06/22/2003', '06/07/1931', '09/21/1993', '03/08/1962', '10/25/1998', '04/01/1936', '05/25/1953', '11/16/1958', '03/05/1967', '02/12/2002', '08/15/1957', '08/29/1981', '01/22/1940', '06/25/1958', '09/02/1977', '05/08/1964', '09/27/1954', '08/23/1961', '05/14/1917', '07/31/1936', '08/28/1972', '08/04/2006', '04/13/1982', '11/04/1929', '09/08/1970', '12/06/1969', '03/30/1929', '04/09/1956', '01/15/1968', '02/25/1994', '05/25/1979', '08/07/1935', '12/25/1945', '09/08/1932', '01/31/1955', '11/06/1986', '09/25/1998', '06/06/1990', '09/08/1953', '03/12/1948', '05/18/1935', '11/24/1966', '02/02/1997', '07/03/1963', '12/23/2003', '01/05/1969', '06/30/1994', '09/13/1994', '07/04/2002', '02/14/1956', '08/09/1948', '05/05/1987', '03/07/1948', '06/12/1996', '10/10/1970', '07/01/1994', '09/06/1997', '08/21/1994', '10/01/1916', '07/07/1940', '04/02/1976', '03/08/1932', '01/28/1986', '08/16/1972', '10/28/1989', '01/08/2003', '02/09/1974', '12/07/1998', '06/25/1945', '06/14/1960', '03/26/1979', '12/11/1928', '08/12/1938', '02/16/1966', '12/05/1981', '05/31/1926', '04/16/1983', '10/12/1997', '11/18/2004', '04/30/2012', '09/21/1992', '09/25/2009', '07/26/2000', '02/19/1958', '11/20/1929', '07/29/1972', '06/24/1957', '10/27/1975', '08/16/1986', '07/26/1993', '03/01/1976', '06/15/2003', '09/07/1944', '12/29/1964', '06/25/2003', '07/24/1931', '02/23/1945', '03/20/1955', '11/27/2006', '04/01/1997', '04/02/2012', '05/16/1958', '05/10/1918', '10/08/2001', '09/30/1973', '12/30/1949', '12/13/1951', '11/09/1995', '09/28/1942', '01/15/1943', '12/24/1939', '06/22/2000', '03/15/1962', '03/29/1952', '12/17/1960', '05/12/2010', '08/10/2014', '01/12/1951', '06/28/2004', '11/15/1992', '08/03/2006', '01/06/1959', '06/18/1994', '09/06/1984', '11/13/1995', '01/14/1954', '06/23/1959', '08/14/1946', '07/06/1972', '05/06/1981', '11/16/1979', '03/13/1974', '01/29/1986', '02/05/1954', '04/06/1993', '07/06/1997', '03/11/1951', '08/03/1969', '12/21/2002', '10/10/2006', '11/27/2001', '02/19/1979', '07/20/1996', '05/26/1944', '03/05/1963', '01/02/1973', '12/31/1997', '05/07/2002', '06/13/1947', '06/29/2008', '04/07/1936', '08/04/1939', '06/30/1959', '10/24/1945', '09/15/1974', '11/29/1987', '08/09/1995', '08/23/1954', '02/03/1959', '02/11/2014', '09/21/1984', '11/21/1933', '11/28/1980', '12/27/1947', '12/07/2016', '05/16/1932', '09/06/1985', '03/26/2005', '03/05/1969', '06/14/1929', '07/27/1952', '08/11/1943', '06/16/1955', '07/26/1989', '09/07/2007', '12/01/1959', '03/10/1920', '09/01/2006', '08/09/1949', '04/26/1989', '10/21/2009', '10/14/1963', '11/03/1975', '01/05/1953', '11/20/1949', '12/07/1967', '05/09/1996', '09/12/1963', '07/17/2000', '08/09/1940', '01/25/1982', '11/15/2000', '11/01/1955', '01/14/1933', '08/04/1955', '02/26/2016', '04/07/1918', '11/29/1944', '08/11/1974', '10/12/1985', '02/28/1984', '11/15/1985', '02/21/2014', '10/14/2017', '12/02/1929', '12/07/1949', '05/18/1986', '04/12/1980', '11/28/1976', '02/17/1971', '03/05/1936', '08/22/1973', '08/08/1947', '06/03/1973', '10/06/1976', '09/03/1990', '11/29/2003', '06/19/1984', '01/21/1999', '08/25/1928', '03/28/1956', '05/06/1962', '05/31/1985', '07/31/1979', '03/29/1979', '03/25/1951', '08/29/1979', '09/04/1977', '07/09/1997', '08/11/1929', '07/11/1991', '08/21/1992', '12/21/1994', '10/14/2004', '07/20/1946', '12/21/1988', '12/10/2006', '09/15/1952', '06/24/1982', '11/10/1989', '04/14/1979', '05/24/1988', '09/12/1992', '05/07/1964', '09/19/1989', '07/27/1955', '09/22/2011', '05/31/1954', '11/24/1956', '12/07/1936', '10/22/1951', '11/17/2006', '05/02/1953', '11/22/1945', '07/28/1976', '04/27/1993', '11/21/1998', '02/06/2004', '04/21/1958', '11/13/1947', '01/15/1990', '04/27/1986', '09/01/1961', '01/09/1974', '03/02/1963', '07/10/1986', '08/11/1984', '04/18/1990', '12/22/1996', '11/02/2003', '04/21/2011', '01/28/1956', '05/22/1929', '02/23/1934', '03/23/1951', '04/27/1988', '07/27/1981', '01/17/2008', '08/22/1927', '08/22/1930', '05/16/1936', '11/13/1931', '04/10/1920', '10/25/1938', '06/10/1939', '01/02/1961', '11/29/1938', '09/18/1979', '12/15/2010', '08/19/1998', '06/14/1953', '10/01/1925', '03/18/1998', '09/14/1931', '08/15/1959', '11/10/2011', '05/27/2017', '04/10/1965', '07/11/1997', '01/27/2001', '02/15/1958', '06/03/1941', '02/15/1921', '01/23/1971', '11/02/1965', '04/22/1974', '12/28/1973', '03/10/1948', '11/14/1946', '07/16/1948', '07/12/1949', '10/14/1953', '08/01/1980', '06/16/1995', '12/01/1928', '12/28/1947', '06/11/1967', '03/06/1968', '05/08/1978', '04/19/2011', '02/03/1989', '08/12/1985', '07/18/1997', '04/02/1955', '11/07/1996', '10/22/2005', '07/01/1947', '10/04/1976', '12/07/2011', '05/25/1987', '05/25/2002', '05/01/1957', '01/20/1933', '08/29/1948', '12/09/1955', '03/08/1965', '03/08/1969', '08/02/1984', '05/25/1982', '10/13/2011', '06/25/2007', '11/25/2010', '10/08/1952', '12/26/1998', '05/20/1948', '06/18/1944', '04/20/1998', '09/11/1979', '02/05/2006', '01/11/1995', '06/03/1963', '08/22/2006', '07/14/2001', '08/31/1987', '07/03/1926', '10/05/2004', '11/21/2004', '10/31/1979', '08/31/1950', '08/15/1935', '09/20/1950', '11/22/1968', '01/18/1969', '11/30/1967', '01/30/2005', '10/24/1971', '05/16/1981', '11/19/1996', '04/11/1936', '07/03/2009', '07/11/2011', '11/02/1935', '11/11/1947', '07/03/1997', '01/14/1936', '12/26/1941', '05/30/1984', '05/03/2000', '07/24/2009', '12/20/1995', '07/12/2004', '07/06/1988', '01/13/1987', '05/05/1972', '10/06/1970', '11/08/1963', '09/01/1975', '08/15/1939', '05/09/1957', '07/31/1964', '12/09/1982', '07/10/1928', '09/14/1983', '06/07/1989', '11/24/1933', '08/14/2005', '10/30/1927', '07/06/1969', '01/08/1989', '02/03/1930', '11/06/1944', '03/18/1953', '06/10/1970', '08/16/1954', '09/15/1931', '06/23/1949', '02/20/1993', '03/11/1983', '03/17/2002', '02/15/1966', '06/21/2012', '03/18/1949', '08/01/1962', '11/12/1980', '06/06/1996', '05/29/1972', '09/12/1997', '11/23/1950', '11/11/1945', '08/29/1956', '03/28/2003', '04/19/1993', '01/26/1972', '12/04/1971', '10/10/1938', '07/06/2013', '10/18/1944', '11/30/1944', '07/03/1970', '11/19/1936', '08/13/1939', '08/30/1983', '05/29/1995', '12/27/2002', '10/31/1947', '08/06/1961', '09/12/1961', '06/17/1995', '09/17/1971', '07/19/1919', '09/11/1930', '08/18/1938', '04/21/1932', '03/16/1969', '01/06/1974', '04/22/1971', '04/30/1952', '02/26/1996', '09/02/1998', '06/27/2000', '05/21/1955', '11/24/1928', '04/13/2013', '10/28/1970', '08/29/1960', '09/12/1988', '09/22/1943', '12/22/1979', '02/21/1964', '07/01/1987', '08/09/1954', '05/05/1998', '04/20/1972', '06/21/2006', '01/10/2000', '02/05/1947', '05/30/1979', '07/13/1968', '08/28/1986', '11/09/1933', '10/27/1965', '03/24/2000', '05/24/2007', '09/17/1999', '02/02/2000', '09/25/1946', '09/14/2002', '02/08/1965', '11/02/1988', '07/20/1925', '05/05/2005', '02/04/1952', '05/25/2000', '11/07/1920', '09/14/1953', '10/21/1998', '06/23/1957', '07/23/1983', '02/24/1968', '05/09/1953', '09/02/1928', '02/18/1969', '12/04/1960', '10/15/2004', '07/07/2014', '12/02/1970', '08/25/1989', '08/31/1968', '04/22/1962', '07/20/1972', '08/21/1995', '11/11/1953', '04/22/1943', '12/18/1945', '03/24/1958', '07/22/2016', '06/27/1974', '05/24/1931', '01/22/1943', '06/27/1989', '01/14/1963', '05/11/1964', '04/29/1921', '08/14/1991', '06/22/1962', '04/10/1992', '05/09/1945', '03/14/1957', '05/24/1956', '11/17/1964', '11/14/1970', '11/12/2001', '05/09/1991', '11/13/1946', '05/18/1990', '04/10/1989', '01/04/2001', '07/16/1999', '07/28/2011', '05/12/1959', '07/07/2008', '05/02/1950', '06/24/1960', '03/01/1938', '06/28/1971', '10/31/2000', '10/04/1989', '11/01/1996', '03/30/1959', '04/28/1988', '12/23/1978', '12/21/1948', '11/12/2009', '07/04/1973', '02/07/2003', '01/11/1983', '07/29/2004', '01/30/1948', '04/05/1976', '06/03/1951', '06/21/1947', '10/30/1959', '06/25/1965', '07/15/1962', '12/25/1976', '10/31/1954', '02/26/1947', '01/01/1974', '11/24/1992', '04/06/1951', '04/25/1980', '10/20/1986', '12/09/1971', '05/22/1931', '08/05/1936', '12/29/1943', '08/23/1962', '12/03/1928', '04/17/1981', '12/24/1982', '11/18/1938', '01/16/1975', '09/27/2003', '02/16/1995', '02/21/2008', '06/02/2012', '09/23/1961', '04/05/1960', '02/01/1985', '09/29/1955', '04/22/1960', '07/13/2011', '04/04/1943', '09/08/1969', '03/09/1968', '07/01/1983', '08/20/1975', '12/14/1962', '11/11/1961', '07/10/1975', '12/13/2002', '02/03/2005', '12/05/1970', '09/27/1957', '09/15/2001', '03/02/1994', '05/01/1942', '04/27/1976', '12/01/1974', '06/29/1929', '12/17/1955', '06/03/2007', '12/29/1962', '05/11/1990', '12/16/1926', '09/11/2006', '10/18/1957', '08/23/1944', '03/02/1976', '06/02/1983', '07/09/1991', '05/13/1991', '03/04/2004', '02/25/1954', '04/13/1987', '09/04/1966', '03/10/1967', '04/04/1997', '08/17/1983', '03/12/2009', '03/14/1947', '12/14/1992', '07/22/1973', '08/25/1985', '05/07/1949', '02/08/1979', '03/25/1950', '02/26/1960', '05/11/1996', '08/22/2007', '10/30/1941', '03/24/2001', '10/13/1950', '03/13/1943', '03/19/1972', '12/15/1942', '11/21/1951', '03/02/1957', '07/11/1966', '10/05/1920', '02/20/1967', '09/09/1969', '10/02/1970', '12/31/2017', '10/23/1957', '05/09/1962', '08/20/2008', '05/19/1942', '08/26/1999', '12/04/1958', '10/13/1930', '03/10/1981', '08/05/1994', '11/20/1974', '12/06/1948', '01/09/1993', '01/01/2009', '06/23/2010', '09/03/2010', '02/19/1973', '10/25/1988', '01/09/1997', '08/03/1979', '06/12/1982', '07/19/1989', '12/17/1997', '05/27/1938', '08/11/1958', '09/04/1963', '12/18/1981', '03/16/1940', '09/03/1927', '01/22/1952', '11/11/1935', '08/03/1966', '05/06/1969', '08/30/1970', '02/12/1963', '12/21/1972', '12/06/1984', '04/04/1987', '09/12/1933', '07/08/1938', '08/04/1968', '08/08/1989', '09/02/1983', '07/04/1948', '05/04/2002', '08/27/1949', '02/07/1982', '01/21/1976', '01/31/1997', '12/02/1968', '11/26/1991', '08/10/1941', '01/13/1951', '03/29/1953', '05/02/1927', '03/12/1964', '10/08/1926', '08/09/1975', '10/13/1945', '01/02/2006', '01/11/1938', '01/30/1979', '12/03/1993', '07/21/1949', '06/03/1975', '12/21/1939', '05/28/1994', '06/20/1956', '11/21/1977', '07/14/1994', '01/06/1957', '08/24/1965', '12/12/1968', '04/08/1947', '12/28/1948', '10/04/1960', '02/21/2002', '01/02/2013', '10/04/2014', '11/13/1950', '12/26/2001', '05/20/1964', '06/25/1925', '07/17/1950', '03/17/1988', '08/26/2003', '07/20/1951', '02/13/1965', '08/02/2000', '05/23/1991', '09/11/1975', '05/01/1986', '05/18/1929', '12/11/1947', '12/15/1948', '10/20/1963', '06/19/1987', '12/04/1940', '02/16/2003', '04/05/1948', '10/20/1917', '06/24/1929', '12/24/1946', '06/16/1953', '03/04/1957', '12/30/1958', '09/05/1967', '09/16/1971', '07/17/1996', '06/06/1971', '11/14/1965', '12/10/1967', '11/29/1964', '04/16/2008', '01/20/1954', '12/31/1927', '07/01/1999', '09/24/2007', '07/17/1997', '12/14/2001', '10/04/2001', '11/23/2001', '09/27/1920', '07/19/1961', '08/31/1988', '08/26/1980', '08/13/2004', '05/22/1954', '08/22/1981', '05/17/1921', '02/17/1990', '11/08/1945', '10/18/1928', '01/29/1990', '02/22/1991', '05/26/1998', '08/17/2003', '01/08/1935', '06/13/1961', '05/07/1928', '07/07/1948', '12/03/1969', '03/26/1951', '09/22/1966', '08/07/1994', '12/01/1944', '01/08/2001', '08/08/2009', '09/04/2010', '11/16/1981', '12/05/2012', '08/11/1955', '09/07/1972', '08/23/1937', '10/08/2007', '10/28/1956', '09/29/1951', '12/26/2002', '04/24/1924', '07/31/1944', '09/03/1962', '09/18/1991', '07/17/1946', '01/27/2002', '08/30/1975', '11/14/1952', '02/08/2001', '04/09/2008', '08/17/1988', '03/22/1934', '06/24/1967', '03/23/1946', '07/20/1935', '07/07/1942', '08/12/1963', '02/27/1988', '04/15/1971', '08/08/2003', '05/30/1970', '01/28/1984', '05/30/2008', '08/30/1944', '08/02/1919', '06/28/2017', '01/05/1954', '01/17/1974', '12/18/1976', '02/13/1955', '09/18/2001', '08/19/2012', '03/03/1978', '08/09/1976', '10/17/1950', '04/29/1949', '01/08/1959', '08/18/1968', '11/11/1926', '05/30/1972', '07/20/1981', '02/28/1993', '02/18/1964', '03/04/1966', '09/10/1961', '11/09/1971', '01/17/1936', '05/30/1945', '10/27/1951', '11/08/1961', '07/05/1970', '02/28/1967', '03/22/1992', '12/23/1979', '07/08/2000', '02/09/1992', '11/30/2007', '06/08/1943', '03/30/1967', '10/28/1983', '05/24/1986', '03/08/1974', '11/26/1966', '02/19/1988', '09/10/1955', '09/03/2008', '11/15/1934', '06/04/1984', '11/01/1998', '12/23/1984', '01/20/2014', '09/29/2006', '01/15/1979', '10/10/1962', '04/20/2012', '02/03/1982', '11/03/1945', '08/24/1951', '05/22/2010', '09/20/1973', '01/29/1936', '05/06/2004', '05/15/1956', '05/17/2010', '11/07/1945', '08/26/1955', '09/28/2002', '10/19/1943', '12/22/1960', '09/14/1977', '08/03/1959', '03/10/1946', '02/22/1985', '02/10/1930', '05/12/1942', '06/16/1958', '01/19/2006', '04/18/1961', '08/18/1953', '08/10/1937', '05/23/1974', '04/10/1968', '10/02/1990', '04/21/1929', '04/15/1969', '08/11/1994', '04/05/1988', '09/03/1991', '02/21/2017', '08/21/1946', '05/18/1955', '09/14/1923', '07/27/1974', '05/06/2007', '03/01/1978', '07/11/1972', '02/05/1938', '05/20/1987', '10/11/1988', '01/16/1969', '02/22/2002', '05/24/1999', '12/21/1971', '08/11/1957', '02/21/1976', '06/21/1977', '04/16/2019', '10/31/1950', '09/09/1995', '07/27/1990', '11/30/2012', '04/07/1983', '06/02/1970', '05/29/1947', '12/05/1948', '11/14/1996', '08/16/1991', '02/13/1938', '04/12/1964', '03/09/1996', '05/27/1964', '02/12/1970', '04/06/1958', '05/03/2006', '09/14/1999', '12/31/1968', '10/21/1926', '12/12/1956', '12/25/1999', '03/23/1994', '12/15/1997', '05/25/1958', '01/05/1929', '12/24/1971', '11/21/2012', '06/14/1917', '03/07/1999', '08/24/2003', '09/11/1974', '01/27/1962', '07/20/1988', '12/15/2008', '06/25/1998', '09/29/1958', '01/23/1985', '04/19/1988', '01/23/1990', '12/28/2014', '02/25/1964', '09/24/1916', '01/17/1941', '06/29/1966', '07/18/1946', '08/12/1982', '10/23/1972', '03/29/1935', '10/03/1990', '02/11/1996', '10/30/1972', '12/14/1932', '08/05/1953', '04/19/1960', '11/26/1943', '10/01/1972', '01/20/1992', '04/14/1994', '03/14/1972', '10/24/1942', '02/10/2003', '10/06/1931', '03/10/1979', '12/16/1981', '01/03/1965', '06/04/2007', '11/23/1964', '06/20/2008', '05/01/1967', '09/24/2009', '12/23/1951', '03/18/1975', '11/15/1964', '01/24/1950', '01/22/1962', '08/18/1926', '02/12/1926', '10/29/1929', '01/29/1932', '03/22/1951', '05/22/1962', '03/07/1938', '05/07/1969', '12/21/1996', '04/10/1952', '03/31/1956', '05/12/1928', '09/28/1968', '05/14/1923', '06/15/1965', '05/15/1970', '11/28/2010', '03/13/1959', '10/30/1935', '03/26/1981', '02/14/1997', '06/28/1968', '11/06/1924', '09/19/1986', '10/14/1994', '09/08/1977', '02/17/1959', '12/28/1927', '08/31/1934', '10/04/1966', '01/25/1966', '12/18/1939', '03/28/1985', '11/22/1966', '09/08/1974', '03/12/1985', '03/22/1958', '07/14/1938', '05/02/2000', '08/09/1931', '06/09/1999', '09/27/1995', '09/28/1957', '03/08/1964', '09/16/1965', '04/11/1967', '05/24/1952', '12/07/1973', '02/05/1996', '01/13/2004', '09/20/2014', '10/24/1967', '08/25/1969', '01/16/2017', '12/04/1990', '01/13/1969', '11/29/2013', '08/27/2006', '02/16/2005', '12/08/1988', '08/29/1996', '01/17/1963', '01/01/2011', '03/12/1950', '05/26/1988', '01/03/1984', '05/16/1948', '08/20/2011', '06/12/1950', '02/22/1943', '11/01/1961', '01/21/1986', '10/21/2010', '03/18/1989', '06/26/1975', '01/20/1942', '08/23/2001', '08/27/1959', '03/27/1968', '12/20/1934', '08/06/1949', '01/26/1953', '05/21/2000', '04/05/1952', '10/22/1942', '07/24/1981', '06/23/2000', '12/06/2005', '05/05/1983', '02/15/1970', '06/26/2003', '06/26/1988', '06/25/1968', '09/11/1968', '08/03/1936', '01/24/1961', '03/05/2000', '02/27/1975', '04/02/1951', '12/20/1952', '08/09/2000', '04/28/1981', '09/01/2008', '04/30/1990', '04/15/1927', '10/25/2000', '06/18/1957', '10/09/1936', '12/19/1984', '12/22/1995', '06/28/1969', '07/02/1986', '04/07/2001', '12/07/1983', '09/03/1957', '10/03/1942', '01/04/2002', '09/21/1962', '02/13/1945', '12/30/1989', '05/10/1996', '03/31/1932', '02/27/1932', '03/05/1947', '02/11/1952', '12/21/1989', '07/24/1979', '11/10/1993', '01/31/2000', '10/15/2008', '12/17/1996', '05/15/1948', '03/03/1974', '08/12/1936', '11/18/1988', '12/24/1961', '06/04/1962', '05/08/1962', '01/27/2005', '12/08/1937', '10/25/1991', '05/29/2008', '03/12/1959', '12/02/1938', '10/18/1963', '02/03/1999', '11/16/1946', '07/03/1971', '12/03/2016', '11/23/1961', '03/23/1965', '12/12/1961', '07/25/1995', '11/01/2009', '11/30/1962', '03/06/1955', '08/27/1992', '03/15/1981', '12/09/1993', '07/27/1938', '04/24/1948', '08/24/1981', '05/24/1991', '11/27/2004', '07/22/1938', '07/24/1974', '10/06/1937', '01/10/1945', '02/12/1996', '01/22/1931', '01/17/1995', '12/20/1962', '06/07/2009', '11/10/1965', '09/02/2011', '07/17/2007', '05/04/1970', '09/13/1987', '01/06/1968', '03/19/1999', '05/21/2002', '10/27/1984', '12/11/1988', '09/21/1944', '06/12/1967', '09/10/1976', '08/10/1968', '11/13/1993', '02/25/1999', '08/21/1998', '02/25/1985', '04/09/1951', '09/18/1984', '02/02/1953', '04/14/1992', '02/14/1990', '04/26/1992', '03/11/1967', '04/28/1951', '09/15/1989', '09/26/1970', '07/12/1995', '10/14/1919', '07/24/1966', '08/10/1990', '10/24/1954', '09/07/1946', '08/04/2018', '10/07/1945', '11/12/1971', '12/21/1952', '09/16/1992', '12/08/1963', '04/21/1921', '05/05/1976', '04/30/1954', '08/12/1994', '06/21/1996', '09/07/1922', '01/18/1960', '06/23/1969', '01/31/1971', '03/30/2000', '12/14/1933', '12/19/1929', '09/26/1949', '08/07/1980', '08/18/1993', '11/30/1995', '01/16/1959', '11/14/2009', '04/04/1975', '04/12/1973', '04/17/1964', '05/27/1977', '11/08/2007', '03/26/1971', '06/26/1987', '05/18/1973', '09/27/1951', '11/18/1947', '10/17/1937', '09/27/1991', '06/30/2008', '07/07/2013', '09/09/1986', '10/10/1989', '08/05/2016', '01/15/1934', '04/13/2016', '01/05/1947', '09/06/1952', '11/24/1959', '12/25/1954', '08/09/1968', '11/29/1975', '09/02/1970', '07/18/1995', '08/12/1944', '07/01/2002', '12/23/2005', '03/29/2016', '05/10/1930', '01/14/1946', '10/02/1973', '07/18/1981', '04/04/1974', '06/04/1933', '03/31/1988', '04/14/1963', '09/03/1925', '08/29/1970', '12/07/1934', '03/26/1939', '01/11/1947', '05/24/1961', '05/19/1967', '01/07/1972', '10/21/1989', '12/11/1974', '06/13/1964', '12/22/1991', '03/18/1966', '05/05/1990', '06/17/1993', '08/14/1935', '09/25/1978', '09/06/1969', '12/27/1991', '05/18/1958', '05/10/1961', '09/14/1969', '10/06/1936', '03/03/1991', '02/04/1966', '05/08/1951', '07/31/1989', '10/01/2002', '10/13/1991', '12/11/1977', '08/25/2010', '07/14/1977', '09/17/1946', '01/18/1959', '01/11/1957', '04/02/1993', '11/06/1967', '09/02/1959', '09/30/2017', '05/01/1935', '10/29/2018', '12/13/1977', '03/27/1948', '09/10/1943', '12/29/1999', '09/14/1978', '07/30/2016', '02/20/1991', '06/30/2003', '03/09/2019', '08/24/2004', '10/22/1963', '01/27/1998', '09/15/1964', '01/07/2006', '06/23/1950', '06/09/1958', '07/09/1982', '12/05/2007', '11/06/1929', '06/11/1931', '03/22/1965', '09/25/1996', '08/03/1937', '01/13/1970', '11/16/1929', '11/23/1962', '01/24/1980', '04/17/1957', '05/16/1977', '03/10/1989', '10/15/1951', '04/11/1920', '03/16/1970', '07/09/2006', '11/13/2008', '04/07/1922', '09/02/1955', '02/28/1977', '10/03/1934', '08/20/2007', '10/06/1959', '07/06/1993', '09/02/1964', '03/10/1966', '09/18/1992', '06/13/1996', '06/13/1972', '06/09/1946', '07/13/1946', '01/14/2019', '07/30/1998', '03/20/1975', '10/02/1935', '11/12/1999', '10/09/1963', '03/21/1987', '10/18/1989', '01/28/2010', '02/14/2011', '04/30/1936', '11/19/1951', '12/24/1983', '03/18/1994', '09/02/2000', '06/03/1955', '09/17/1944', '11/30/1955', '07/20/1942', '10/11/1968', '04/03/1954', '10/30/1975', '12/17/2002', '01/01/1985', '07/30/1971', '05/28/1982', '06/08/1974', '06/26/1991', '01/13/1948', '06/17/1953', '07/09/2000', '10/12/2017', '04/20/1945', '11/07/2002', '05/15/1960', '03/27/1943', '01/27/1990', '11/19/1944', '05/04/1949', '09/30/1970', '07/19/1960', '01/26/1974', '09/11/1995', '09/27/1965', '03/01/2003', '12/31/1931', '09/30/1980', '04/05/2000', '07/31/2015', '08/22/1954', '05/26/1952', '01/11/1954', '02/01/1951', '04/10/1977', '06/17/1929', '08/22/1950', '11/26/1948', '09/08/1959', '05/18/1951', '12/16/1949', '12/16/1951', '10/16/1972', '03/10/1952', '10/05/1991', '07/26/1994', '10/21/1971', '07/28/1998', '05/29/1999', '07/16/1951', '04/29/1978', '11/27/1989', '03/06/2003', '01/27/1968', '05/30/1932', '09/06/1977', '10/04/1988', '10/26/1994', '11/07/1991', '10/10/1956', '12/31/1985', '12/28/1962', '12/09/1996', '03/14/1953', '10/06/2010', '03/19/1932', '08/03/1989', '05/17/2001', '03/18/2014', '04/16/1972', '08/27/1943', '12/09/1938', '10/06/1946', '01/04/1938', '08/09/1946', '10/09/1935', '10/10/1997', '12/10/1988', '09/17/1927', '03/15/2005', '08/31/2016', '09/05/2005', '03/26/1952', '08/03/2008', '10/14/1947', '04/27/1945', '04/24/1972', '01/06/1969', '08/24/2001', '08/19/1980', '06/28/1965', '09/29/1936', '12/31/1956', '01/19/1930', '04/01/2009', '05/12/1920', '03/28/1950', '04/14/1965', '11/04/2010', '01/13/1962', '11/11/1992', '09/28/2018', '02/08/1988', '05/08/1997', '11/19/1962', '04/18/1973', '04/03/1939', '11/19/1943', '07/24/1985', '04/19/1962', '11/25/1950', '11/25/1985', '04/15/1999', '12/13/1997', '03/05/1915', '04/01/1970', '02/05/1949', '09/24/1955', '01/02/1954', '04/11/1985', '03/05/1946', '11/28/1947', '07/28/1937', '05/15/1962', '08/03/1970', '05/22/1948', '04/08/1957', '07/27/1989', '11/05/1994', '06/14/2014', '07/12/1951', '06/06/1939', '06/11/1933', '06/22/1957', '11/08/1927', '12/26/1960', '02/09/1967', '08/03/1953', '04/14/1958', '08/21/2010', '11/06/2018', '10/12/1932', '10/02/1948', '04/09/1945', '10/08/1967', '05/08/2003', '10/04/2005', '03/13/1987', '05/23/1960', '11/30/1992', '05/17/1962', '09/18/1981', '02/27/1996', '05/24/1995', '03/12/1937', '06/09/1936', '06/30/1973', '01/12/1927', '11/22/1975', '01/02/1999', '04/23/1997', '03/17/2000', '04/01/1946', '04/03/2008', '12/28/1989', '04/16/1953', '08/27/1954', '01/20/1948', '12/17/1973', '12/21/1967', '04/05/1946', '12/12/1954', '10/19/1974', '07/17/2002', '09/04/1982', '02/06/1941', '12/14/1946', '10/10/1933', '07/09/1950', '05/09/1952', '03/19/1960', '03/09/1967', '12/06/1952', '12/22/1934', '08/12/1932', '09/28/1945', '10/16/1945', '12/27/1951', '12/23/1982', '07/02/2014', '07/15/1960', '02/28/1973', '03/08/1988', '07/08/2007', '03/21/1980', '01/26/1960', '09/29/2004', '12/26/1958', '12/11/1933', '08/21/1952', '04/15/1948', '12/04/1951', '11/21/1957', '09/03/1978', '02/01/1958', '03/12/1975', '10/10/2013', '01/27/1979', '12/01/1993', '12/24/1996', '08/31/1932', '03/13/1948', '03/28/1998', '08/28/1947', '06/10/1948', '02/27/2001', '07/19/1935', '11/02/1932', '06/26/1925', '08/27/2010', '11/03/1953', '10/19/1987', '06/09/1950', '03/10/1983', '08/14/2013', '04/28/2008', '07/13/1956', '03/16/2005', '03/07/2007', '06/01/1943', '12/11/1998', '12/25/2016', '03/07/1976', '01/10/1938', '07/31/1947', '07/15/1975', '01/13/1977', '11/08/1943', '03/01/1964', '11/27/1983', '10/02/1955', '04/13/1954', '03/20/1966', '11/28/2016', '10/13/1973', '07/24/1926', '02/25/1960', '07/12/2001', '03/22/1955', '06/30/1967', '06/28/2007', '01/14/1995', '04/21/1945', '01/05/1995', '07/25/1971', '05/19/1982', '06/06/1983', '05/10/1938', '12/12/1963', '11/21/1947', '07/15/1966', '05/15/1991', '09/02/1948', '03/08/1968', '12/24/1940', '09/06/1928', '09/09/1949', '09/03/1915', '06/11/1987', '01/22/1928', '01/13/2000', '08/18/1973', '10/25/1922', '01/24/1979', '09/08/1994', '12/30/1952', '03/17/1965', '02/04/1970', '11/25/1928', '02/05/1972', '12/15/1961', '06/18/1972', '11/23/1960', '11/06/2002', '10/20/1919', '06/30/1974', '10/18/1992', '11/26/1931', '03/04/1953', '07/01/2003', '12/18/1979', '11/03/1948', '10/29/1952', '04/20/1985', '11/24/1985', '09/05/1954', '01/13/1990', '03/26/2001', '04/17/1936', '12/23/2002', '12/16/1965', '04/11/1952', '04/15/1957', '03/14/1942', '01/11/1980', '04/12/1960', '10/19/1934', '02/23/1955', '11/11/1998', '07/28/1945', '07/17/1963', '08/31/1992', '06/12/1986', '05/19/1996', '12/30/1945', '04/29/2013', '11/01/1949', '04/13/2010', '07/16/1983', '09/11/1973', '08/27/2004', '03/20/1964', '06/14/1981', '11/27/2008', '05/13/1959', '02/18/1966', '03/06/1987', '03/08/1955', '03/24/2015', '06/05/1959', '11/28/1979', '01/21/1980', '03/16/1984', '01/30/2012', '09/24/1975', '04/13/1947', '12/06/1923', '04/19/1945', '05/24/1938', '11/29/1949', '03/19/2016', '09/04/1962', '09/15/2015', '01/01/1955', '01/15/1941', '03/27/1986', '02/07/1981', '11/09/1989', '01/19/1946', '01/13/1982', '10/01/1938', '09/24/1942', '08/04/1979', '09/30/1948', '09/08/1987', '04/23/1993', '09/25/1985', '07/02/1999', '11/27/1947', '11/17/1950', '01/27/1959', '03/31/1971', '11/19/1990', '07/01/1995', '03/28/1941', '05/23/2006', '02/10/1993', '02/08/1963', '04/23/1933', '03/28/1933', '01/22/2010', '07/10/2017', '03/30/1977', '10/07/1961', '03/14/1980', '08/02/1976', '10/25/1993', '02/29/1964', '10/27/1993', '08/27/1990', '07/23/1993', '10/19/1990', '11/02/1986', '03/25/1933', '07/03/1968', '08/03/1945', '05/03/1986', '12/18/1954', '10/18/1965', '05/02/1939', '02/26/1954', '11/30/1981', '10/16/1956', '03/15/1963', '01/21/1971', '02/28/1989', '04/26/1983', '10/11/1987', '11/20/1991', '10/16/2004', '08/24/1962', '09/22/1955', '04/11/1996', '01/22/1985', '01/17/1990', '05/22/2001', '09/14/2011', '01/29/1963', '06/12/2002', '06/13/1952', '04/17/1959', '01/21/1960', '04/18/1952', '11/10/1962', '11/24/2015', '02/21/1922', '10/17/1958', '09/21/1969', '02/05/1946', '08/21/1963', '11/17/1955', '03/10/2017', '01/29/1970', '09/21/1987', '06/26/2008', '11/13/1945', '10/31/1984', '09/20/1990', '10/26/1947', '07/18/1952', '12/22/1984', '08/03/2010', '01/31/1951', '03/21/1990', '06/19/1954', '09/17/1994', '07/01/1963', '07/13/1992', '02/26/1928', '06/27/1958', '01/14/1977', '08/18/1996', '10/02/1920', '07/19/1962', '09/22/1995', '07/13/2000', '02/12/1939', '10/07/1978', '11/19/1977', '05/06/1937', '06/18/2008', '10/04/1995', '07/09/1964', '08/08/1944', '10/21/1972', '01/26/1963', '04/04/2011', '05/13/1948', '01/07/1953', '04/15/1997', '01/03/2004', '05/09/1995', '11/23/1976', '08/11/1979', '12/15/1944', '04/10/2006', '05/05/1938', '04/18/1956', '07/12/1961', '12/31/1972', '11/05/1978', '11/05/1943', '05/06/1983', '02/12/1948', '02/04/1949', '10/02/1999', '08/21/1949', '01/27/1928', '05/02/1974', '02/07/1968', '03/29/2001', '02/10/2011', '01/29/2018', '07/21/1989', '10/10/1985', '09/26/1992', '07/11/1965', '01/21/1932', '01/20/1949', '06/20/2011', '04/02/1967', '02/19/1989', '07/31/1992', '05/07/1981', '10/24/1999', '05/11/1993', '03/06/1962', '04/07/1981', '07/15/1996', '02/01/1997', '10/19/1956', '03/31/1965', '08/03/1944', '06/26/1978', '08/24/1979', '08/07/1989', '11/28/2009', '07/04/1991', '12/05/1921', '07/16/1932', '09/27/1946', '10/04/1986', '01/19/1955', '08/17/1996', '06/06/1992', '11/11/2011', '04/24/1969', '12/18/1949', '08/20/1968', '06/01/1976', '08/26/1988', '08/10/1997', '01/12/1999', '10/30/1919', '11/18/1923', '03/18/1957', '10/02/1926', '02/03/1975', '09/10/1998', '03/16/1995', '02/11/1978', '02/07/1966', '12/25/1967', '02/22/1980', '08/10/2005', '12/18/2016', '11/08/1940', '12/01/1955', '02/01/1972', '01/30/1991', '01/07/1982', '04/05/1996', '01/11/1955', '01/26/2008', '01/15/1944', '01/01/2007', '06/08/1924', '06/17/1948', '08/12/1954', '01/13/1930', '08/24/1999', '03/07/1958', '03/20/1982', '06/10/1991', '01/20/1985', '09/02/1960', '06/24/1945', '06/28/1982', '11/17/1951', '01/31/1935', '04/19/1983', '08/29/1990', '03/08/2007', '05/03/2009', '12/30/1964', '09/29/1982', '03/01/1988', '11/16/1954', '05/17/1953', '02/07/1948', '02/23/1974', '08/07/1943', '05/03/1996', '09/13/2010', '11/01/1945', '03/23/2009', '05/13/1949', '09/14/1950', '04/04/1955', '10/01/1937', '04/14/1953', '08/30/2002', '08/15/1975', '08/20/1977', '03/09/1955', '10/09/1958', '04/19/2014', '09/02/1981', '11/26/1979', '10/07/1992', '02/27/1950', '04/18/1984', '03/31/1995', '05/13/1945', '03/27/1951', '03/21/1931', '12/09/1931', '03/01/1941', '09/17/1908', '02/10/1949', '09/13/1972', '05/12/1968', '04/14/1980', '11/18/1990', '08/29/1998', '03/25/2000', '11/15/1952', '09/05/1961', '11/27/1970', '10/09/1985', '06/02/1980', '06/02/2002', '01/07/1997', '06/05/2000', '01/29/1997', '10/08/1983', '02/01/1932', '01/08/1945', '06/14/1985', '02/15/2009', '06/11/1934', '05/20/1965', '06/04/1954', '01/27/1973', '08/11/1966', '12/04/1984', '11/24/1951', '10/08/2008', '01/28/1951', '10/16/1952', '12/20/1972', '09/07/2011', '10/06/1989', '12/29/1951', '12/05/1997', '04/21/1942', '07/06/1996', '01/23/1982', '11/14/1925', '01/10/1933', '12/28/1946', '09/08/1955', '02/06/1945', '03/22/1978', '09/19/1979', '03/22/1952', '03/25/1991', '03/19/1998', '04/08/1954', '07/31/1960', '11/10/1944', '01/03/1961', '02/09/1953', '03/20/1989', '09/18/1932', '08/22/1942', '05/13/1995', '01/10/1941', '09/07/1984', '04/03/1933', '11/20/1939', '08/13/1949', '12/19/1962', '11/17/1956', '09/16/1966', '01/26/2005', '08/12/1958', '02/16/1975', '04/18/1960', '04/07/1957', '07/05/1972', '11/05/1976', '11/16/1991', '02/15/1992', '06/03/2012', '09/27/1977', '10/04/1970', '07/11/1960', '04/17/1972', '02/03/1953', '08/30/1939', '11/09/2000', '12/31/1957', '07/14/1935', '11/25/1932', '01/17/1956', '10/23/1975', '08/15/1988', '01/30/1974', '09/03/1979', '12/22/1992', '11/20/1984', '02/07/2009', '10/06/1930', '08/23/2005', '06/01/1991', '11/13/1951', '12/11/2000', '10/17/1951', '01/16/1949', '02/13/1956', '08/07/1997', '09/23/1994', '04/19/1991', '07/08/2011', '06/03/1954', '01/21/1985', '11/09/1958', '01/21/1943', '11/23/1983', '10/22/1975', '04/18/1948', '02/29/1968', '10/23/1971', '10/29/1992', '12/08/1977', '01/24/2003', '01/19/1960', '08/26/1969', '04/26/1982', '07/11/1984', '07/15/1947', '09/14/1980', '05/26/1991', '08/13/1942', '07/12/1945', '01/21/1972', '10/19/1962', '03/01/1977', '01/03/1993', '07/07/2006', '02/05/1991', '07/11/1945', '06/08/2004', '12/10/1928', '07/01/1965', '06/24/1972', '12/30/1929', '10/05/1945', '02/10/1936', '07/20/1960', '08/12/1972', '12/12/1976', '04/23/1987', '10/22/1996', '04/29/2000', '08/04/1984', '08/02/2005', '09/19/2008', '03/03/2008', '07/13/1963', '05/01/1995', '01/25/1990', '09/09/1976', '02/08/1949', '03/22/1957', '10/30/1957', '08/16/2010', '02/21/1944', '09/07/1945', '11/25/1989', '05/09/1934', '08/29/1952', '09/15/1945', '04/08/1951', '12/27/1997', '06/20/1944', '10/31/1994', '09/22/1985', '08/22/1940', '11/15/1978', '03/27/1990', '08/26/1954', '11/03/1973', '11/22/1952', '01/11/1949', '09/25/1953', '03/04/1917', '10/31/1972', '11/17/1942', '12/13/1987', '02/15/2002', '08/04/2003', '08/29/1957', '04/04/1954', '11/15/1979', '03/24/1952', '07/25/1977', '10/12/1994', '07/19/2009', '01/23/1957', '02/08/1931', '02/21/1946', '02/10/2001', '12/11/2004', '09/20/1969', '03/10/2019', '07/08/1964', '10/10/1946', '10/11/1983', '06/21/2007', '01/10/1930', '04/27/2007', '04/17/2018', '12/08/1950', '02/28/1952', '06/15/1972', '05/31/1934', '05/29/1981', '04/16/1985', '04/10/1957', '02/26/1923', '10/01/1957', '08/31/1999', '12/30/1985', '10/27/1972', '08/25/1950', '08/02/1995', '01/25/2007', '09/12/1951', '10/20/1977', '12/17/1994', '11/05/2010', '01/12/1956', '04/20/2005', '06/24/1935', '12/07/1970', '12/16/1973', '04/29/2009', '05/08/1972', '01/20/1981', '02/02/1938', '07/11/1982', '09/04/1950', '03/09/1983', '11/07/2000', '05/23/1950', '12/18/2003', '04/07/1969', '11/28/1989', '11/04/1967', '03/30/1983', '10/08/1947', '01/23/1980', '06/02/1937', '10/07/1979', '02/26/2008', '03/23/2007', '09/22/1960', '07/24/1971', '12/23/1973', '04/11/1982', '02/09/1943', '08/07/2002', '12/22/1959', '08/24/1998', '04/06/1935', '01/06/1949', '12/08/1956', '03/28/1964', '08/13/1940', '03/22/1925', '08/13/2008', '11/15/1928', '05/15/1993', '08/27/1941', '03/26/1954', '12/21/1999', '07/09/1956', '06/26/1994', '02/19/1985', '08/23/2000', '12/26/1968', '03/22/2000', '08/20/1991', '04/20/1957', '11/10/2013', '10/11/2003', '05/05/2007', '11/16/1949', '09/24/1959', '10/14/1986', '08/02/2009', '03/19/1954', '12/31/1935', '05/05/1965', '09/19/2003', '05/28/1935', '06/01/1982', '06/17/1999', '08/31/1946', '05/15/1976', '12/15/1950', '07/30/1997', '12/08/1967', '10/20/1989', '11/18/1930', '08/11/1918', '03/02/1992', '09/28/1971', '01/13/1984', '11/20/1993', '01/13/1998', '04/18/1979', '07/25/1965', '05/05/1957', '06/29/1989', '11/22/1994', '11/18/2006', '10/24/2004', '12/02/1966', '11/26/1949', '06/01/2009', '02/20/1942', '02/03/1921', '11/27/1956', '02/15/1947', '06/02/2005', '04/16/1992', '11/08/1997', '11/26/1962', '02/03/1951', '03/09/2009', '12/04/1953', '12/18/1966', '07/23/1998', '06/23/1985', '04/21/1969', '12/29/1974', '07/27/2000', '06/17/1967', '10/07/1946', '03/17/1994', '12/18/1957', '07/23/1999', '09/23/1959', '09/14/1993', '10/31/1981', '03/22/1922', '10/22/2009', '07/16/1964', '07/29/1997', '10/09/1984', '08/22/1936', '03/01/1979', '02/13/2013', '06/04/1969', '01/02/1949', '02/25/2009', '05/04/1947', '01/06/1948', '10/07/1983', '03/30/1963', '01/31/1929', '06/08/2009', '02/02/1955', '10/15/1986', '10/12/1930', '12/23/1980', '01/08/1928', '02/08/1989', '02/10/2004', '12/11/1957', '01/04/2013', '05/22/1981', '01/06/1993', '02/01/1954', '08/14/1972', '04/25/1951', '10/21/1935', '01/12/1954', '02/29/1996', '10/05/1930', '09/15/1957', '02/16/1984', '01/15/1953', '03/20/1927', '02/20/1956', '10/29/2006', '01/15/1966', '06/06/2003', '01/09/2006', '02/26/1955', '03/20/1969', '07/12/1979', '10/11/1985', '01/10/1991', '11/08/1965', '12/16/1960', '08/28/1963', '02/01/1975', '10/02/1996', '06/17/1961', '02/24/1989', '01/31/1978', '04/04/1963', '09/17/1969', '09/19/1958', '12/25/1952', '03/03/1977', '08/08/1951', '10/30/1954', '11/25/1975', '07/01/1948', '09/12/1990', '01/29/2013', '06/01/1973', '12/13/2017', '10/09/1992', '04/19/1997', '01/10/1974', '03/23/1938', '07/15/1936', '09/20/1943', '01/02/1990', '03/30/1987', '05/08/1987', '06/20/1977', '12/04/1936', '10/28/1941', '05/08/1984', '10/31/1929', '08/15/1989', '04/20/2014', '03/26/1970', '03/03/1946', '01/17/1951', '01/22/1966', '05/25/2004', '10/16/1971', '10/30/1930', '03/17/1947', '07/30/1987', '01/26/1942', '09/27/1944', '08/14/1963', '07/13/1949', '02/08/1999', '10/10/1961', '12/04/2010', '02/20/1992', '11/09/1945', '07/24/1948', '11/21/1916', '01/27/1978', '07/10/1985', '09/14/1990', '10/15/1987', '08/26/2011', '09/04/1965', '05/05/2017', '01/26/1950', '11/17/1972', '12/19/1953', '05/27/1944', '12/30/1967', '07/31/2008', '08/01/1943', '06/26/1981', '05/12/1962', '08/12/1952', '12/10/2005', '12/01/1971', '02/22/1957', '10/03/1957', '04/13/1950', '01/13/2005', '11/09/1935', '03/12/1997', '09/26/1989', '04/28/2001', '11/01/1991', '08/02/1937', '03/31/1993', '01/08/2006', '07/09/1996', '02/01/1957', '07/24/1992', '10/20/1968', '07/13/2003', '04/22/1966', '03/08/2005', '02/18/2018', '04/23/2006', '07/23/1935', '11/04/1944', '10/26/1989', '07/14/1948', '07/30/2019', '02/12/1954', '07/28/1916', '02/02/1949', '06/03/1967', '11/16/1994', '02/15/1945', '07/15/1968', '07/15/1965', '03/11/1982', '09/28/1983', '07/30/1992', '07/10/1930', '12/30/1933', '12/04/1946', '03/03/1942', '06/16/1963', '12/21/1992', '03/25/1937', '03/19/1973', '12/07/1982', '02/19/1942', '12/09/1992', '05/27/1972', '06/13/1956', '03/21/2004', '09/09/1958', '06/11/2012', '07/01/1957', '01/22/1965', '01/20/1976', '11/11/1965', '09/04/2000', '06/14/1957', '02/27/1980', '10/15/1943', '10/24/2016', '07/02/1994', '03/04/1954', '05/05/2004', '07/27/1953', '09/27/1989', '12/24/1923', '02/02/1945', '06/12/1961', '10/05/1952', '08/09/1970', '05/13/1975', '07/30/1949', '12/21/1980', '03/26/1936', '12/07/1965', '07/29/1998', '07/25/1946', '08/19/1959', '03/01/1990', '09/02/1969', '02/10/1978', '01/23/2008', '03/09/2016', '10/30/1942', '02/20/1944', '12/10/1957', '09/06/1929', '09/11/2003', '08/02/1968', '07/25/2000', '01/19/1961', '04/24/2006', '08/31/1948', '10/23/1959', '12/29/1972', '02/24/1969', '06/06/1993', '09/30/1979', '09/22/1993', '08/31/2014', '07/06/1982', '05/30/1947', '12/19/1950', '09/27/1942', '01/18/1943', '09/28/1953', '11/06/1957', '04/03/1961', '08/13/1989', '06/18/1941', '01/31/1991', '04/21/1936', '11/26/1937', '10/28/1976', '08/28/1993', '05/23/1994', '02/16/2014', '07/23/2007', '12/16/2001', '01/14/1970', '03/25/1978', '01/09/1971', '05/12/1998', '08/06/1937', '02/03/1992', '04/23/1954', '02/20/2003', '02/24/2016', '06/13/2007', '03/23/1990', '12/04/1978', '12/24/1937', '03/10/2015', '10/17/2009', '01/14/1981', '01/14/1959', '02/03/1963', '08/12/2000', '08/20/2003', '02/14/1947', '08/26/2007', '08/14/1974', '12/24/1968', '10/12/1967', '06/21/1987', '09/17/2006', '12/28/1997', '03/26/1937', '05/01/1939', '10/17/1946', '12/11/1999', '05/15/1967', '07/27/1934', '12/08/1969', '11/29/1991', '01/13/1999', '02/24/1956', '02/17/1956', '10/26/1929', '02/18/1959', '08/02/1979', '06/06/1994', '03/30/1917', '02/26/1941', '06/23/1978', '09/29/1981', '02/19/1970', '11/19/1978', '06/06/1997', '07/22/1962', '01/15/1975', '05/13/1957', '06/11/2006', '09/01/1935', '08/29/1961', '08/03/1975', '06/07/2017', '11/20/1933', '11/10/1971', '12/09/2012', '04/09/1952', '12/15/1994', '12/13/1994', '09/19/1946', '08/14/1958', '08/01/1945', '09/04/1985', '12/08/1945', '04/15/1985', '04/04/2016', '07/19/1949', '11/16/1927', '03/31/2006', '09/29/1959', '08/11/2009', '11/17/1982', '05/21/1959', '10/19/1953', '08/04/2009', '11/17/1973', '06/22/1951', '04/10/1997', '02/07/1953', '05/04/1972', '10/17/1913', '12/09/1956', '02/05/1986', '06/11/1947', '11/15/1993', '11/27/1962', '11/25/1994', '05/03/1968', '04/01/1935', '05/06/1945', '04/05/1991', '05/19/1993', '08/07/1999', '08/18/2012', '04/14/1931', '10/22/1940', '08/29/1944', '11/14/1992', '08/02/1949', '07/29/1950', '06/04/1958', '08/30/2014', '11/15/1957', '01/16/1958', '06/10/1960', '09/23/1950', '12/31/1954', '03/20/1963', '08/24/1921', '10/20/1945', '11/04/1938', '06/04/1967', '11/28/1916', '08/15/1985', '05/10/1977', '12/27/1968', '11/17/1975', '03/05/1959', '04/19/1977', '02/27/1940', '10/27/1948', '07/27/1998', '09/12/2012', '11/07/1952', '02/01/1963', '12/17/1953', '11/04/1948', '12/23/1928', '04/22/1927', '12/23/1936', '04/06/1962', '08/10/1938', '06/08/1983', '03/24/1986', '03/06/2018', '01/16/1987', '02/02/1950', '10/16/1947', '06/21/1941', '08/01/1990', '12/24/1924', '09/03/1970', '08/19/1996', '02/15/1936', '12/03/1990', '04/07/1999', '12/21/1959', '01/18/1985', '12/06/1936', '05/17/2000', '08/09/2010', '12/08/1957', '09/11/1991', '01/07/1994', '09/12/1959', '10/19/1992', '10/29/1997', '01/26/1937', '11/03/1964', '09/09/2005', '03/16/2004', '02/21/1973', '12/01/1949', '12/24/1920', '07/24/1951', '03/14/1970', '11/24/1980', '01/13/1993', '10/27/2003', '05/15/1958', '01/16/1999', '03/21/1932', '12/03/1972', '05/07/1994', '09/02/1958', '01/19/1985', '11/21/1990', '07/04/1999', '05/25/2005', '04/29/1995', '08/03/1949', '12/13/1950', '09/17/1980', '02/01/1947', '01/31/2001', '02/15/1977', '06/09/1993', '05/09/1929', '06/06/1920', '01/31/1945', '07/19/1994', '02/24/1999', '10/26/1932', '11/20/1969', '08/14/1941', '12/09/1949', '12/03/1995', '04/27/1980', '09/22/1981', '09/16/1931', '04/20/1953', '12/17/1978', '08/26/1970', '02/06/1965', '10/06/1978', '11/08/2003', '10/07/1935', '01/25/1971', '05/11/1971', '09/17/1965', '05/11/1973', '06/22/1982', '07/10/2006', '11/20/1975', '01/28/2002', '10/12/1948', '10/10/2001', '03/08/1994', '03/16/1975', '04/28/1970', '07/08/1968', '05/11/1947', '11/04/1976', '03/27/1962', '11/19/2001', '05/09/1933', '05/31/2000', '09/06/1961', '11/11/1948', '06/06/1949', '03/04/1962', '03/07/1955', '04/21/2010', '11/03/1957', '08/05/2001', '12/05/1945', '03/20/1965', '12/18/1977', '09/03/1989', '06/08/2008', '07/20/1992', '08/15/1976', '12/17/1976', '11/01/1994', '08/05/1984', '06/27/1976', '04/30/1983', '12/29/1991', '10/18/2001', '10/27/1979', '11/29/1982', '05/16/1946', '10/10/1939', '07/09/1958', '03/24/1937', '10/14/1958', '04/24/1980', '04/23/1965', '01/15/1949', '05/23/1976', '04/04/1991', '09/13/1935', '12/21/1964', '12/12/1974', '11/04/1940', '12/15/1993', '07/12/1953', '03/08/1926', '07/11/1961', '01/20/1950', '08/26/1978', '01/02/1988', '03/15/1960', '01/11/1959', '09/23/1989', '07/30/1950', '09/15/1995', '05/09/1987', '04/10/1988', '06/29/1945', '08/14/1959', '08/28/1939', '09/04/1946', '05/30/1961', '01/09/2003', '07/24/2007', '04/15/2008', '02/11/2018', '07/06/1962', '03/04/2013', '12/23/1958', '02/04/1985', '04/23/1966', '09/06/1921', '12/07/1995', '10/07/1988', '08/20/1957', '03/03/1972', '01/07/1948', '11/08/1958', '03/03/1973', '01/06/1945', '06/17/1971', '12/17/1983', '02/19/1937', '02/15/1942', '10/29/1960', '12/26/1975', '06/29/1951', '11/15/2017', '06/06/2012', '09/28/1989', '09/15/1946', '03/24/1992', '05/04/1966', '02/06/1970', '10/03/1995', '05/05/1931', '01/14/1945', '10/19/1986', '01/12/1938', '11/06/1987', '05/05/1952', '12/29/1961', '12/20/2016', '03/13/1984', '08/07/1946', '01/02/1980', '07/29/2007', '09/16/2011', '08/04/1998', '08/05/1934', '02/06/1967', '07/05/2001', '11/15/1966', '09/13/1982', '01/08/1976', '10/01/1942', '04/23/1995', '12/11/1960', '08/11/1998', '01/18/2015', '02/28/1942', '12/06/1971', '09/03/1976', '07/13/1928', '08/17/1963', '03/15/1973', '08/18/1974', '12/05/1980', '07/24/1987', '01/08/1975', '03/16/1991', '10/30/1991', '06/02/1994', '09/10/1980', '09/23/1927', '09/16/1953', '09/23/1983', '08/07/1975', '01/08/1996', '01/23/1941', '07/12/1931', '05/25/1919', '11/20/1955', '07/08/1965', '09/12/1969', '10/02/1969', '09/06/1971', '05/27/1979', '11/15/1987', '02/20/1948', '07/07/1962', '07/16/1922', '11/18/1979', '11/08/1981', '02/12/1990', '06/16/1993', '04/17/1944', '12/05/1931', '10/06/1996', '05/07/2011', '04/12/1988', '09/16/1984', '09/18/1994', '02/16/1998', '12/18/1943', '01/31/1946', '03/02/1951', '09/09/2004', '08/11/1982', '07/03/1988', '03/14/2002', '01/08/1968', '06/08/1980', '02/06/1958', '12/13/1992', '04/15/1936', '10/06/1955', '10/24/1990', '02/02/1999', '07/06/1960', '12/24/1935', '03/31/1984', '06/28/1989', '11/05/1931', '06/23/1963', '01/25/2010', '01/08/2016', '01/30/2000', '06/16/1936', '08/28/1976', '08/22/1999', '08/16/1965', '11/23/1968', '03/20/1986', '01/10/1995', '05/18/2018', '09/26/1969', '09/08/2009', '03/04/1988', '04/19/2002', '11/08/1948', '11/16/1959', '10/08/2000', '09/17/1991', '12/20/1997', '01/27/1930', '03/03/1952', '12/21/1961', '09/05/1980', '12/14/1987', '05/24/2008', '06/23/1934', '02/06/1996', '06/07/1971', '01/18/1929', '03/17/1929', '11/19/1980', '02/06/1982', '11/15/1956', '08/15/1984', '12/30/1951', '01/15/1955', '11/09/1969', '05/08/1999', '08/04/1963', '12/13/1995', '02/27/1990', '09/28/1992', '08/28/1971', '12/15/1986', '12/16/2003', '10/31/1999', '04/07/1958', '07/05/1990', '04/29/1959', '11/29/1963', '01/18/1971', '04/29/1952', '09/09/1998', '12/29/2012', '01/09/2011', '03/10/1949', '06/29/2009', '01/03/1947', '05/06/1985', '01/23/2001', '12/19/2005', '11/04/1957', '07/17/1998', '07/24/1999', '01/04/2008', '09/06/2011', '05/19/2016', '09/29/1985', '03/12/1990', '07/26/2011', '07/21/1988', '10/31/1996', '08/06/2008', '03/31/1998', '01/09/2007', '03/03/1953', '06/23/1967', '08/24/1963', '07/11/1946', '11/05/1967', '01/09/1964', '07/31/1973', '09/02/1976', '12/03/1987', '07/23/1989', '12/21/1924', '09/28/1960', '03/27/1958', '06/07/1943', '03/18/1999', '01/16/2002', '07/23/2003', '09/01/1953', '09/26/1939', '07/10/1991', '08/21/1947', '08/11/1945', '05/18/1972', '04/12/1972', '09/14/2008', '11/30/1946', '12/10/1949', '04/18/1930', '09/25/1930', '04/20/1960', '01/02/1965', '09/09/1978', '08/28/1991', '02/18/1956', '03/09/2000', '01/13/1939', '07/05/2010', '12/24/1966', '08/17/1966', '06/18/1955', '12/31/1928', '02/21/1948', '08/27/1973', '09/07/1958', '10/23/1942', '06/12/1968', '07/08/1980', '07/25/1967', '05/17/2014', '08/12/1996', '07/28/1936', '06/02/1940', '01/30/1963', '06/27/1980', '03/12/1996', '06/30/2015', '05/07/2005', '09/26/1960', '08/09/1947', '09/03/1946', '01/15/1977', '08/24/2008', '05/10/1972', '09/26/1976', '01/25/1947', '07/16/1956', '11/03/2013', '12/10/1994', '02/19/1982', '06/08/1938', '07/23/1973', '08/20/1965', '12/08/1972', '03/05/1973', '11/30/1961', '09/28/1936', '10/25/1948', '07/27/1992', '07/09/1934', '12/17/1961', '01/19/1973', '03/17/1960', '07/03/1957', '11/05/1946', '07/21/1951', '05/11/1987', '04/04/1977', '04/28/2005', '05/18/2011', '06/18/1968', '04/14/1960', '01/06/1977', '10/16/2013', '11/08/2002', '11/21/1950', '04/14/1976', '07/28/2002', '11/13/1966', '05/14/1977', '02/11/1972', '09/11/1990', '01/03/1994', '10/09/1949', '04/21/1950', '07/29/1951', '11/20/1967', '07/24/1925', '06/09/1973', '05/03/1985', '04/19/1989', '03/08/2014', '07/28/1943', '05/05/2019', '04/30/1974', '01/05/1950', '12/30/1950', '10/29/1940', '09/10/1992', '02/23/2019', '08/29/1933', '01/16/1928', '02/05/1960', '09/26/1991', '04/22/1947', '01/02/1969', '11/24/1931', '08/06/2011', '01/03/1987', '01/20/1958', '10/31/2015', '06/05/1972', '12/01/2001', '11/25/1968', '08/14/1996', '03/12/2018', '06/30/1962', '08/04/1965', '03/16/1978', '05/12/1963', '07/27/1944', '10/08/1946', '09/02/1944', '01/28/1961', '05/13/1952', '10/10/1955', '09/08/1973', '03/17/1946', '08/14/1943', '09/11/1984', '12/15/1936', '03/22/2009', '04/22/1946', '07/30/1993', '07/10/1961', '07/19/1938', '12/17/1959', '03/12/1967', '02/02/1932', '05/31/1974', '03/13/1986', '01/18/1996', '07/11/1973', '08/30/1978', '12/14/1974', '07/05/1992', '08/09/2013', '06/06/1944', '11/25/1991', '12/12/1942', '02/09/1975', '01/18/1988', '10/14/1960', '12/28/1970', '09/04/1928', '08/12/1974', '03/08/1967', '12/20/1928', '10/25/1999', '01/20/1941', '01/15/2000', '09/27/1949', '12/17/1963', '05/23/2004', '12/14/1988', '06/16/1983', '12/31/1948', '01/30/1949', '04/27/1974', '09/08/1989', '11/30/2004', '08/23/1947', '12/23/1946', '01/06/1960', '06/13/1994', '08/04/1987', '09/19/1960', '03/06/1970', '11/25/1978', '09/08/1958', '02/10/1948', '05/02/2005', '11/29/1941', '05/28/2003', '03/21/2011', '11/28/1952', '03/30/1920', '01/10/1923', '03/20/1962', '06/04/1976', '07/16/2005', '08/06/1913', '12/02/1977', '05/21/1972', '06/29/1994', '05/20/2009', '12/31/1961', '07/12/1993', '09/26/1994', '11/15/2003', '05/22/1968', '08/17/1960', '06/03/2006', '10/22/1986', '10/04/1928', '05/17/1950', '02/23/1948', '12/05/1969', '03/12/1992', '02/07/1952', '02/19/1949', '03/10/1998', '03/17/2007', '04/30/1956', '05/31/1958', '10/21/1968', '11/23/1987', '01/02/1987', '10/11/1944', '11/30/1947', '07/15/1956', '09/03/1968', '04/16/1969', '09/20/1989', '09/24/1990', '03/03/2001', '12/06/1931', '09/28/2012', '05/06/1970', '01/18/1946', '04/12/2005', '07/06/2011', '08/13/1938', '05/27/1953', '03/22/1944', '05/02/1970', '03/13/1969', '10/23/1986', '02/21/1947', '11/30/1929', '02/09/1937', '06/01/1959', '12/09/1977', '02/21/1980', '09/15/1954', '01/09/2002', '11/26/1946', '12/04/1937', '09/04/1991', '06/19/1938', '04/28/1947', '11/19/1969', '07/27/1970', '06/30/2009', '06/25/2015', '10/19/1964', '12/19/1997', '03/29/1977', '12/03/1922', '04/25/1944', '10/21/1960', '06/20/1973', '01/22/1947', '02/17/1979', '01/13/1954', '11/27/1996', '11/07/1960', '09/12/1980', '10/10/1998', '05/31/1973', '11/27/1938', '01/09/1943', '02/16/1967', '07/09/1973', '08/06/1947', '03/09/2002', '05/10/1990', '09/11/2004', '11/28/1987', '12/24/1959', '02/06/1947', '11/25/1990', '02/14/2010', '07/25/1991', '10/03/1941', '02/12/1979', '08/24/1946', '12/12/1985', '08/30/2008', '10/15/1981', '03/15/1974', '11/05/1951', '10/30/1986', '10/10/2000', '05/14/2012', '07/18/1968', '01/24/1933', '02/28/1963', '09/15/1920', '03/11/2007', '07/14/1955', '06/09/1995', '11/21/1961', '06/13/1936', '10/01/1981', '12/19/1955', '05/05/1989', '09/12/1995', '03/15/1948', '05/15/1959', '05/03/1995', '12/23/1948', '03/13/1997', '04/01/1993', '07/11/1944', '06/14/1972', '10/08/1965', '02/11/1977', '11/13/1969', '09/22/1977', '01/15/2002', '03/04/1964', '06/10/1990', '03/17/1979', '05/16/1947', '12/22/1950', '10/02/1934', '02/28/1978', '01/30/1942', '10/20/1965', '08/16/2015', '02/27/1964', '02/08/2011', '12/01/1981', '03/05/1991', '09/21/1950', '01/22/1961', '02/21/1970', '01/12/1947', '07/27/1927', '05/17/2007', '07/02/1949', '01/07/1939', '01/22/1959', '04/27/1977', '12/11/1919', '12/22/1969', '07/23/1954', '12/28/1978', '08/26/2009', '08/23/1940', '07/10/2018', '08/06/1991', '06/18/1998', '01/18/1923', '01/10/1952', '04/30/1968', '01/26/1935', '05/28/1971', '06/27/2008', '10/06/1981', '07/24/1977', '10/17/1965', '02/24/1931', '11/25/1986', '02/04/2015', '02/14/1951', '09/26/1950', '09/30/1975', '10/19/1988', '10/01/1966', '12/04/1977', '12/23/1957', '03/14/1936', '10/08/1992', '04/30/1938', '07/26/1922', '02/24/1973', '03/14/1954', '04/14/1945', '01/30/1975', '07/05/1976', '01/14/1947', '12/15/1963', '01/25/1970', '12/20/1942', '04/20/1990', '10/31/1953', '05/20/1958', '10/23/1946', '06/30/1956', '12/09/1979', '01/02/1971', '12/12/1948', '01/28/1970', '07/08/1961', '06/10/1963', '06/15/2001', '11/22/1961', '05/13/1977', '04/09/2009', '07/27/1950', '11/19/1981', '11/01/1958', '04/07/1992', '12/08/2005', '11/30/1988', '12/17/1943', '01/09/1984', '12/10/1935', '10/20/1987', '04/14/1997', '08/09/1961', '04/04/1992', '06/20/1964', '08/25/1992', '03/15/2012', '09/04/1964', '10/03/2013', '03/02/1948', '05/29/1973', '12/12/1949', '11/22/1996', '08/15/2002', '03/01/1962', '04/29/1983', '08/29/2001', '07/16/1957', '02/22/1921', '04/19/1928', '05/26/2009', '10/02/2015', '09/01/1966', '12/07/1987', '08/14/1995', '09/05/1936', '01/08/1931', '06/13/1951', '12/22/1956', '04/22/1992', '08/20/1962', '09/29/1991', '08/06/1970', '09/03/1929', '01/14/1980', '07/28/1950', '07/06/1977', '01/21/1973', '04/22/1940', '08/09/2007', '01/11/1948', '12/14/1950', '12/03/2008', '11/29/1970', '10/09/1964', '11/04/1994', '06/14/1943', '04/25/2007', '07/19/1967', '10/04/2007', '04/29/2016', '01/16/1951', '05/25/1948', '11/09/2013', '08/22/1964', '10/19/2004', '09/20/1946', '02/12/2009', '10/19/2006', '12/10/1999', '07/31/1990', '04/06/1921', '08/01/1948', '06/29/1946', '01/16/1965', '01/20/2007', '08/06/1936', '06/11/1989', '07/11/1979', '05/06/1935', '05/19/1978', '03/11/1933', '11/11/2002', '09/19/1992', '04/26/1994', '08/15/1938', '05/24/1962', '07/16/1947', '12/04/1935', '07/27/1963', '08/21/2004', '12/04/1974', '01/15/2009', '08/06/1997', '12/05/1999', '04/11/2008', '09/17/1932', '11/27/1940', '12/18/1995', '04/15/2002', '06/19/2010', '03/31/1986', '01/17/2003', '04/10/2010', '08/20/1948', '04/06/1944', '10/21/1977', '01/31/1957', '06/21/1983', '03/17/1953', '04/06/1994', '12/12/1953', '07/09/1926', '12/22/1954', '10/26/2003', '08/16/2007', '09/02/2006', '11/05/1956', '10/08/1979', '04/19/1968', '02/05/1955', '01/20/1995', '08/31/1972', '04/23/1976', '09/11/1945', '02/25/1948', '03/28/1961', '04/02/1956', '01/14/1993', '10/04/1992', '10/03/1978', '03/07/1924', '07/28/1935', '07/15/1959', '12/08/1964', '11/03/1965', '01/09/1983', '06/24/1995', '01/12/1970', '02/24/1981', '07/23/2014', '06/30/1961', '03/24/1968', '10/29/1932', '03/20/1953', '09/11/1963', '03/10/1934', '06/30/1951', '07/23/1979', '02/19/2003', '04/23/1979', '12/29/1941', '10/30/1945', '01/28/1947', '02/11/1981', '04/16/1997', '02/16/1968', '11/08/1957', '12/23/1969', '04/30/1946', '02/22/1974', '03/18/1997', '08/13/1973', '02/27/1958', '06/08/1954', '06/25/1952', '04/01/1956', '06/01/1946', '11/07/1950', '11/03/1958', '07/02/1963', '07/24/1973', '03/24/1927', '11/10/1933', '01/21/1936', '02/10/1970', '08/31/1986', '04/20/1968', '12/30/1987', '06/01/1970', '10/08/1996', '06/13/1931', '12/10/2004', '10/31/1928', '11/20/1966', '12/26/1994', '10/28/1954', '07/27/2006', '10/28/1974', '05/11/2004', '03/30/1986', '06/20/1939', '04/26/1990', '02/25/1956', '09/14/1929', '02/03/1964', '12/29/1977', '11/15/1951', '07/28/2010', '03/16/1960', '12/29/1994', '05/18/2005', '05/26/1955', '09/01/1941', '11/15/1974', '07/21/1930', '09/10/1962', '04/23/1959', '02/02/2016', '02/09/1976', '10/11/1984', '09/21/1981', '05/26/1928', '05/09/1976', '12/07/1944', '10/12/1962', '03/11/2018', '07/06/2008', '01/15/1946', '10/26/1959', '07/20/2000', '03/08/1938', '06/01/2002', '03/30/1952', '03/21/1994', '10/17/1971', '07/30/1962', '11/16/1967', '07/07/1999', '03/29/1959', '02/22/1938', '11/21/1978', '07/25/1947', '08/09/2011', '11/26/1938', '12/14/1920', '10/26/1996', '02/24/1939', '12/09/1936', '07/17/1994', '11/22/2001', '03/12/1952', '10/13/1976', '02/17/1991', '10/08/1994', '11/04/1972', '11/28/1983', '01/18/1956', '12/26/1993', '12/05/1995', '11/11/1991', '03/13/1967', '10/29/1994', '08/22/2002', '06/20/1991', '05/21/1981', '03/06/1934', '08/05/1950', '06/13/1929', '04/25/1994', '11/12/1996', '11/23/1996', '12/25/2012', '01/16/1942', '11/14/1938', '11/05/1960', '08/02/1985', '02/08/1993', '03/19/1946', '01/02/1984', '06/07/1949', '06/13/1971', '02/04/1976', '09/23/1991', '07/19/2003', '09/05/1958', '04/11/1955', '08/12/1965', '11/28/2002', '07/20/1977', '09/18/1945', '06/24/1956', '10/11/2001', '09/29/1960', '09/05/1986', '09/17/1929', '12/21/1987', '06/10/1986', '01/17/1923', '03/26/1965', '03/23/1991', '07/02/2000', '01/25/1929', '12/25/1986', '10/10/1971', '01/14/1922', '11/22/1995', '09/24/1972', '01/17/1965', '03/31/1931', '05/27/1935', '06/21/1964', '11/27/1965', '08/27/1972', '04/30/1982', '12/10/1947', '08/19/1971', '07/12/1969', '10/28/1949', '08/10/2001', '08/16/1987', '09/21/2010', '05/02/1959', '08/14/1986', '02/04/1996', '12/23/1923', '11/11/1966', '07/12/1912', '05/09/1970', '01/22/1971', '09/01/1972', '06/22/1928', '12/14/1998', '06/04/2003', '08/29/2002', '02/04/1964', '05/02/2004', '01/26/1961', '08/14/1968', '11/11/1946', '10/18/1958', '05/09/1982', '02/01/1959', '02/17/1966', '01/19/1988', '11/22/1948', '04/25/1970', '11/04/2015', '04/26/1967', '10/23/1945', '08/05/1974', '04/02/1969', '02/10/1940', '10/02/1998', '09/25/1936', '06/02/1958', '03/05/1993', '12/17/1998', '09/09/1913', '06/18/1987', '11/22/2004', '06/25/2013', '07/13/1947', '05/16/1972', '02/14/1991', '07/05/2003', '10/29/1953', '11/03/1967', '08/27/1985', '03/14/1979', '02/18/1943', '01/28/1992', '10/27/1974', '10/15/1960', '08/10/1994', '05/23/1987', '01/17/1949', '01/06/1954', '07/06/1965', '09/13/1978', '12/19/1977', '11/09/1999', '07/10/1960', '07/11/1996', '08/01/1977', '12/22/1973', '07/18/1970', '07/21/2000', '12/06/1990', '08/13/2006', '09/30/1994', '01/14/2002', '09/07/1923', '12/27/1936', '01/01/1978', '11/15/1945', '06/26/1950', '03/14/2007', '06/03/1922', '12/26/1932', '08/19/1969', '07/07/1930', '12/08/1987', '12/10/1969', '06/09/1934', '04/04/1933', '07/09/1999', '01/26/1990', '05/12/1982', '06/26/1959', '06/08/1982', '08/26/1952', '11/02/1973', '10/27/1953', '02/04/1997', '02/24/1994', '08/08/1954', '05/15/2010', '05/19/1973', '09/12/2001', '08/14/1982', '04/25/1925', '12/31/1959', '12/09/1997', '01/05/2000', '12/25/1946', '08/01/1960', '02/02/1974', '01/14/1966', '03/15/1989', '07/02/1954', '02/16/1952', '03/18/1947', '01/19/1952', '04/18/1972', '06/12/1980', '07/07/1965', '03/10/1964', '10/02/1922', '06/15/1953', '01/16/1983', '04/29/1933', '10/21/1992', '08/15/1958', '07/25/1957', '01/08/1948', '07/16/1960', '03/15/2016', '10/23/1948', '03/02/1978', '07/25/1981', '11/26/1977', '07/04/2001', '05/02/2018', '03/04/1977', '10/14/1952', '10/15/1958', '02/10/1944', '09/22/1963', '04/05/1978', '07/23/1944', '09/05/1999', '03/23/2005', '09/01/1969', '05/05/1945', '08/20/1946', '06/15/1967', '09/14/1979', '05/03/1963', '06/03/1962', '06/25/1999', '03/25/1958', '07/23/1982', '10/16/2000', '11/02/1947', '12/07/1999', '03/08/1947', '08/08/1956', '12/08/1959', '04/03/1996', '07/17/2014', '03/21/1991', '09/24/1995', '11/18/1975', '12/07/1960', '02/04/1972', '04/04/1994', '03/27/2017', '06/22/1989', '07/19/2000', '07/31/1975', '06/28/1983', '07/22/2004', '07/15/2009', '03/17/1957', '05/29/1961', '01/28/1966', '04/28/2002', '04/08/1999', '12/12/1938', '03/09/1957', '07/20/1920', '10/26/1937', '11/21/1989', '07/04/1945', '05/30/1950', '03/19/1982', '08/21/1917', '11/28/2004', '08/22/1985', '08/01/1924', '06/28/1962', '04/10/1973', '06/07/1979', '09/13/1997', '07/07/1950', '01/22/1996', '09/25/2011', '08/21/1966', '07/04/1966', '02/25/1962', '12/07/1963', '11/04/1959', '04/04/1978', '02/03/1961', '12/21/1973', '01/18/1939', '06/05/1950', '08/06/1980', '06/28/1984', '07/17/1955', '06/14/1928', '09/28/1998', '02/22/2005', '02/08/2006', '03/22/1998', '07/29/1948', '07/02/1937', '02/05/1990', '11/29/1927', '05/08/2014', '11/14/1988', '05/10/1946', '04/21/2005', '10/24/1947', '12/08/1934', '11/18/1978', '12/19/1943', '06/24/1952', '01/11/1937', '07/28/1962', '01/14/1951', '09/01/1995', '09/11/1965', '11/16/1937', '02/16/1986', '04/04/2001', '05/09/2012', '07/25/1969', '10/06/2000', '03/05/1966', '05/08/1989', '12/08/1938', '06/22/1992', '08/30/1955', '08/08/1937', '03/07/1950', '11/12/1937', '05/22/1938', '01/18/1986', '08/01/2010', '10/19/2000', '01/31/2003', '07/26/1946', '11/01/1974', '12/06/1962', '09/29/2011', '08/25/1977', '08/28/1944', '09/09/1988', '09/02/1995', '05/28/1985', '09/17/1961', '12/22/1998', '03/15/1949', '05/27/1950', '09/18/1944', '06/14/1952', '08/09/1958', '01/05/1949', '05/24/1953', '05/23/1969', '06/17/1975', '08/02/1988', '02/03/1998', '10/13/1969', '10/02/1972', '10/28/1957', '01/30/1984', '04/06/1981', '01/27/1993', '05/08/1939', '01/12/1937', '01/21/1939', '03/26/1982', '11/16/2008', '03/14/1939', '06/03/2019', '04/18/1955', '08/18/1971', '06/20/1940', '09/19/1976', '09/18/1957', '01/22/1973', '12/03/2007', '10/08/1997', '03/05/1968', '05/06/1988', '06/24/1975', '05/25/1969', '02/26/1981', '07/24/1996', '09/07/1974', '02/04/1998', '10/02/1971', '02/09/1982', '07/13/1998', '03/23/1993', '08/02/1947', '08/02/1936', '10/27/2011', '05/24/1950', '04/23/1945', '11/27/1951', '09/27/1973', '07/21/1919', '11/07/1930', '12/22/1974', '07/12/1984', '10/25/1968', '03/08/2013', '08/16/2005', '01/09/1975', '10/28/1930', '03/11/1943', '02/20/1958', '08/31/1940', '07/16/2002', '10/29/2003', '09/21/1995', '10/07/1944', '02/15/1961', '04/10/1953', '12/23/1972', '12/13/1993', '03/26/1955', '09/11/2001', '02/05/1998', '02/16/2000', '09/04/1971', '07/17/1953', '06/08/1944', '07/26/1969', '02/20/1931', '02/21/1982', '02/13/1983', '11/21/1985', '11/01/1946', '01/03/1960', '05/17/2008', '02/19/1997', '01/04/2009', '09/11/1982', '09/15/1951', '07/16/1998', '12/31/1976', '02/06/1987', '12/11/1965', '08/29/1938', '06/06/1951', '05/07/1953', '10/17/1953', '11/20/1964', '08/12/1970', '11/28/1972', '08/30/1984', '08/12/2015', '03/21/1989', '03/09/1961', '11/28/1971', '11/02/1934', '02/09/1921', '11/14/1990', '12/17/1946', '09/12/1977', '11/01/1936', '11/17/2013', '12/27/1986', '12/22/1962', '03/18/1939', '07/09/1946', '08/19/2002', '03/27/1945', '04/11/2018', '09/29/1998', '05/26/2003', '09/07/1960', '09/08/1951', '12/11/1964', '04/02/1986', '02/02/1998', '06/18/1989', '11/21/1971', '03/05/1957', '08/23/1942', '07/18/1933', '07/21/1961', '09/02/1929', '10/08/1978', '03/27/1977', '07/01/1942', '04/06/2009', '12/25/2003', '12/04/1954', '03/16/2012', '08/27/1937', '12/14/1983', '08/28/1973', '02/06/1989', '03/10/1950', '08/05/1955', '05/18/1960', '04/27/1967', '04/04/1970', '01/28/1948', '09/03/1997', '03/21/1951', '02/08/1976', '11/03/1977', '09/01/1920', '08/18/1941', '07/08/1977', '03/11/1928', '07/05/2007', '10/17/1944', '08/29/1997', '12/31/1951', '01/26/1947', '07/27/1960', '01/25/2001', '04/17/1928', '10/07/2012', '02/19/1952', '08/31/1969', '09/17/1955', '01/10/1984', '10/08/1951', '09/08/1968', '08/04/1986', '12/18/1947', '12/12/1986', '10/23/1978', '11/24/2001', '02/07/1967', '07/29/1938', '12/18/1936', '03/01/1940', '10/26/1981', '10/21/1948', '07/24/1928', '01/10/1960', '09/18/1962', '06/18/1986', '04/21/1944', '10/06/1927', '01/03/1976', '12/13/1959', '09/09/1956', '11/22/1974', '12/26/2013', '09/05/2015', '06/05/1930', '08/16/1920'}\n"
     ]
    }
   ],
   "source": [
    "print(set(data3['Date']))"
   ]
  },
  {
   "cell_type": "code",
   "execution_count": 23,
   "metadata": {},
   "outputs": [
    {
     "data": {
      "text/plain": [
       "0    0\n",
       "2    0\n",
       "3    0\n",
       "4    0\n",
       "5    1\n",
       "Name: Date, dtype: object"
      ]
     },
     "execution_count": 23,
     "metadata": {},
     "output_type": "execute_result"
    }
   ],
   "source": [
    "\n",
    "data4['Date'] = data3[\"Date\"].str[-4:]\n",
    "\n",
    "data4.head()\n"
   ]
  },
  {
   "cell_type": "code",
   "execution_count": null,
   "metadata": {},
   "outputs": [],
   "source": [
    "Yearly Airplane Crashed\n",
    "\n",
    "Airplane Crashed by Operator\n",
    "\n",
    "Airplane Crashed by Type of Aircraft\n",
    "\n",
    "Selecting 6 Major Reasons of Airplane Crash After through analysis of random-sorted.txt and word frequency\n",
    "\n",
    "\n"
   ]
  },
  {
   "cell_type": "code",
   "execution_count": null,
   "metadata": {},
   "outputs": [],
   "source": []
  }
 ],
 "metadata": {
  "kernelspec": {
   "display_name": "Python 3",
   "language": "python",
   "name": "python3"
  },
  "language_info": {
   "codemirror_mode": {
    "name": "ipython",
    "version": 3
   },
   "file_extension": ".py",
   "mimetype": "text/x-python",
   "name": "python",
   "nbconvert_exporter": "python",
   "pygments_lexer": "ipython3",
   "version": "3.6.8"
  }
 },
 "nbformat": 4,
 "nbformat_minor": 2
}
