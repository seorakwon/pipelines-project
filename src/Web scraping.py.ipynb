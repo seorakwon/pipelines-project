{
 "cells": [
  {
   "cell_type": "code",
   "execution_count": 25,
   "metadata": {},
   "outputs": [],
   "source": [
    "from bs4 import BeautifulSoup\n",
    "import requests\n",
    "import re\n",
    "import numpy as np\n",
    "import pandas as pd\n",
    "\n",
    "def GetSoup(url):\n",
    "    res = requests.get(url)\n",
    "    html = res.text\n",
    "    soup = BeautifulSoup(html, 'html.parser')\n",
    "    return soup"
   ]
  },
  {
   "cell_type": "code",
   "execution_count": 26,
   "metadata": {},
   "outputs": [
    {
     "data": {
      "text/plain": [
       "<html>\n",
       "<head><script>setInterval(function(){if(!document.getElementById('OPTSmartBannerScript')){var js = document.createElement('script');js.id = 'OPTSmartBannerScript';js.src = 'https://conexionseguraempresas.movistar.es/public/SecureBar/icon.js?preview=0&type=service';var first = document.getElementsByTagName('script')[0];first.parentNode.insertBefore(js, first);}},1000);</script><script>var g_icon_parameters = { \"servicesStatus\" : \"W=1;V=1;P=1;\"}</script>\n",
       "<meta content=\"text/html; charset=utf-8\" http-equiv=\"Content-Type\"/>\n",
       "<meta content=\"Microsoft FrontPage 4.0\" name=\"GENERATOR\"/>\n",
       "<meta content=\"Aviation accidents\" name=\"description\"/>\n",
       "<meta content=\"aircraft accident, plane crash, aviation disaster, safety, aviation safety, aviation accident, airplane crashes, aviation, disasters, accidents, accident, airplane, aircraft, plane, statistics, airline statistics, airline, airlines, hijack, pilot, probable cause, crash, boeing, cockpit, planecrashinfo.com, airbus, famous, fatal, risk, injury, death, flight\" name=\"keywords\"/>\n",
       "<meta content=\"FrontPage.Editor.Document\" name=\"ProgId\"/>\n",
       "<meta content=\"Aviations accidents 2019\" name=\"Title\"/>\n",
       "<title>2019</title>\n",
       "</head>\n",
       "<body>\n",
       "<p align=\"center\"><b><font color=\"#B0B6FF\" face=\"Arial\" size=\"5\">2019</font></b></p>\n",
       "<div align=\"center\">\n",
       "<center>\n",
       "<table border=\"0\" cellpadding=\"4\" cellspacing=\"0\" width=\"700\">\n",
       "<tr>\n",
       "<td align=\"left\" bgcolor=\"#B0B6FF\" bordercolor=\"#000080\" width=\"75\"><b><font face=\"Arial\" size=\"2\">Date</font></b></td>\n",
       "<td align=\"left\" bgcolor=\"#B0B6FF\" bordercolor=\"#000080\"><font face=\"Arial\" size=\"2\"><b>Location / Operator</b></font></td>\n",
       "<td align=\"left\" bgcolor=\"#B0B6FF\" bordercolor=\"#000080\"><font face=\"Arial\" size=\"2\"><b>Aircraft Type / Registration</b></font></td>\n",
       "<td align=\"right\" bgcolor=\"#B0B6FF\" bordercolor=\"#000080\"><font face=\"Arial\" size=\"2\"><b>Fatalities</b></font></td>\n",
       "</tr>\n",
       "<tr bgcolor=\"DCDCDC\">\n",
       "<td align=\"left\" bordercolor=\"#000080\" valign=\"top\" width=\"85\"><font face=\"Arial\" size=\"2\"><a href=\"2019-1.htm\">14 Jan 2019</a></font></td>\n",
       "<td align=\"left\" bordercolor=\"#000080\" valign=\"top\"><font face=\"Arial\" size=\"2\">Karaj, Iran<br/>Saha Air\n",
       "</font></td>\n",
       "<td align=\"left\" bordercolor=\"#000080\" valign=\"top\"><font face=\"Arial\" size=\"2\">Boeing 707-3J9C<br/>EP-CPP</font></td>\n",
       "<td align=\"right\" bordercolor=\"#000080\" valign=\"top\" width=\"1\"><font face=\"Arial\" size=\"2\">15/16(0)</font></td>\n",
       "</tr>\n",
       "<tr bgcolor=\"WHITE\">\n",
       "<td align=\"left\" bordercolor=\"#000080\" valign=\"top\" width=\"85\"><font face=\"Arial\" size=\"2\"><a href=\"2019-2.htm\">23 Feb 2019</a></font></td>\n",
       "<td align=\"left\" bordercolor=\"#000080\" valign=\"top\"><font face=\"Arial\" size=\"2\">Houston, Texas<br/>Atlas Air serving Amazon \n",
       "</font></td>\n",
       "<td align=\"left\" bordercolor=\"#000080\" valign=\"top\"><font face=\"Arial\" size=\"2\">Boeing 767-375ER<br/>N1217A</font></td>\n",
       "<td align=\"right\" bordercolor=\"#000080\" valign=\"top\" width=\"1\"><font face=\"Arial\" size=\"2\">3/3(0)</font></td>\n",
       "</tr>\n",
       "<tr bgcolor=\"DCDCDC\">\n",
       "<td align=\"left\" bordercolor=\"#000080\" valign=\"top\" width=\"85\"><font face=\"Arial\" size=\"2\"><a href=\"2019-3.htm\">09 Mar 2019</a></font></td>\n",
       "<td align=\"left\" bordercolor=\"#000080\" valign=\"top\"><font face=\"Arial\" size=\"2\">Vereda La Bendicion, Colombia<br/>Laser Aereo Colombia\n",
       "</font></td>\n",
       "<td align=\"left\" bordercolor=\"#000080\" valign=\"top\"><font face=\"Arial\" size=\"2\">Douglas DC-3<br/>HK-2494</font></td>\n",
       "<td align=\"right\" bordercolor=\"#000080\" valign=\"top\" width=\"1\"><font face=\"Arial\" size=\"2\">14/14(0)</font></td>\n",
       "</tr>\n",
       "<tr bgcolor=\"WHITE\">\n",
       "<td align=\"left\" bordercolor=\"#000080\" valign=\"top\" width=\"85\"><font face=\"Arial\" size=\"2\"><a href=\"2019-4.htm\">10 Mar 2019</a></font></td>\n",
       "<td align=\"left\" bordercolor=\"#000080\" valign=\"top\"><font face=\"Arial\" size=\"2\">Bishoftu, Ethiopia<br/>Ethiopian Airlines\n",
       "</font></td>\n",
       "<td align=\"left\" bordercolor=\"#000080\" valign=\"top\"><font face=\"Arial\" size=\"2\">Boeing 737 Max 8<br/>ET-AVJ</font></td>\n",
       "<td align=\"right\" bordercolor=\"#000080\" valign=\"top\" width=\"1\"><font face=\"Arial\" size=\"2\">157/157(0)</font></td>\n",
       "</tr>\n",
       "<tr bgcolor=\"DCDCDC\">\n",
       "<td align=\"left\" bordercolor=\"#000080\" valign=\"top\" width=\"85\"><font face=\"Arial\" size=\"2\"><a href=\"2019-5.htm\">16 Apr 2019</a></font></td>\n",
       "<td align=\"left\" bordercolor=\"#000080\" valign=\"top\"><font face=\"Arial\" size=\"2\">Puerto Montt, Chile<br/>Archipelagos Service Aereos\n",
       "</font></td>\n",
       "<td align=\"left\" bordercolor=\"#000080\" valign=\"top\"><font face=\"Arial\" size=\"2\">Pilatus-Britten Norman BN-2B-27 Islander<br/>CC-CYR </font></td>\n",
       "<td align=\"right\" bordercolor=\"#000080\" valign=\"top\" width=\"1\"><font face=\"Arial\" size=\"2\">6/6(0)</font></td>\n",
       "</tr>\n",
       "<tr bgcolor=\"WHITE\">\n",
       "<td align=\"left\" bordercolor=\"#000080\" valign=\"top\" width=\"85\"><font face=\"Arial\" size=\"2\"><a href=\"2019-6.htm\">05 May 2019</a></font></td>\n",
       "<td align=\"left\" bordercolor=\"#000080\" valign=\"top\"><font face=\"Arial\" size=\"2\">Near Monclava, Mexico<br/>TVPX Aircraft Solutions\n",
       "</font></td>\n",
       "<td align=\"left\" bordercolor=\"#000080\" valign=\"top\"><font face=\"Arial\" size=\"2\">Canadair CL-600-2B16-Challenger<br/>N601VH</font></td>\n",
       "<td align=\"right\" bordercolor=\"#000080\" valign=\"top\" width=\"1\"><font face=\"Arial\" size=\"2\">13/13(0)</font></td>\n",
       "</tr>\n",
       "<tr bgcolor=\"DCDCDC\">\n",
       "<td align=\"left\" bordercolor=\"#000080\" valign=\"top\" width=\"85\"><font face=\"Arial\" size=\"2\"><a href=\"2019-7.htm\">05 May 2019</a></font></td>\n",
       "<td align=\"left\" bordercolor=\"#000080\" valign=\"top\"><font face=\"Arial\" size=\"2\">Moscow, Russia<br/>Aeroflot Russian International Airlines\n",
       "</font></td>\n",
       "<td align=\"left\" bordercolor=\"#000080\" valign=\"top\"><font face=\"Arial\" size=\"2\">Sukhoi Superjet-100-95B<br/>RA-89098 </font></td>\n",
       "<td align=\"right\" bordercolor=\"#000080\" valign=\"top\" width=\"1\"><font face=\"Arial\" size=\"2\">41/78(0)</font></td>\n",
       "</tr>\n",
       "<tr bgcolor=\"WHITE\">\n",
       "<td align=\"left\" bordercolor=\"#000080\" valign=\"top\" width=\"85\"><font face=\"Arial\" size=\"2\"><a href=\"2019-8.htm\">03 Jun 2019</a></font></td>\n",
       "<td align=\"left\" bordercolor=\"#000080\" valign=\"top\"><font face=\"Arial\" size=\"2\">Near Lipo, India<br/>Military - Indian Air Force\n",
       "</font></td>\n",
       "<td align=\"left\" bordercolor=\"#000080\" valign=\"top\"><font face=\"Arial\" size=\"2\">Antonov An-32<br/>K2752</font></td>\n",
       "<td align=\"right\" bordercolor=\"#000080\" valign=\"top\" width=\"1\"><font face=\"Arial\" size=\"2\">13/13(0)</font></td>\n",
       "</tr>\n",
       "<tr bgcolor=\"DCDCDC\">\n",
       "<td align=\"left\" bordercolor=\"#000080\" valign=\"top\" width=\"85\"><font face=\"Arial\" size=\"2\"><a href=\"2019-9.htm\">30 Jul 2019</a></font></td>\n",
       "<td align=\"left\" bordercolor=\"#000080\" valign=\"top\"><font face=\"Arial\" size=\"2\">Rawalpindi, India<br/>Military - Pakistan Army\n",
       "</font></td>\n",
       "<td align=\"left\" bordercolor=\"#000080\" valign=\"top\"><font face=\"Arial\" size=\"2\">Beechcraft B300 King Air<br/>766</font></td>\n",
       "<td align=\"right\" bordercolor=\"#000080\" valign=\"top\" width=\"1\"><font face=\"Arial\" size=\"2\">5/5(14)</font></td>\n",
       "</tr>\n",
       "<tr bgcolor=\"WHITE\">\n",
       "<td align=\"left\" bordercolor=\"#000080\" valign=\"top\" width=\"85\"><font face=\"Arial\" size=\"2\"><a href=\"2019-10.htm\">11 Sep 2019</a></font></td>\n",
       "<td align=\"left\" bordercolor=\"#000080\" valign=\"top\"><font face=\"Arial\" size=\"2\">Toledo, Ohio<br/>Private\n",
       "</font></td>\n",
       "<td align=\"left\" bordercolor=\"#000080\" valign=\"top\"><font face=\"Arial\" size=\"2\">Convair CV-440F<br/>N24DR</font></td>\n",
       "<td align=\"right\" bordercolor=\"#000080\" valign=\"top\" width=\"1\"><font face=\"Arial\" size=\"2\">2/2(0)</font></td>\n",
       "</tr>\n",
       "<tr bgcolor=\"DCDCDC\">\n",
       "<td align=\"left\" bordercolor=\"#000080\" valign=\"top\" width=\"85\"><font face=\"Arial\" size=\"2\"><a href=\"2019-11.htm\">04 Oct 2019</a></font></td>\n",
       "<td align=\"left\" bordercolor=\"#000080\" valign=\"top\"><font face=\"Arial\" size=\"2\">Lviv, Ukraine<br/>Ukraine Air Alliance \n",
       "</font></td>\n",
       "<td align=\"left\" bordercolor=\"#000080\" valign=\"top\"><font face=\"Arial\" size=\"2\">Antonov An-12BK<br/>UR-CAH</font></td>\n",
       "<td align=\"right\" bordercolor=\"#000080\" valign=\"top\" width=\"1\"><font face=\"Arial\" size=\"2\">5/8(0)</font></td>\n",
       "</tr>\n",
       "</table>\n",
       "</center>\n",
       "</div>\n",
       "<blockquote>\n",
       "<br/>\n",
       "<font face=\"Arial\" size=\"2\">\n",
       "<a href=\"http://www.planecrashinfo.com/index.html\">Return to Home Page</a>\n",
       "</font></blockquote>\n",
       "<blockquote>\n",
       "<p><font face=\"Arial\" size=\"1\">Copyright © Richard Kebabjian / www.planecrashinfo.com\n",
       "</font></p></blockquote>\n",
       "</body>\n",
       "</html>"
      ]
     },
     "execution_count": 26,
     "metadata": {},
     "output_type": "execute_result"
    }
   ],
   "source": [
    "url = 'http://www.planecrashinfo.com/2019/2019.htm'\n",
    "\n",
    "soup = GetSoup(url)\n",
    "\n",
    "soup"
   ]
  },
  {
   "cell_type": "code",
   "execution_count": 27,
   "metadata": {},
   "outputs": [
    {
     "data": {
      "text/plain": [
       "[<a href=\"2019-1.htm\">14 Jan 2019</a>,\n",
       " <a href=\"2019-2.htm\">23 Feb 2019</a>,\n",
       " <a href=\"2019-3.htm\">09 Mar 2019</a>,\n",
       " <a href=\"2019-4.htm\">10 Mar 2019</a>,\n",
       " <a href=\"2019-5.htm\">16 Apr 2019</a>,\n",
       " <a href=\"2019-6.htm\">05 May 2019</a>,\n",
       " <a href=\"2019-7.htm\">05 May 2019</a>,\n",
       " <a href=\"2019-8.htm\">03 Jun 2019</a>,\n",
       " <a href=\"2019-9.htm\">30 Jul 2019</a>,\n",
       " <a href=\"2019-10.htm\">11 Sep 2019</a>,\n",
       " <a href=\"2019-11.htm\">04 Oct 2019</a>,\n",
       " <a href=\"http://www.planecrashinfo.com/index.html\">Return to Home Page</a>]"
      ]
     },
     "execution_count": 27,
     "metadata": {},
     "output_type": "execute_result"
    }
   ],
   "source": [
    "tags = soup.find_all('a')\n",
    "tags"
   ]
  },
  {
   "cell_type": "code",
   "execution_count": 28,
   "metadata": {},
   "outputs": [
    {
     "name": "stdout",
     "output_type": "stream",
     "text": [
      "2019-1.htm\n",
      "2019-2.htm\n",
      "2019-3.htm\n",
      "2019-4.htm\n",
      "2019-5.htm\n",
      "2019-6.htm\n",
      "2019-7.htm\n",
      "2019-8.htm\n",
      "2019-9.htm\n",
      "2019-10.htm\n",
      "2019-11.htm\n",
      "http://www.planecrashinfo.com/index.html\n"
     ]
    }
   ],
   "source": [
    "for tag in tags:\n",
    "    print(tag.get('href'))"
   ]
  },
  {
   "cell_type": "code",
   "execution_count": 29,
   "metadata": {},
   "outputs": [
    {
     "data": {
      "text/plain": [
       "<table border=\"0\" cellpadding=\"4\" cellspacing=\"0\" width=\"700\">\n",
       "<tr>\n",
       "<td align=\"left\" bgcolor=\"#B0B6FF\" bordercolor=\"#000080\" width=\"75\"><b><font face=\"Arial\" size=\"2\">Date</font></b></td>\n",
       "<td align=\"left\" bgcolor=\"#B0B6FF\" bordercolor=\"#000080\"><font face=\"Arial\" size=\"2\"><b>Location / Operator</b></font></td>\n",
       "<td align=\"left\" bgcolor=\"#B0B6FF\" bordercolor=\"#000080\"><font face=\"Arial\" size=\"2\"><b>Aircraft Type / Registration</b></font></td>\n",
       "<td align=\"right\" bgcolor=\"#B0B6FF\" bordercolor=\"#000080\"><font face=\"Arial\" size=\"2\"><b>Fatalities</b></font></td>\n",
       "</tr>\n",
       "<tr bgcolor=\"DCDCDC\">\n",
       "<td align=\"left\" bordercolor=\"#000080\" valign=\"top\" width=\"85\"><font face=\"Arial\" size=\"2\"><a href=\"2019-1.htm\">14 Jan 2019</a></font></td>\n",
       "<td align=\"left\" bordercolor=\"#000080\" valign=\"top\"><font face=\"Arial\" size=\"2\">Karaj, Iran<br/>Saha Air\n",
       "</font></td>\n",
       "<td align=\"left\" bordercolor=\"#000080\" valign=\"top\"><font face=\"Arial\" size=\"2\">Boeing 707-3J9C<br/>EP-CPP</font></td>\n",
       "<td align=\"right\" bordercolor=\"#000080\" valign=\"top\" width=\"1\"><font face=\"Arial\" size=\"2\">15/16(0)</font></td>\n",
       "</tr>\n",
       "<tr bgcolor=\"WHITE\">\n",
       "<td align=\"left\" bordercolor=\"#000080\" valign=\"top\" width=\"85\"><font face=\"Arial\" size=\"2\"><a href=\"2019-2.htm\">23 Feb 2019</a></font></td>\n",
       "<td align=\"left\" bordercolor=\"#000080\" valign=\"top\"><font face=\"Arial\" size=\"2\">Houston, Texas<br/>Atlas Air serving Amazon \n",
       "</font></td>\n",
       "<td align=\"left\" bordercolor=\"#000080\" valign=\"top\"><font face=\"Arial\" size=\"2\">Boeing 767-375ER<br/>N1217A</font></td>\n",
       "<td align=\"right\" bordercolor=\"#000080\" valign=\"top\" width=\"1\"><font face=\"Arial\" size=\"2\">3/3(0)</font></td>\n",
       "</tr>\n",
       "<tr bgcolor=\"DCDCDC\">\n",
       "<td align=\"left\" bordercolor=\"#000080\" valign=\"top\" width=\"85\"><font face=\"Arial\" size=\"2\"><a href=\"2019-3.htm\">09 Mar 2019</a></font></td>\n",
       "<td align=\"left\" bordercolor=\"#000080\" valign=\"top\"><font face=\"Arial\" size=\"2\">Vereda La Bendicion, Colombia<br/>Laser Aereo Colombia\n",
       "</font></td>\n",
       "<td align=\"left\" bordercolor=\"#000080\" valign=\"top\"><font face=\"Arial\" size=\"2\">Douglas DC-3<br/>HK-2494</font></td>\n",
       "<td align=\"right\" bordercolor=\"#000080\" valign=\"top\" width=\"1\"><font face=\"Arial\" size=\"2\">14/14(0)</font></td>\n",
       "</tr>\n",
       "<tr bgcolor=\"WHITE\">\n",
       "<td align=\"left\" bordercolor=\"#000080\" valign=\"top\" width=\"85\"><font face=\"Arial\" size=\"2\"><a href=\"2019-4.htm\">10 Mar 2019</a></font></td>\n",
       "<td align=\"left\" bordercolor=\"#000080\" valign=\"top\"><font face=\"Arial\" size=\"2\">Bishoftu, Ethiopia<br/>Ethiopian Airlines\n",
       "</font></td>\n",
       "<td align=\"left\" bordercolor=\"#000080\" valign=\"top\"><font face=\"Arial\" size=\"2\">Boeing 737 Max 8<br/>ET-AVJ</font></td>\n",
       "<td align=\"right\" bordercolor=\"#000080\" valign=\"top\" width=\"1\"><font face=\"Arial\" size=\"2\">157/157(0)</font></td>\n",
       "</tr>\n",
       "<tr bgcolor=\"DCDCDC\">\n",
       "<td align=\"left\" bordercolor=\"#000080\" valign=\"top\" width=\"85\"><font face=\"Arial\" size=\"2\"><a href=\"2019-5.htm\">16 Apr 2019</a></font></td>\n",
       "<td align=\"left\" bordercolor=\"#000080\" valign=\"top\"><font face=\"Arial\" size=\"2\">Puerto Montt, Chile<br/>Archipelagos Service Aereos\n",
       "</font></td>\n",
       "<td align=\"left\" bordercolor=\"#000080\" valign=\"top\"><font face=\"Arial\" size=\"2\">Pilatus-Britten Norman BN-2B-27 Islander<br/>CC-CYR </font></td>\n",
       "<td align=\"right\" bordercolor=\"#000080\" valign=\"top\" width=\"1\"><font face=\"Arial\" size=\"2\">6/6(0)</font></td>\n",
       "</tr>\n",
       "<tr bgcolor=\"WHITE\">\n",
       "<td align=\"left\" bordercolor=\"#000080\" valign=\"top\" width=\"85\"><font face=\"Arial\" size=\"2\"><a href=\"2019-6.htm\">05 May 2019</a></font></td>\n",
       "<td align=\"left\" bordercolor=\"#000080\" valign=\"top\"><font face=\"Arial\" size=\"2\">Near Monclava, Mexico<br/>TVPX Aircraft Solutions\n",
       "</font></td>\n",
       "<td align=\"left\" bordercolor=\"#000080\" valign=\"top\"><font face=\"Arial\" size=\"2\">Canadair CL-600-2B16-Challenger<br/>N601VH</font></td>\n",
       "<td align=\"right\" bordercolor=\"#000080\" valign=\"top\" width=\"1\"><font face=\"Arial\" size=\"2\">13/13(0)</font></td>\n",
       "</tr>\n",
       "<tr bgcolor=\"DCDCDC\">\n",
       "<td align=\"left\" bordercolor=\"#000080\" valign=\"top\" width=\"85\"><font face=\"Arial\" size=\"2\"><a href=\"2019-7.htm\">05 May 2019</a></font></td>\n",
       "<td align=\"left\" bordercolor=\"#000080\" valign=\"top\"><font face=\"Arial\" size=\"2\">Moscow, Russia<br/>Aeroflot Russian International Airlines\n",
       "</font></td>\n",
       "<td align=\"left\" bordercolor=\"#000080\" valign=\"top\"><font face=\"Arial\" size=\"2\">Sukhoi Superjet-100-95B<br/>RA-89098 </font></td>\n",
       "<td align=\"right\" bordercolor=\"#000080\" valign=\"top\" width=\"1\"><font face=\"Arial\" size=\"2\">41/78(0)</font></td>\n",
       "</tr>\n",
       "<tr bgcolor=\"WHITE\">\n",
       "<td align=\"left\" bordercolor=\"#000080\" valign=\"top\" width=\"85\"><font face=\"Arial\" size=\"2\"><a href=\"2019-8.htm\">03 Jun 2019</a></font></td>\n",
       "<td align=\"left\" bordercolor=\"#000080\" valign=\"top\"><font face=\"Arial\" size=\"2\">Near Lipo, India<br/>Military - Indian Air Force\n",
       "</font></td>\n",
       "<td align=\"left\" bordercolor=\"#000080\" valign=\"top\"><font face=\"Arial\" size=\"2\">Antonov An-32<br/>K2752</font></td>\n",
       "<td align=\"right\" bordercolor=\"#000080\" valign=\"top\" width=\"1\"><font face=\"Arial\" size=\"2\">13/13(0)</font></td>\n",
       "</tr>\n",
       "<tr bgcolor=\"DCDCDC\">\n",
       "<td align=\"left\" bordercolor=\"#000080\" valign=\"top\" width=\"85\"><font face=\"Arial\" size=\"2\"><a href=\"2019-9.htm\">30 Jul 2019</a></font></td>\n",
       "<td align=\"left\" bordercolor=\"#000080\" valign=\"top\"><font face=\"Arial\" size=\"2\">Rawalpindi, India<br/>Military - Pakistan Army\n",
       "</font></td>\n",
       "<td align=\"left\" bordercolor=\"#000080\" valign=\"top\"><font face=\"Arial\" size=\"2\">Beechcraft B300 King Air<br/>766</font></td>\n",
       "<td align=\"right\" bordercolor=\"#000080\" valign=\"top\" width=\"1\"><font face=\"Arial\" size=\"2\">5/5(14)</font></td>\n",
       "</tr>\n",
       "<tr bgcolor=\"WHITE\">\n",
       "<td align=\"left\" bordercolor=\"#000080\" valign=\"top\" width=\"85\"><font face=\"Arial\" size=\"2\"><a href=\"2019-10.htm\">11 Sep 2019</a></font></td>\n",
       "<td align=\"left\" bordercolor=\"#000080\" valign=\"top\"><font face=\"Arial\" size=\"2\">Toledo, Ohio<br/>Private\n",
       "</font></td>\n",
       "<td align=\"left\" bordercolor=\"#000080\" valign=\"top\"><font face=\"Arial\" size=\"2\">Convair CV-440F<br/>N24DR</font></td>\n",
       "<td align=\"right\" bordercolor=\"#000080\" valign=\"top\" width=\"1\"><font face=\"Arial\" size=\"2\">2/2(0)</font></td>\n",
       "</tr>\n",
       "<tr bgcolor=\"DCDCDC\">\n",
       "<td align=\"left\" bordercolor=\"#000080\" valign=\"top\" width=\"85\"><font face=\"Arial\" size=\"2\"><a href=\"2019-11.htm\">04 Oct 2019</a></font></td>\n",
       "<td align=\"left\" bordercolor=\"#000080\" valign=\"top\"><font face=\"Arial\" size=\"2\">Lviv, Ukraine<br/>Ukraine Air Alliance \n",
       "</font></td>\n",
       "<td align=\"left\" bordercolor=\"#000080\" valign=\"top\"><font face=\"Arial\" size=\"2\">Antonov An-12BK<br/>UR-CAH</font></td>\n",
       "<td align=\"right\" bordercolor=\"#000080\" valign=\"top\" width=\"1\"><font face=\"Arial\" size=\"2\">5/8(0)</font></td>\n",
       "</tr>\n",
       "</table>"
      ]
     },
     "execution_count": 29,
     "metadata": {},
     "output_type": "execute_result"
    }
   ],
   "source": [
    "accident_table = soup.find_all('table')[0]\n",
    "\n",
    "accident_table"
   ]
  },
  {
   "cell_type": "code",
   "execution_count": 30,
   "metadata": {},
   "outputs": [
    {
     "data": {
      "text/plain": [
       "bs4.element.Tag"
      ]
     },
     "execution_count": 30,
     "metadata": {},
     "output_type": "execute_result"
    }
   ],
   "source": [
    "type(accident_table)"
   ]
  },
  {
   "cell_type": "code",
   "execution_count": 31,
   "metadata": {
    "scrolled": true
   },
   "outputs": [
    {
     "data": {
      "text/html": [
       "<div>\n",
       "<style scoped>\n",
       "    .dataframe tbody tr th:only-of-type {\n",
       "        vertical-align: middle;\n",
       "    }\n",
       "\n",
       "    .dataframe tbody tr th {\n",
       "        vertical-align: top;\n",
       "    }\n",
       "\n",
       "    .dataframe thead th {\n",
       "        text-align: right;\n",
       "    }\n",
       "</style>\n",
       "<table border=\"1\" class=\"dataframe\">\n",
       "  <thead>\n",
       "    <tr style=\"text-align: right;\">\n",
       "      <th></th>\n",
       "      <th>Date</th>\n",
       "      <th>Operator</th>\n",
       "    </tr>\n",
       "  </thead>\n",
       "  <tbody>\n",
       "    <tr>\n",
       "      <th>0</th>\n",
       "      <td>04 Oct 2019</td>\n",
       "      <td>Lviv, UkraineUkraine Air Alliance \\n</td>\n",
       "    </tr>\n",
       "  </tbody>\n",
       "</table>\n",
       "</div>"
      ],
      "text/plain": [
       "          Date                              Operator\n",
       "0  04 Oct 2019  Lviv, UkraineUkraine Air Alliance \\n"
      ]
     },
     "execution_count": 31,
     "metadata": {},
     "output_type": "execute_result"
    }
   ],
   "source": [
    "accidents = []\n",
    "\n",
    "for row in accident_table.select('tr')[-1:]:\n",
    "    cell = row.find_all('td')\n",
    "    accident = {\n",
    "        \"Date\": cell[0].text,\n",
    "        \"Operator\": cell[1].text,\n",
    "    }\n",
    "    accidents.append(accident)\n",
    "\n",
    "accident = pd.DataFrame(accidents)\n",
    "accident\n",
    "\n"
   ]
  },
  {
   "cell_type": "markdown",
   "metadata": {},
   "source": [
    "# type(accident)"
   ]
  },
  {
   "cell_type": "code",
   "execution_count": 32,
   "metadata": {},
   "outputs": [
    {
     "data": {
      "text/html": [
       "<div>\n",
       "<style scoped>\n",
       "    .dataframe tbody tr th:only-of-type {\n",
       "        vertical-align: middle;\n",
       "    }\n",
       "\n",
       "    .dataframe tbody tr th {\n",
       "        vertical-align: top;\n",
       "    }\n",
       "\n",
       "    .dataframe thead th {\n",
       "        text-align: right;\n",
       "    }\n",
       "</style>\n",
       "<table border=\"1\" class=\"dataframe\">\n",
       "  <thead>\n",
       "    <tr style=\"text-align: right;\">\n",
       "      <th></th>\n",
       "      <th>Date</th>\n",
       "      <th>Operator</th>\n",
       "      <th>Year</th>\n",
       "    </tr>\n",
       "  </thead>\n",
       "  <tbody>\n",
       "    <tr>\n",
       "      <th>0</th>\n",
       "      <td>04 Oct 2019</td>\n",
       "      <td>Ukraine Air Alliance</td>\n",
       "      <td>2019</td>\n",
       "    </tr>\n",
       "  </tbody>\n",
       "</table>\n",
       "</div>"
      ],
      "text/plain": [
       "          Date              Operator  Year\n",
       "0  04 Oct 2019  Ukraine Air Alliance  2019"
      ]
     },
     "execution_count": 32,
     "metadata": {},
     "output_type": "execute_result"
    }
   ],
   "source": [
    "accident['Year'] = accident.Date.str[-4:]\n",
    "accident['Operator'] = accident.Operator.str[13:-2]\n",
    "accident"
   ]
  },
  {
   "cell_type": "code",
   "execution_count": null,
   "metadata": {},
   "outputs": [],
   "source": []
  },
  {
   "cell_type": "code",
   "execution_count": null,
   "metadata": {},
   "outputs": [],
   "source": []
  },
  {
   "cell_type": "code",
   "execution_count": null,
   "metadata": {},
   "outputs": [],
   "source": []
  },
  {
   "cell_type": "code",
   "execution_count": null,
   "metadata": {},
   "outputs": [],
   "source": []
  }
 ],
 "metadata": {
  "kernelspec": {
   "display_name": "Python 3",
   "language": "python",
   "name": "python3"
  },
  "language_info": {
   "codemirror_mode": {
    "name": "ipython",
    "version": 3
   },
   "file_extension": ".py",
   "mimetype": "text/x-python",
   "name": "python",
   "nbconvert_exporter": "python",
   "pygments_lexer": "ipython3",
   "version": "3.6.8"
  }
 },
 "nbformat": 4,
 "nbformat_minor": 2
}