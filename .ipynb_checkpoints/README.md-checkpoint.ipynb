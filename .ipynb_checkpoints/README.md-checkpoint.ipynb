{
 "cells": [
  {
   "cell_type": "markdown",
   "metadata": {},
   "source": [
    "# Data-Analysis-Pipeline\n"
   ]
  },
  {
   "cell_type": "markdown",
   "metadata": {},
   "source": [
    "### The aim of this project is to ascertain the trend in plane crashes in the last 50 years and the opeartors that had the most accidents,\n",
    "\n",
    "The dataset was obtained from kaggle (https://www.kaggle.com/cgurkan/airplane-crash-data-since-1908), where only the last 50 year were taken into account. The advances in technology and the changes airplane use, have rendered the initial data irrelevant.\n",
    "\n",
    "The first step was to import the database and clean it, as to get a usable table.\n",
    "\n",
    "The next step would be to add recent crashes and complement the database info, by adding data scraped from http://www.planecrashinfo.com/2019/2019.htm. \n",
    "\n"
   ]
  },
  {
   "cell_type": "code",
   "execution_count": null,
   "metadata": {},
   "outputs": [],
   "source": []
  }
 ],
 "metadata": {
  "kernelspec": {
   "display_name": "Python 3",
   "language": "python",
   "name": "python3"
  },
  "language_info": {
   "codemirror_mode": {
    "name": "ipython",
    "version": 3
   },
   "file_extension": ".py",
   "mimetype": "text/x-python",
   "name": "python",
   "nbconvert_exporter": "python",
   "pygments_lexer": "ipython3",
   "version": "3.6.8"
  }
 },
 "nbformat": 4,
 "nbformat_minor": 2
}
