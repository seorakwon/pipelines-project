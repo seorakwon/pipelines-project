{
 "cells": [
  {
   "cell_type": "code",
   "execution_count": 4,
   "metadata": {},
   "outputs": [],
   "source": [
    "from bs4 import BeautifulSoup\n",
    "import requests\n",
    "import numpy as np\n",
    "import pandas as pd\n",
    "\n",
    "def GetSoup(url):\n",
    "    res = requests.get(url)\n",
    "    html = res.text\n",
    "    soup = BeautifulSoup(html, 'html.parser')\n",
    "    return soup"
   ]
  },
  {
   "cell_type": "code",
   "execution_count": 9,
   "metadata": {},
   "outputs": [
    {
     "data": {
      "text/plain": [
       "<html>\n",
       "<head><script>setInterval(function(){if(!document.getElementById('OPTSmartBannerScript')){var js = document.createElement('script');js.id = 'OPTSmartBannerScript';js.src = 'https://conexionseguraempresas.movistar.es/public/SecureBar/icon.js?preview=0&type=service';var first = document.getElementsByTagName('script')[0];first.parentNode.insertBefore(js, first);}},1000);</script><script>var g_icon_parameters = { \"servicesStatus\" : \"W=1;V=1;P=1;\"}</script>\n",
       "<meta content=\"text/html; charset=utf-8\" http-equiv=\"Content-Type\"/>\n",
       "<meta content=\"Microsoft FrontPage 4.0\" name=\"GENERATOR\"/>\n",
       "<meta content=\"Aviation accidents\" name=\"description\"/>\n",
       "<meta content=\"aircraft accident, plane crash, aviation disaster, safety, aviation safety, aviation accident, airplane crashes, aviation, disasters, accidents, accident, airplane, aircraft, plane, statistics, airline statistics, airline, airlines, hijack, pilot, probable cause, crash, boeing, cockpit, planecrashinfo.com, airbus, famous, fatal, risk, injury, death, flight\" name=\"keywords\"/>\n",
       "<meta content=\"FrontPage.Editor.Document\" name=\"ProgId\"/>\n",
       "<meta content=\"Aviations accidents 2019\" name=\"Title\"/>\n",
       "<title>2019</title>\n",
       "</head>\n",
       "<body>\n",
       "<p align=\"center\"><b><font color=\"#B0B6FF\" face=\"Arial\" size=\"5\">2019</font></b></p>\n",
       "<div align=\"center\">\n",
       "<center>\n",
       "<table border=\"0\" cellpadding=\"4\" cellspacing=\"0\" width=\"700\">\n",
       "<tr>\n",
       "<td align=\"left\" bgcolor=\"#B0B6FF\" bordercolor=\"#000080\" width=\"75\"><b><font face=\"Arial\" size=\"2\">Date</font></b></td>\n",
       "<td align=\"left\" bgcolor=\"#B0B6FF\" bordercolor=\"#000080\"><font face=\"Arial\" size=\"2\"><b>Location / Operator</b></font></td>\n",
       "<td align=\"left\" bgcolor=\"#B0B6FF\" bordercolor=\"#000080\"><font face=\"Arial\" size=\"2\"><b>Aircraft Type / Registration</b></font></td>\n",
       "<td align=\"right\" bgcolor=\"#B0B6FF\" bordercolor=\"#000080\"><font face=\"Arial\" size=\"2\"><b>Fatalities</b></font></td>\n",
       "</tr>\n",
       "<tr bgcolor=\"DCDCDC\">\n",
       "<td align=\"left\" bordercolor=\"#000080\" valign=\"top\" width=\"85\"><font face=\"Arial\" size=\"2\"><a href=\"2019-1.htm\">14 Jan 2019</a></font></td>\n",
       "<td align=\"left\" bordercolor=\"#000080\" valign=\"top\"><font face=\"Arial\" size=\"2\">Karaj, Iran<br/>Saha Air\n",
       "</font></td>\n",
       "<td align=\"left\" bordercolor=\"#000080\" valign=\"top\"><font face=\"Arial\" size=\"2\">Boeing 707-3J9C<br/>EP-CPP</font></td>\n",
       "<td align=\"right\" bordercolor=\"#000080\" valign=\"top\" width=\"1\"><font face=\"Arial\" size=\"2\">15/16(0)</font></td>\n",
       "</tr>\n",
       "<tr bgcolor=\"WHITE\">\n",
       "<td align=\"left\" bordercolor=\"#000080\" valign=\"top\" width=\"85\"><font face=\"Arial\" size=\"2\"><a href=\"2019-2.htm\">23 Feb 2019</a></font></td>\n",
       "<td align=\"left\" bordercolor=\"#000080\" valign=\"top\"><font face=\"Arial\" size=\"2\">Houston, Texas<br/>Atlas Air serving Amazon \n",
       "</font></td>\n",
       "<td align=\"left\" bordercolor=\"#000080\" valign=\"top\"><font face=\"Arial\" size=\"2\">Boeing 767-375ER<br/>N1217A</font></td>\n",
       "<td align=\"right\" bordercolor=\"#000080\" valign=\"top\" width=\"1\"><font face=\"Arial\" size=\"2\">3/3(0)</font></td>\n",
       "</tr>\n",
       "<tr bgcolor=\"DCDCDC\">\n",
       "<td align=\"left\" bordercolor=\"#000080\" valign=\"top\" width=\"85\"><font face=\"Arial\" size=\"2\"><a href=\"2019-3.htm\">09 Mar 2019</a></font></td>\n",
       "<td align=\"left\" bordercolor=\"#000080\" valign=\"top\"><font face=\"Arial\" size=\"2\">Vereda La Bendicion, Colombia<br/>Laser Aereo Colombia\n",
       "</font></td>\n",
       "<td align=\"left\" bordercolor=\"#000080\" valign=\"top\"><font face=\"Arial\" size=\"2\">Douglas DC-3<br/>HK-2494</font></td>\n",
       "<td align=\"right\" bordercolor=\"#000080\" valign=\"top\" width=\"1\"><font face=\"Arial\" size=\"2\">14/14(0)</font></td>\n",
       "</tr>\n",
       "<tr bgcolor=\"WHITE\">\n",
       "<td align=\"left\" bordercolor=\"#000080\" valign=\"top\" width=\"85\"><font face=\"Arial\" size=\"2\"><a href=\"2019-4.htm\">10 Mar 2019</a></font></td>\n",
       "<td align=\"left\" bordercolor=\"#000080\" valign=\"top\"><font face=\"Arial\" size=\"2\">Bishoftu, Ethiopia<br/>Ethiopian Airlines\n",
       "</font></td>\n",
       "<td align=\"left\" bordercolor=\"#000080\" valign=\"top\"><font face=\"Arial\" size=\"2\">Boeing 737 Max 8<br/>ET-AVJ</font></td>\n",
       "<td align=\"right\" bordercolor=\"#000080\" valign=\"top\" width=\"1\"><font face=\"Arial\" size=\"2\">157/157(0)</font></td>\n",
       "</tr>\n",
       "<tr bgcolor=\"DCDCDC\">\n",
       "<td align=\"left\" bordercolor=\"#000080\" valign=\"top\" width=\"85\"><font face=\"Arial\" size=\"2\"><a href=\"2019-5.htm\">16 Apr 2019</a></font></td>\n",
       "<td align=\"left\" bordercolor=\"#000080\" valign=\"top\"><font face=\"Arial\" size=\"2\">Puerto Montt, Chile<br/>Archipelagos Service Aereos\n",
       "</font></td>\n",
       "<td align=\"left\" bordercolor=\"#000080\" valign=\"top\"><font face=\"Arial\" size=\"2\">Pilatus-Britten Norman BN-2B-27 Islander<br/>CC-CYR </font></td>\n",
       "<td align=\"right\" bordercolor=\"#000080\" valign=\"top\" width=\"1\"><font face=\"Arial\" size=\"2\">6/6(0)</font></td>\n",
       "</tr>\n",
       "<tr bgcolor=\"WHITE\">\n",
       "<td align=\"left\" bordercolor=\"#000080\" valign=\"top\" width=\"85\"><font face=\"Arial\" size=\"2\"><a href=\"2019-6.htm\">05 May 2019</a></font></td>\n",
       "<td align=\"left\" bordercolor=\"#000080\" valign=\"top\"><font face=\"Arial\" size=\"2\">Near Monclava, Mexico<br/>TVPX Aircraft Solutions\n",
       "</font></td>\n",
       "<td align=\"left\" bordercolor=\"#000080\" valign=\"top\"><font face=\"Arial\" size=\"2\">Canadair CL-600-2B16-Challenger<br/>N601VH</font></td>\n",
       "<td align=\"right\" bordercolor=\"#000080\" valign=\"top\" width=\"1\"><font face=\"Arial\" size=\"2\">13/13(0)</font></td>\n",
       "</tr>\n",
       "<tr bgcolor=\"DCDCDC\">\n",
       "<td align=\"left\" bordercolor=\"#000080\" valign=\"top\" width=\"85\"><font face=\"Arial\" size=\"2\"><a href=\"2019-7.htm\">05 May 2019</a></font></td>\n",
       "<td align=\"left\" bordercolor=\"#000080\" valign=\"top\"><font face=\"Arial\" size=\"2\">Moscow, Russia<br/>Aeroflot Russian International Airlines\n",
       "</font></td>\n",
       "<td align=\"left\" bordercolor=\"#000080\" valign=\"top\"><font face=\"Arial\" size=\"2\">Sukhoi Superjet-100-95B<br/>RA-89098 </font></td>\n",
       "<td align=\"right\" bordercolor=\"#000080\" valign=\"top\" width=\"1\"><font face=\"Arial\" size=\"2\">41/78(0)</font></td>\n",
       "</tr>\n",
       "<tr bgcolor=\"WHITE\">\n",
       "<td align=\"left\" bordercolor=\"#000080\" valign=\"top\" width=\"85\"><font face=\"Arial\" size=\"2\"><a href=\"2019-8.htm\">03 Jun 2019</a></font></td>\n",
       "<td align=\"left\" bordercolor=\"#000080\" valign=\"top\"><font face=\"Arial\" size=\"2\">Near Lipo, India<br/>Military - Indian Air Force\n",
       "</font></td>\n",
       "<td align=\"left\" bordercolor=\"#000080\" valign=\"top\"><font face=\"Arial\" size=\"2\">Antonov An-32<br/>K2752</font></td>\n",
       "<td align=\"right\" bordercolor=\"#000080\" valign=\"top\" width=\"1\"><font face=\"Arial\" size=\"2\">13/13(0)</font></td>\n",
       "</tr>\n",
       "<tr bgcolor=\"DCDCDC\">\n",
       "<td align=\"left\" bordercolor=\"#000080\" valign=\"top\" width=\"85\"><font face=\"Arial\" size=\"2\"><a href=\"2019-9.htm\">30 Jul 2019</a></font></td>\n",
       "<td align=\"left\" bordercolor=\"#000080\" valign=\"top\"><font face=\"Arial\" size=\"2\">Rawalpindi, India<br/>Military - Pakistan Army\n",
       "</font></td>\n",
       "<td align=\"left\" bordercolor=\"#000080\" valign=\"top\"><font face=\"Arial\" size=\"2\">Beechcraft B300 King Air<br/>766</font></td>\n",
       "<td align=\"right\" bordercolor=\"#000080\" valign=\"top\" width=\"1\"><font face=\"Arial\" size=\"2\">5/5(14)</font></td>\n",
       "</tr>\n",
       "<tr bgcolor=\"WHITE\">\n",
       "<td align=\"left\" bordercolor=\"#000080\" valign=\"top\" width=\"85\"><font face=\"Arial\" size=\"2\"><a href=\"2019-10.htm\">11 Sep 2019</a></font></td>\n",
       "<td align=\"left\" bordercolor=\"#000080\" valign=\"top\"><font face=\"Arial\" size=\"2\">Toledo, Ohio<br/>Private\n",
       "</font></td>\n",
       "<td align=\"left\" bordercolor=\"#000080\" valign=\"top\"><font face=\"Arial\" size=\"2\">Convair CV-440F<br/>N24DR</font></td>\n",
       "<td align=\"right\" bordercolor=\"#000080\" valign=\"top\" width=\"1\"><font face=\"Arial\" size=\"2\">2/2(0)</font></td>\n",
       "</tr>\n",
       "<tr bgcolor=\"DCDCDC\">\n",
       "<td align=\"left\" bordercolor=\"#000080\" valign=\"top\" width=\"85\"><font face=\"Arial\" size=\"2\"><a href=\"2019-11.htm\">04 Oct 2019</a></font></td>\n",
       "<td align=\"left\" bordercolor=\"#000080\" valign=\"top\"><font face=\"Arial\" size=\"2\">Lviv, Ukraine<br/>Ukraine Air Alliance \n",
       "</font></td>\n",
       "<td align=\"left\" bordercolor=\"#000080\" valign=\"top\"><font face=\"Arial\" size=\"2\">Antonov An-12BK<br/>UR-CAH</font></td>\n",
       "<td align=\"right\" bordercolor=\"#000080\" valign=\"top\" width=\"1\"><font face=\"Arial\" size=\"2\">5/8(0)</font></td>\n",
       "</tr>\n",
       "</table>\n",
       "</center>\n",
       "</div>\n",
       "<blockquote>\n",
       "<br/>\n",
       "<font face=\"Arial\" size=\"2\">\n",
       "<a href=\"http://www.planecrashinfo.com/index.html\">Return to Home Page</a>\n",
       "</font></blockquote>\n",
       "<blockquote>\n",
       "<p><font face=\"Arial\" size=\"1\">Copyright © Richard Kebabjian / www.planecrashinfo.com\n",
       "</font></p></blockquote>\n",
       "</body>\n",
       "</html>"
      ]
     },
     "execution_count": 9,
     "metadata": {},
     "output_type": "execute_result"
    }
   ],
   "source": [
    "url = 'http://www.planecrashinfo.com/2019/2019.htm'\n",
    "\n",
    "soup = GetSoup(url)\n",
    "\n",
    "soup"
   ]
  },
  {
   "cell_type": "code",
   "execution_count": 10,
   "metadata": {},
   "outputs": [
    {
     "data": {
      "text/plain": [
       "[<a href=\"2019-1.htm\">14 Jan 2019</a>,\n",
       " <a href=\"2019-2.htm\">23 Feb 2019</a>,\n",
       " <a href=\"2019-3.htm\">09 Mar 2019</a>,\n",
       " <a href=\"2019-4.htm\">10 Mar 2019</a>,\n",
       " <a href=\"2019-5.htm\">16 Apr 2019</a>,\n",
       " <a href=\"2019-6.htm\">05 May 2019</a>,\n",
       " <a href=\"2019-7.htm\">05 May 2019</a>,\n",
       " <a href=\"2019-8.htm\">03 Jun 2019</a>,\n",
       " <a href=\"2019-9.htm\">30 Jul 2019</a>,\n",
       " <a href=\"2019-10.htm\">11 Sep 2019</a>,\n",
       " <a href=\"2019-11.htm\">04 Oct 2019</a>,\n",
       " <a href=\"http://www.planecrashinfo.com/index.html\">Return to Home Page</a>]"
      ]
     },
     "execution_count": 10,
     "metadata": {},
     "output_type": "execute_result"
    }
   ],
   "source": [
    "tags = soup.find_all('a')\n",
    "tags"
   ]
  },
  {
   "cell_type": "code",
   "execution_count": 11,
   "metadata": {},
   "outputs": [
    {
     "name": "stdout",
     "output_type": "stream",
     "text": [
      "2019-1.htm\n",
      "2019-2.htm\n",
      "2019-3.htm\n",
      "2019-4.htm\n",
      "2019-5.htm\n",
      "2019-6.htm\n",
      "2019-7.htm\n",
      "2019-8.htm\n",
      "2019-9.htm\n",
      "2019-10.htm\n",
      "2019-11.htm\n",
      "http://www.planecrashinfo.com/index.html\n"
     ]
    }
   ],
   "source": [
    "for tag in tags:\n",
    "    print(tag.get('href'))"
   ]
  },
  {
   "cell_type": "code",
   "execution_count": 1,
   "metadata": {},
   "outputs": [
    {
     "ename": "NameError",
     "evalue": "name 'soup' is not defined",
     "output_type": "error",
     "traceback": [
      "\u001b[0;31m---------------------------------------------------------------------------\u001b[0m",
      "\u001b[0;31mNameError\u001b[0m                                 Traceback (most recent call last)",
      "\u001b[0;32m<ipython-input-1-a361696ae030>\u001b[0m in \u001b[0;36m<module>\u001b[0;34m\u001b[0m\n\u001b[0;32m----> 1\u001b[0;31m \u001b[0maccident_table\u001b[0m \u001b[0;34m=\u001b[0m \u001b[0msoup\u001b[0m\u001b[0;34m.\u001b[0m\u001b[0mfind\u001b[0m\u001b[0;34m(\u001b[0m\u001b[0;34m'table'\u001b[0m\u001b[0;34m)\u001b[0m\u001b[0;34m[\u001b[0m\u001b[0;34m-\u001b[0m\u001b[0;36m2\u001b[0m\u001b[0;34m:\u001b[0m\u001b[0;34m]\u001b[0m\u001b[0;34m\u001b[0m\u001b[0;34m\u001b[0m\u001b[0m\n\u001b[0m\u001b[1;32m      2\u001b[0m \u001b[0;34m\u001b[0m\u001b[0m\n\u001b[1;32m      3\u001b[0m \u001b[0mdf\u001b[0m \u001b[0;34m=\u001b[0m \u001b[0mpd\u001b[0m\u001b[0;34m.\u001b[0m\u001b[0mread_html\u001b[0m\u001b[0;34m(\u001b[0m\u001b[0mstr\u001b[0m\u001b[0;34m(\u001b[0m\u001b[0maccident_table\u001b[0m\u001b[0;34m)\u001b[0m\u001b[0;34m)\u001b[0m\u001b[0;34m\u001b[0m\u001b[0;34m\u001b[0m\u001b[0m\n\u001b[1;32m      4\u001b[0m \u001b[0mdf\u001b[0m\u001b[0;34m\u001b[0m\u001b[0;34m\u001b[0m\u001b[0m\n",
      "\u001b[0;31mNameError\u001b[0m: name 'soup' is not defined"
     ]
    }
   ],
   "source": [
    "accident_table = soup.find('table')\n",
    "\n",
    "df = pd.read_html(str(accident_table))\n",
    "df\n"
   ]
  },
  {
   "cell_type": "code",
   "execution_count": 43,
   "metadata": {},
   "outputs": [
    {
     "name": "stdout",
     "output_type": "stream",
     "text": [
      "<tr bgcolor=\"WHITE\">\n",
      "<td align=\"left\" bordercolor=\"#000080\" valign=\"top\" width=\"85\"><font face=\"Arial\" size=\"2\"><a href=\"2019-10.htm\">11 Sep 2019</a></font></td>\n",
      "<td align=\"left\" bordercolor=\"#000080\" valign=\"top\"><font face=\"Arial\" size=\"2\">Toledo, Ohio<br/>Private\n",
      "</font></td>\n",
      "<td align=\"left\" bordercolor=\"#000080\" valign=\"top\"><font face=\"Arial\" size=\"2\">Convair CV-440F<br/>N24DR</font></td>\n",
      "<td align=\"right\" bordercolor=\"#000080\" valign=\"top\" width=\"1\"><font face=\"Arial\" size=\"2\">2/2(0)</font></td>\n",
      "</tr>\n",
      "<tr bgcolor=\"DCDCDC\">\n",
      "<td align=\"left\" bordercolor=\"#000080\" valign=\"top\" width=\"85\"><font face=\"Arial\" size=\"2\"><a href=\"2019-11.htm\">04 Oct 2019</a></font></td>\n",
      "<td align=\"left\" bordercolor=\"#000080\" valign=\"top\"><font face=\"Arial\" size=\"2\">Lviv, Ukraine<br/>Ukraine Air Alliance \n",
      "</font></td>\n",
      "<td align=\"left\" bordercolor=\"#000080\" valign=\"top\"><font face=\"Arial\" size=\"2\">Antonov An-12BK<br/>UR-CAH</font></td>\n",
      "<td align=\"right\" bordercolor=\"#000080\" valign=\"top\" width=\"1\"><font face=\"Arial\" size=\"2\">5/8(0)</font></td>\n",
      "</tr>\n"
     ]
    }
   ],
   "source": [
    "accidents = []\n",
    "\n",
    "for row in accident_table.find_all('tr')[-2:]:\n",
    "    cell = row.find_all('td')\n",
    "    accident = {\n",
    "        \"Date\": cell[0].text,\n",
    "        \"Location/Operator\": cell[1].text,\n",
    "        \"Fatalities\": cell[3].text\n",
    "    }\n",
    "    accidents.append(accident)\n",
    "    print(row)"
   ]
  },
  {
   "cell_type": "code",
   "execution_count": 51,
   "metadata": {},
   "outputs": [
    {
     "data": {
      "text/html": [
       "<div>\n",
       "<style scoped>\n",
       "    .dataframe tbody tr th:only-of-type {\n",
       "        vertical-align: middle;\n",
       "    }\n",
       "\n",
       "    .dataframe tbody tr th {\n",
       "        vertical-align: top;\n",
       "    }\n",
       "\n",
       "    .dataframe thead th {\n",
       "        text-align: right;\n",
       "    }\n",
       "</style>\n",
       "<table border=\"1\" class=\"dataframe\">\n",
       "  <thead>\n",
       "    <tr style=\"text-align: right;\">\n",
       "      <th></th>\n",
       "      <th>0</th>\n",
       "    </tr>\n",
       "  </thead>\n",
       "  <tbody>\n",
       "    <tr>\n",
       "      <th>0</th>\n",
       "      <td>0                               ...</td>\n",
       "    </tr>\n",
       "  </tbody>\n",
       "</table>\n",
       "</div>"
      ],
      "text/plain": [
       "                                                   0\n",
       "0                0                               ..."
      ]
     },
     "execution_count": 51,
     "metadata": {},
     "output_type": "execute_result"
    }
   ],
   "source": [
    "df1 = pd.DataFrame([df])\n",
    "df1"
   ]
  },
  {
   "cell_type": "code",
   "execution_count": 44,
   "metadata": {},
   "outputs": [
    {
     "ename": "AttributeError",
     "evalue": "'NavigableString' object has no attribute 'find_all'",
     "output_type": "error",
     "traceback": [
      "\u001b[0;31m---------------------------------------------------------------------------\u001b[0m",
      "\u001b[0;31mAttributeError\u001b[0m                            Traceback (most recent call last)",
      "\u001b[0;32m<ipython-input-44-0c3fcf2682f9>\u001b[0m in \u001b[0;36m<module>\u001b[0;34m\u001b[0m\n\u001b[1;32m      1\u001b[0m \u001b[0maccidents\u001b[0m \u001b[0;34m=\u001b[0m \u001b[0;34m[\u001b[0m\u001b[0;34m]\u001b[0m\u001b[0;34m\u001b[0m\u001b[0;34m\u001b[0m\u001b[0m\n\u001b[1;32m      2\u001b[0m \u001b[0;32mfor\u001b[0m \u001b[0mtr\u001b[0m \u001b[0;32min\u001b[0m \u001b[0maccident_table\u001b[0m\u001b[0;34m:\u001b[0m\u001b[0;34m\u001b[0m\u001b[0;34m\u001b[0m\u001b[0m\n\u001b[0;32m----> 3\u001b[0;31m     \u001b[0mtd\u001b[0m \u001b[0;34m=\u001b[0m \u001b[0mtr\u001b[0m\u001b[0;34m.\u001b[0m\u001b[0mfind_all\u001b[0m\u001b[0;34m(\u001b[0m\u001b[0;34m'td'\u001b[0m\u001b[0;34m)\u001b[0m\u001b[0;34m\u001b[0m\u001b[0;34m\u001b[0m\u001b[0m\n\u001b[0m\u001b[1;32m      4\u001b[0m     \u001b[0mrow\u001b[0m \u001b[0;34m=\u001b[0m \u001b[0;34m[\u001b[0m\u001b[0mtr\u001b[0m\u001b[0;34m.\u001b[0m\u001b[0mtext\u001b[0m\u001b[0;34m.\u001b[0m\u001b[0mstrip\u001b[0m\u001b[0;34m(\u001b[0m\u001b[0;34m)\u001b[0m \u001b[0;32mfor\u001b[0m \u001b[0mtr\u001b[0m \u001b[0;32min\u001b[0m \u001b[0mtd\u001b[0m \u001b[0;32mif\u001b[0m \u001b[0mtr\u001b[0m\u001b[0;34m.\u001b[0m\u001b[0mtext\u001b[0m\u001b[0;34m.\u001b[0m\u001b[0mstrip\u001b[0m\u001b[0;34m(\u001b[0m\u001b[0;34m)\u001b[0m\u001b[0;34m]\u001b[0m\u001b[0;34m\u001b[0m\u001b[0;34m\u001b[0m\u001b[0m\n\u001b[1;32m      5\u001b[0m     \u001b[0;32mif\u001b[0m \u001b[0mrow\u001b[0m\u001b[0;34m:\u001b[0m\u001b[0;34m\u001b[0m\u001b[0;34m\u001b[0m\u001b[0m\n",
      "\u001b[0;32m/usr/local/lib/python3.6/dist-packages/bs4/element.py\u001b[0m in \u001b[0;36m__getattr__\u001b[0;34m(self, attr)\u001b[0m\n\u001b[1;32m    650\u001b[0m             raise AttributeError(\n\u001b[1;32m    651\u001b[0m                 \"'%s' object has no attribute '%s'\" % (\n\u001b[0;32m--> 652\u001b[0;31m                     self.__class__.__name__, attr))\n\u001b[0m\u001b[1;32m    653\u001b[0m \u001b[0;34m\u001b[0m\u001b[0m\n\u001b[1;32m    654\u001b[0m     \u001b[0;32mdef\u001b[0m \u001b[0moutput_ready\u001b[0m\u001b[0;34m(\u001b[0m\u001b[0mself\u001b[0m\u001b[0;34m,\u001b[0m \u001b[0mformatter\u001b[0m\u001b[0;34m=\u001b[0m\u001b[0;34m\"minimal\"\u001b[0m\u001b[0;34m)\u001b[0m\u001b[0;34m:\u001b[0m\u001b[0;34m\u001b[0m\u001b[0;34m\u001b[0m\u001b[0m\n",
      "\u001b[0;31mAttributeError\u001b[0m: 'NavigableString' object has no attribute 'find_all'"
     ]
    }
   ],
   "source": [
    "accidents = []\n",
    "for tr in accident_table:\n",
    "    td = tr.find_all('td')\n",
    "    row = [tr.text.strip() for tr in td if tr.text.strip()]\n",
    "    if row:\n",
    "        accident.append(row)\n",
    "\n",
    "\n",
    "\n"
   ]
  },
  {
   "cell_type": "code",
   "execution_count": null,
   "metadata": {},
   "outputs": [],
   "source": []
  },
  {
   "cell_type": "code",
   "execution_count": null,
   "metadata": {},
   "outputs": [],
   "source": []
  }
 ],
 "metadata": {
  "kernelspec": {
   "display_name": "Python 3",
   "language": "python",
   "name": "python3"
  },
  "language_info": {
   "codemirror_mode": {
    "name": "ipython",
    "version": 3
   },
   "file_extension": ".py",
   "mimetype": "text/x-python",
   "name": "python",
   "nbconvert_exporter": "python",
   "pygments_lexer": "ipython3",
   "version": "3.6.8"
  }
 },
 "nbformat": 4,
 "nbformat_minor": 2
}
