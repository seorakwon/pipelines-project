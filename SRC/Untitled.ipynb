{
 "cells": [
  {
   "cell_type": "code",
   "execution_count": 1,
   "metadata": {},
   "outputs": [
    {
     "data": {
      "text/plain": [
       "'<!DOCTYPE html>\\n<htm'"
      ]
     },
     "execution_count": 1,
     "metadata": {},
     "output_type": "execute_result"
    }
   ],
   "source": [
    "import requests\n",
    "\n",
    "\n",
    "res = requests.get(\"https://es.wikipedia.org/wiki/Juegos_Ol%C3%ADmpicos_de_Barcelona_1992\")\n",
    "html = res.text\n",
    "html[:20]"
   ]
  },
  {
   "cell_type": "code",
   "execution_count": 2,
   "metadata": {},
   "outputs": [],
   "source": [
    "from bs4 import BeautifulSoup\n",
    "soup = BeautifulSoup(html, 'html.parser')"
   ]
  },
  {
   "cell_type": "code",
   "execution_count": 4,
   "metadata": {},
   "outputs": [
    {
     "data": {
      "text/plain": [
       "<table class=\"wikitable striped sortable col1cen col2izq col3der col4der col5der col6der\">\n",
       "<tbody><tr>\n",
       "<th>#\n",
       "</th>\n",
       "<th>País\n",
       "</th>\n",
       "<th><a class=\"image\" href=\"/wiki/Archivo:Gold_medal.svg\" title=\"Oro\"><img alt=\"Oro\" data-file-height=\"300\" data-file-width=\"300\" decoding=\"async\" height=\"18\" src=\"//upload.wikimedia.org/wikipedia/commons/thumb/1/15/Gold_medal.svg/18px-Gold_medal.svg.png\" srcset=\"//upload.wikimedia.org/wikipedia/commons/thumb/1/15/Gold_medal.svg/27px-Gold_medal.svg.png 1.5x, //upload.wikimedia.org/wikipedia/commons/thumb/1/15/Gold_medal.svg/36px-Gold_medal.svg.png 2x\" width=\"18\"/></a>\n",
       "</th>\n",
       "<th><a class=\"image\" href=\"/wiki/Archivo:Silver_medal.svg\" title=\"Plata\"><img alt=\"Plata\" data-file-height=\"300\" data-file-width=\"300\" decoding=\"async\" height=\"18\" src=\"//upload.wikimedia.org/wikipedia/commons/thumb/0/03/Silver_medal.svg/18px-Silver_medal.svg.png\" srcset=\"//upload.wikimedia.org/wikipedia/commons/thumb/0/03/Silver_medal.svg/27px-Silver_medal.svg.png 1.5x, //upload.wikimedia.org/wikipedia/commons/thumb/0/03/Silver_medal.svg/36px-Silver_medal.svg.png 2x\" width=\"18\"/></a>\n",
       "</th>\n",
       "<th><a class=\"image\" href=\"/wiki/Archivo:Bronze_medal.svg\" title=\"Bronce\"><img alt=\"Bronce\" data-file-height=\"300\" data-file-width=\"300\" decoding=\"async\" height=\"18\" src=\"//upload.wikimedia.org/wikipedia/commons/thumb/5/52/Bronze_medal.svg/18px-Bronze_medal.svg.png\" srcset=\"//upload.wikimedia.org/wikipedia/commons/thumb/5/52/Bronze_medal.svg/27px-Bronze_medal.svg.png 1.5x, //upload.wikimedia.org/wikipedia/commons/thumb/5/52/Bronze_medal.svg/36px-Bronze_medal.svg.png 2x\" width=\"18\"/></a>\n",
       "</th>\n",
       "<th>Total\n",
       "</th></tr>\n",
       "<tr>\n",
       "<td>1</td>\n",
       "<td align=\"left\"><img alt=\"Equipo Unificado\" class=\"thumbborder\" data-file-height=\"600\" data-file-width=\"900\" decoding=\"async\" height=\"15\" src=\"//upload.wikimedia.org/wikipedia/commons/thumb/a/a7/Olympic_flag.svg/22px-Olympic_flag.svg.png\" srcset=\"//upload.wikimedia.org/wikipedia/commons/thumb/a/a7/Olympic_flag.svg/33px-Olympic_flag.svg.png 1.5x, //upload.wikimedia.org/wikipedia/commons/thumb/a/a7/Olympic_flag.svg/44px-Olympic_flag.svg.png 2x\" width=\"22\"/> <a href=\"/wiki/Equipo_Unificado_en_los_Juegos_Ol%C3%ADmpicos_de_Barcelona_1992\" title=\"Equipo Unificado en los Juegos Olímpicos de Barcelona 1992\">Equipo Unificado </a> <small>(EUN)</small></td>\n",
       "<td>45</td>\n",
       "<td>38</td>\n",
       "<td>29</td>\n",
       "<td>112\n",
       "</td></tr>\n",
       "<tr>\n",
       "<td>2</td>\n",
       "<td align=\"left\"><img alt=\"Estados Unidos\" class=\"thumbborder\" data-file-height=\"650\" data-file-width=\"1235\" decoding=\"async\" height=\"12\" src=\"//upload.wikimedia.org/wikipedia/commons/thumb/a/a4/Flag_of_the_United_States.svg/22px-Flag_of_the_United_States.svg.png\" srcset=\"//upload.wikimedia.org/wikipedia/commons/thumb/a/a4/Flag_of_the_United_States.svg/33px-Flag_of_the_United_States.svg.png 1.5x, //upload.wikimedia.org/wikipedia/commons/thumb/a/a4/Flag_of_the_United_States.svg/44px-Flag_of_the_United_States.svg.png 2x\" width=\"22\"/> <a href=\"/wiki/Estados_Unidos_en_los_Juegos_Ol%C3%ADmpicos_de_Barcelona_1992\" title=\"Estados Unidos en los Juegos Olímpicos de Barcelona 1992\">Estados Unidos </a> <small>(USA)</small></td>\n",
       "<td>37</td>\n",
       "<td>34</td>\n",
       "<td>37</td>\n",
       "<td>108\n",
       "</td></tr>\n",
       "<tr>\n",
       "<td>3</td>\n",
       "<td align=\"left\"><img alt=\"Alemania\" class=\"thumbborder\" data-file-height=\"600\" data-file-width=\"1000\" decoding=\"async\" height=\"13\" src=\"//upload.wikimedia.org/wikipedia/commons/thumb/b/ba/Flag_of_Germany.svg/22px-Flag_of_Germany.svg.png\" srcset=\"//upload.wikimedia.org/wikipedia/commons/thumb/b/ba/Flag_of_Germany.svg/33px-Flag_of_Germany.svg.png 1.5x, //upload.wikimedia.org/wikipedia/commons/thumb/b/ba/Flag_of_Germany.svg/44px-Flag_of_Germany.svg.png 2x\" width=\"22\"/> <a href=\"/wiki/Alemania_en_los_Juegos_Ol%C3%ADmpicos_de_Barcelona_1992\" title=\"Alemania en los Juegos Olímpicos de Barcelona 1992\">Alemania </a> <small>(GER)</small></td>\n",
       "<td>33</td>\n",
       "<td>21</td>\n",
       "<td>28</td>\n",
       "<td>82\n",
       "</td></tr>\n",
       "<tr>\n",
       "<td>4</td>\n",
       "<td align=\"left\"><img alt=\"China\" class=\"thumbborder\" data-file-height=\"600\" data-file-width=\"900\" decoding=\"async\" height=\"15\" src=\"//upload.wikimedia.org/wikipedia/commons/thumb/f/fa/Flag_of_the_People%27s_Republic_of_China.svg/22px-Flag_of_the_People%27s_Republic_of_China.svg.png\" srcset=\"//upload.wikimedia.org/wikipedia/commons/thumb/f/fa/Flag_of_the_People%27s_Republic_of_China.svg/33px-Flag_of_the_People%27s_Republic_of_China.svg.png 1.5x, //upload.wikimedia.org/wikipedia/commons/thumb/f/fa/Flag_of_the_People%27s_Republic_of_China.svg/44px-Flag_of_the_People%27s_Republic_of_China.svg.png 2x\" width=\"22\"/> <a href=\"/wiki/China_en_los_Juegos_Ol%C3%ADmpicos_de_Barcelona_1992\" title=\"China en los Juegos Olímpicos de Barcelona 1992\">China </a> <small>(CHN)</small></td>\n",
       "<td>16</td>\n",
       "<td>22</td>\n",
       "<td>16</td>\n",
       "<td>54\n",
       "</td></tr>\n",
       "<tr>\n",
       "<td>5</td>\n",
       "<td align=\"left\"><img alt=\"Cuba\" class=\"thumbborder\" data-file-height=\"600\" data-file-width=\"1200\" decoding=\"async\" height=\"11\" src=\"//upload.wikimedia.org/wikipedia/commons/thumb/b/bd/Flag_of_Cuba.svg/22px-Flag_of_Cuba.svg.png\" srcset=\"//upload.wikimedia.org/wikipedia/commons/thumb/b/bd/Flag_of_Cuba.svg/33px-Flag_of_Cuba.svg.png 1.5x, //upload.wikimedia.org/wikipedia/commons/thumb/b/bd/Flag_of_Cuba.svg/44px-Flag_of_Cuba.svg.png 2x\" width=\"22\"/> <a href=\"/wiki/Cuba_en_los_Juegos_Ol%C3%ADmpicos_de_Barcelona_1992\" title=\"Cuba en los Juegos Olímpicos de Barcelona 1992\">Cuba </a> <small>(CUB)</small></td>\n",
       "<td>14</td>\n",
       "<td>6</td>\n",
       "<td>11</td>\n",
       "<td>31\n",
       "</td></tr>\n",
       "<tr bgcolor=\"ccccff\">\n",
       "<td>6</td>\n",
       "<td align=\"left\"><img alt=\"España\" class=\"thumbborder\" data-file-height=\"500\" data-file-width=\"750\" decoding=\"async\" height=\"15\" src=\"//upload.wikimedia.org/wikipedia/commons/thumb/9/9a/Flag_of_Spain.svg/22px-Flag_of_Spain.svg.png\" srcset=\"//upload.wikimedia.org/wikipedia/commons/thumb/9/9a/Flag_of_Spain.svg/33px-Flag_of_Spain.svg.png 1.5x, //upload.wikimedia.org/wikipedia/commons/thumb/9/9a/Flag_of_Spain.svg/44px-Flag_of_Spain.svg.png 2x\" width=\"22\"/> <a href=\"/wiki/Espa%C3%B1a_en_los_Juegos_Ol%C3%ADmpicos_de_Barcelona_1992\" title=\"España en los Juegos Olímpicos de Barcelona 1992\">España </a> <small>(ESP)</small></td>\n",
       "<td>13</td>\n",
       "<td>7</td>\n",
       "<td>2</td>\n",
       "<td>22\n",
       "</td></tr>\n",
       "<tr>\n",
       "<td>7</td>\n",
       "<td align=\"left\"><img alt=\"Corea del Sur\" class=\"thumbborder\" data-file-height=\"600\" data-file-width=\"900\" decoding=\"async\" height=\"15\" src=\"//upload.wikimedia.org/wikipedia/commons/thumb/a/a9/Flag_of_South_Korea_%281984%E2%80%931997%29.svg/22px-Flag_of_South_Korea_%281984%E2%80%931997%29.svg.png\" srcset=\"//upload.wikimedia.org/wikipedia/commons/thumb/a/a9/Flag_of_South_Korea_%281984%E2%80%931997%29.svg/33px-Flag_of_South_Korea_%281984%E2%80%931997%29.svg.png 1.5x, //upload.wikimedia.org/wikipedia/commons/thumb/a/a9/Flag_of_South_Korea_%281984%E2%80%931997%29.svg/44px-Flag_of_South_Korea_%281984%E2%80%931997%29.svg.png 2x\" width=\"22\"/> <a href=\"/wiki/Corea_del_Sur_en_los_Juegos_Ol%C3%ADmpicos_de_Barcelona_1992\" title=\"Corea del Sur en los Juegos Olímpicos de Barcelona 1992\">Corea del Sur </a> <small>(KOR)</small></td>\n",
       "<td>12</td>\n",
       "<td>5</td>\n",
       "<td>12</td>\n",
       "<td>29\n",
       "</td></tr>\n",
       "<tr>\n",
       "<td>8</td>\n",
       "<td align=\"left\"><img alt=\"Hungría\" class=\"thumbborder\" data-file-height=\"600\" data-file-width=\"1200\" decoding=\"async\" height=\"11\" src=\"//upload.wikimedia.org/wikipedia/commons/thumb/c/c1/Flag_of_Hungary.svg/22px-Flag_of_Hungary.svg.png\" srcset=\"//upload.wikimedia.org/wikipedia/commons/thumb/c/c1/Flag_of_Hungary.svg/33px-Flag_of_Hungary.svg.png 1.5x, //upload.wikimedia.org/wikipedia/commons/thumb/c/c1/Flag_of_Hungary.svg/44px-Flag_of_Hungary.svg.png 2x\" width=\"22\"/> <a href=\"/wiki/Hungr%C3%ADa_en_los_Juegos_Ol%C3%ADmpicos_de_Barcelona_1992\" title=\"Hungría en los Juegos Olímpicos de Barcelona 1992\">Hungría </a> <small>(HUN)</small></td>\n",
       "<td>11</td>\n",
       "<td>12</td>\n",
       "<td>7</td>\n",
       "<td>30\n",
       "</td></tr>\n",
       "<tr>\n",
       "<td>9</td>\n",
       "<td align=\"left\"><img alt=\"Francia\" class=\"thumbborder\" data-file-height=\"600\" data-file-width=\"900\" decoding=\"async\" height=\"15\" src=\"//upload.wikimedia.org/wikipedia/commons/thumb/c/c3/Flag_of_France.svg/22px-Flag_of_France.svg.png\" srcset=\"//upload.wikimedia.org/wikipedia/commons/thumb/c/c3/Flag_of_France.svg/33px-Flag_of_France.svg.png 1.5x, //upload.wikimedia.org/wikipedia/commons/thumb/c/c3/Flag_of_France.svg/44px-Flag_of_France.svg.png 2x\" width=\"22\"/> <a href=\"/wiki/Francia_en_los_Juegos_Ol%C3%ADmpicos_de_Barcelona_1992\" title=\"Francia en los Juegos Olímpicos de Barcelona 1992\">Francia </a> <small>(FRA)</small></td>\n",
       "<td>8</td>\n",
       "<td>5</td>\n",
       "<td>16</td>\n",
       "<td>29\n",
       "</td></tr>\n",
       "<tr>\n",
       "<td>10</td>\n",
       "<td align=\"left\"><img alt=\"Australia\" class=\"thumbborder\" data-file-height=\"640\" data-file-width=\"1280\" decoding=\"async\" height=\"11\" src=\"//upload.wikimedia.org/wikipedia/commons/thumb/b/b9/Flag_of_Australia.svg/22px-Flag_of_Australia.svg.png\" srcset=\"//upload.wikimedia.org/wikipedia/commons/thumb/b/b9/Flag_of_Australia.svg/33px-Flag_of_Australia.svg.png 1.5x, //upload.wikimedia.org/wikipedia/commons/thumb/b/b9/Flag_of_Australia.svg/44px-Flag_of_Australia.svg.png 2x\" width=\"22\"/> <a href=\"/wiki/Australia_en_los_Juegos_Ol%C3%ADmpicos_de_Barcelona_1992\" title=\"Australia en los Juegos Olímpicos de Barcelona 1992\">Australia </a> <small>(AUS)</small></td>\n",
       "<td>7</td>\n",
       "<td>9</td>\n",
       "<td>11</td>\n",
       "<td>27\n",
       "</td></tr></tbody></table>"
      ]
     },
     "execution_count": 4,
     "metadata": {},
     "output_type": "execute_result"
    }
   ],
   "source": [
    "tabla_medallero = soup.find_all('table')[-4]\n",
    "tabla_medallero"
   ]
  },
  {
   "cell_type": "code",
   "execution_count": 10,
   "metadata": {},
   "outputs": [],
   "source": [
    "filas = tabla_medallero.find_all('tr')\n"
   ]
  },
  {
   "cell_type": "code",
   "execution_count": null,
   "metadata": {},
   "outputs": [],
   "source": [
    "medallero = []\n",
    "for fila in filas:\n",
    "    celdas = fila.find_all('td')\n",
    "    medallas = {\n",
    "        \"pais\": celdas[1].find('a').text.strip(),\n",
    "        \"oro\": int(celdas[2].text),\n",
    "        \"plata\": int(celdas[3].text),\n",
    "        \"bronce\": int(celdas[4].text)\n",
    "    }\n",
    "    medallero.append(medallas)\n",
    "    \n",
    "print(medallero)"
   ]
  }
 ],
 "metadata": {
  "kernelspec": {
   "display_name": "Python 3",
   "language": "python",
   "name": "python3"
  },
  "language_info": {
   "codemirror_mode": {
    "name": "ipython",
    "version": 3
   },
   "file_extension": ".py",
   "mimetype": "text/x-python",
   "name": "python",
   "nbconvert_exporter": "python",
   "pygments_lexer": "ipython3",
   "version": "3.6.8"
  }
 },
 "nbformat": 4,
 "nbformat_minor": 2
}
